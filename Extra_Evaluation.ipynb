{
  "nbformat": 4,
  "nbformat_minor": 0,
  "metadata": {
    "colab": {
      "name": "Extra Evaluation.ipynb",
      "provenance": [],
      "collapsed_sections": [],
      "authorship_tag": "ABX9TyOTzAH3SL8QWs1iM3nDrset"
    },
    "kernelspec": {
      "name": "python3",
      "display_name": "Python 3"
    },
    "language_info": {
      "name": "python"
    }
  },
  "cells": [
    {
      "cell_type": "markdown",
      "metadata": {
        "id": "1UsrKhzTLHQc"
      },
      "source": [
        "Dataset for questions 1-3 may be loaded from this [link](https://raw.githubusercontent.com/Yorko/mlcourse.ai/master/data/telecom_churn.csv)."
      ]
    },
    {
      "cell_type": "code",
      "metadata": {
        "id": "hrWtCBYxOltT"
      },
      "source": [
        "dataset = # Type your code here"
      ],
      "execution_count": null,
      "outputs": []
    },
    {
      "cell_type": "markdown",
      "metadata": {
        "id": "JssNB5zSLW6J"
      },
      "source": [
        "Q1. How many records are there where the state name starts with 'W'?"
      ]
    },
    {
      "cell_type": "code",
      "metadata": {
        "id": "0cLcqjuKLWWF"
      },
      "source": [
        "def q1():\n",
        "    # Type your code here\n",
        "    return # Type your code here\n",
        "\n",
        "q1()"
      ],
      "execution_count": null,
      "outputs": []
    },
    {
      "cell_type": "markdown",
      "metadata": {
        "id": "ok8YKTtKLgyG"
      },
      "source": [
        "Q2. What is the percentage of voice mail plan for churn=0 users?"
      ]
    },
    {
      "cell_type": "code",
      "metadata": {
        "id": "i-iywmJDLVsL"
      },
      "source": [
        "def q2():\n",
        "  # Type your code here\n",
        "  return # Type your code here\n",
        "\n",
        "q2()"
      ],
      "execution_count": null,
      "outputs": []
    },
    {
      "cell_type": "markdown",
      "metadata": {
        "id": "zCm_D8CBL1Wx"
      },
      "source": [
        "Q3. How many customers made day calls below average for whom day charge was above average?"
      ]
    },
    {
      "cell_type": "code",
      "metadata": {
        "id": "zRN_2IEuLPgT"
      },
      "source": [
        "def q3():\n",
        "  # Type your code here\n",
        "  return # Type your code here\n",
        "\n",
        "q3()"
      ],
      "execution_count": null,
      "outputs": []
    },
    {
      "cell_type": "markdown",
      "metadata": {
        "id": "5voNOEl2OZ3l"
      },
      "source": [
        "\n",
        "\n",
        "---\n",
        "\n"
      ]
    },
    {
      "cell_type": "code",
      "metadata": {
        "id": "P7UaPOLNOYAz"
      },
      "source": [
        "# Dataset for questions 4-7\n",
        "data = {'Refinery Location':['Baytown','Baton Rouge','Texas City','Lake Charles','Whiting','Beaumont','Philadelphia','Pascagoula','Deer Park','Wood River','Port Arthur'],\n",
        "        'Company':['Texas ExxonMobil','Louisiana ExxonMobil','Texas BP','Louisiana Citgo','Indiana BP','Texas ExxonMobil','Pennsylvania Sunoco','Mississippi Chevron','Texas partnership','Illinois WRB','Texas Premcor'],\n",
        "        'Capacity':['567,000','503,000','467,720','429,500','410,000','348,500','335,000','330,000','329,800','306,000','289,000']}"
      ],
      "execution_count": 4,
      "outputs": []
    },
    {
      "cell_type": "markdown",
      "metadata": {
        "id": "IBm5_Gg3OY7Q"
      },
      "source": [
        "Load the dictionary `data` created in the above block into a Pandas DataFrame named `df`."
      ]
    },
    {
      "cell_type": "code",
      "metadata": {
        "id": "7Kl5_To3PA91"
      },
      "source": [
        "df = # Type your code here"
      ],
      "execution_count": null,
      "outputs": []
    },
    {
      "cell_type": "markdown",
      "metadata": {
        "id": "lCPHvdFfPDuJ"
      },
      "source": [
        "Q4. What is the IQR for the 'Capacity' attribute?"
      ]
    },
    {
      "cell_type": "code",
      "metadata": {
        "id": "DLTLk2YkPIQK"
      },
      "source": [
        "def q4():\n",
        "  # Type your code here\n",
        "  return # Type your code here\n",
        "\n",
        "\n",
        "q4()"
      ],
      "execution_count": null,
      "outputs": []
    },
    {
      "cell_type": "markdown",
      "metadata": {
        "id": "f7rUcJ7XP3Yt"
      },
      "source": [
        "Q5. Compute the skewness and kurtosis of the 'Capacity' attribute, rounded off two two decimal places."
      ]
    },
    {
      "cell_type": "code",
      "metadata": {
        "id": "Srv8mSTMP8mN"
      },
      "source": [
        "def q5():\n",
        "  # Type your code here\n",
        "  return (skewness_value, kurtosis_value)\n",
        "\n",
        "q5()"
      ],
      "execution_count": null,
      "outputs": []
    },
    {
      "cell_type": "markdown",
      "metadata": {
        "id": "fvwz6PrNTDB_"
      },
      "source": [
        "\n",
        "\n",
        "---\n",
        "\n"
      ]
    },
    {
      "cell_type": "markdown",
      "metadata": {
        "id": "BZab4Pv7TFUp"
      },
      "source": [
        "Import necessary libraries for Regression questions 6-8. Dataset can be loaded form [here](https://raw.githubusercontent.com/dayanandv/Data-Science/main/dataset/dataset1.csv)."
      ]
    },
    {
      "cell_type": "code",
      "metadata": {
        "id": "C41Eu_wETEIQ"
      },
      "source": [
        ""
      ],
      "execution_count": 5,
      "outputs": []
    },
    {
      "cell_type": "markdown",
      "metadata": {
        "id": "TCDz6OVsjnrt"
      },
      "source": [
        "Load data into DataFrame, split into X and Y, split DataFrame further into train (2/3rd) and test (1/3rd)."
      ]
    },
    {
      "cell_type": "code",
      "metadata": {
        "id": "WiBW3ohqjsWM"
      },
      "source": [
        ""
      ],
      "execution_count": null,
      "outputs": []
    },
    {
      "cell_type": "markdown",
      "metadata": {
        "id": "vWFfeSQ-g7HD"
      },
      "source": [
        "Q6. Build a Linear Regression model by hand and calculate the coeffcients b1 and b0 for the model."
      ]
    },
    {
      "cell_type": "code",
      "metadata": {
        "id": "hfMnXLo1gtWo"
      },
      "source": [
        "def q6(): \n",
        "  # Mean X and Y\n",
        "  mean_x = \n",
        "  mean_y = \n",
        "\n",
        "  # Total number of values\n",
        "  n = \n",
        "\n",
        "  # Using the formula to calculate b1 and b2\n",
        "  numer = 0\n",
        "  denom = 0\n",
        "  for i in range(n):\n",
        "      numer += \n",
        "      denom += \n",
        "  b1 = numer / denom\n",
        "  b0 = mean_y - (b1 * mean_x)\n",
        "\n",
        "  # Return coefficients\n",
        "  return b1, b0\n",
        "\n",
        "q6()"
      ],
      "execution_count": null,
      "outputs": []
    },
    {
      "cell_type": "markdown",
      "metadata": {
        "id": "CZd0J5Siijon"
      },
      "source": [
        "Q7. Build a Linear Regression model using sklearn and compute the absolute difference in RMSE of the predictions on the X_test data when you compare it to the model built in Q6."
      ]
    },
    {
      "cell_type": "code",
      "metadata": {
        "id": "WXLwyBX3j5p5"
      },
      "source": [
        "def q7():\n",
        "\n",
        "  # Type your code here\n",
        "  return difference_in_rmse\n",
        "\n",
        "q7()"
      ],
      "execution_count": null,
      "outputs": []
    }
  ]
}