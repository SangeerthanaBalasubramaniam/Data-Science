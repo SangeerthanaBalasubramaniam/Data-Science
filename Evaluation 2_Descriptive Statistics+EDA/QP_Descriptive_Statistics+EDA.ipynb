{
  "nbformat": 4,
  "nbformat_minor": 0,
  "metadata": {
    "colab": {
      "name": "QP_Descriptive Statistics+EDA.ipynb",
      "provenance": [],
      "collapsed_sections": [],
      "toc_visible": true
    },
    "kernelspec": {
      "name": "python3",
      "display_name": "Python 3"
    },
    "language_info": {
      "name": "python"
    }
  },
  "cells": [
    {
      "cell_type": "markdown",
      "metadata": {
        "id": "JvWmEYvLe672"
      },
      "source": [
        "# Read and Preprocess"
      ]
    },
    {
      "cell_type": "markdown",
      "metadata": {
        "id": "sbVizKzNcO35"
      },
      "source": [
        "#Instruction: Import required libraries here"
      ]
    },
    {
      "cell_type": "code",
      "metadata": {
        "id": "bva5jvJ9ITlZ"
      },
      "source": [
        "# Import"
      ],
      "execution_count": null,
      "outputs": []
    },
    {
      "cell_type": "code",
      "metadata": {
        "id": "CtxISvR7fqsR"
      },
      "source": [
        "import pandas as pd\n",
        "import numpy as np"
      ],
      "execution_count": null,
      "outputs": []
    },
    {
      "cell_type": "markdown",
      "metadata": {
        "id": "wE6h5_Yfcbb5"
      },
      "source": [
        "#Instruction: From this [link](https://github.com/dayanandv/Data-Science/tree/main/Evaluation%201_Preprocessing), read the following files into dataframes:\n",
        "\n",
        "    \n",
        "\n",
        "1.   LokSabhaMPs.xls to the dataframe `mps`\n",
        "2.   Each sheet (there are six in total) of the file Seventeenth Lok Sabha_Attendance.xlsx to a list of DataFrames named `attendance`; i.e. each element of the list will be a DataFrame corresponding to a sheet in the file which represents one session.\n",
        "\n",
        "Preprocess, so that:\n",
        "\n",
        "1. The dataframe header map to the row number where column names are listed.\n",
        "2. Extra space at the end of Member Name are handled.\n",
        "\n",
        "Description of the attendance dataset from http://loksabhaph.nic.in\n",
        "\n",
        "S= The Member Signed the Register\n",
        "\n",
        "S*= The Member signed through Mobile Attendance Application\n",
        "\n",
        "S#= The Member signed through both the Register & Mobile Attendance Application\n",
        "\n",
        "NS= The Member did not sign the register. (A Member might have attended the sitting of the House on a particular day but did not sign or forgot to sign the Register for that day )\n",
        "\n",
        "NS@= Member was present but forgot to sign the Attendance Register\n",
        "\n",
        "NR= Not Required. (Hon'ble Speaker, Deputy Speaker, Prime Minister and Minister usually do not sign the Members' Attendance Register)\n"
      ]
    },
    {
      "cell_type": "code",
      "metadata": {
        "id": "57ANXZqhcXSb"
      },
      "source": [
        "mps = # Write your code here"
      ],
      "execution_count": null,
      "outputs": []
    },
    {
      "cell_type": "code",
      "metadata": {
        "id": "bhX327dCdyWD"
      },
      "source": [
        "attendance = []\n",
        "# Write your code here"
      ],
      "execution_count": null,
      "outputs": []
    },
    {
      "cell_type": "markdown",
      "metadata": {
        "id": "7OhvfFldcIKg"
      },
      "source": [
        "# Q1. Edit the function q1 such that it returns a tuple containing the the number of rows of `mps` and number of elements in `attendance` respectively."
      ]
    },
    {
      "cell_type": "code",
      "metadata": {
        "id": "gVT3UoGicKzh"
      },
      "source": [
        "def q1():\n",
        "  # Write your code here\n",
        "  return (nor_mps, nor_attendance)\n",
        "\n",
        "q1()"
      ],
      "execution_count": null,
      "outputs": []
    },
    {
      "cell_type": "markdown",
      "metadata": {
        "id": "Ftnn61kJ0rKV"
      },
      "source": [
        "#Instruction: Have the attendance percentages of each session (sheet) calculated and added to its respective dataframe as a column named `Attendance Percentage`."
      ]
    },
    {
      "cell_type": "code",
      "metadata": {
        "id": "N1RK_enL1NMZ"
      },
      "source": [
        "# Write your code here"
      ],
      "execution_count": null,
      "outputs": []
    },
    {
      "cell_type": "markdown",
      "metadata": {
        "id": "pGYny8A-iOVQ"
      },
      "source": [
        "#Q2. Edit the function q2 such that it returns the percentage of MPs among those who attended session 1 (round to two decimal places) who had 100% attendance."
      ]
    },
    {
      "cell_type": "code",
      "metadata": {
        "id": "p9d5M642hUiY"
      },
      "source": [
        "def q2():\n",
        "  # Write your code here\n",
        "  return round(percentage,2)\n",
        "\n",
        "q2()"
      ],
      "execution_count": null,
      "outputs": []
    },
    {
      "cell_type": "markdown",
      "metadata": {
        "id": "d3tDqa1iwMKz"
      },
      "source": [
        "#Q3. Edit the function q3 such that it returns the skew value (round to two decimal places) of the Attendance Percentages of MPs in session 2 (sheet 2).  "
      ]
    },
    {
      "cell_type": "code",
      "metadata": {
        "id": "UoNrGeJswz1W"
      },
      "source": [
        "def q3():\n",
        "  # Write your code here\n",
        "  return round(skew,2)\n",
        "\n",
        "q3()"
      ],
      "execution_count": null,
      "outputs": []
    },
    {
      "cell_type": "markdown",
      "metadata": {
        "id": "1TBy6RJ6yKQx"
      },
      "source": [
        "#Q4. Edit the function q4 such that it returns the kurtosis value of the number of days that the MPs have not signed in the register during session 3 (sheet 3).  "
      ]
    },
    {
      "cell_type": "code",
      "metadata": {
        "id": "Y-jVeoh1ySBg"
      },
      "source": [
        "def q4():\n",
        "  # Write your code here\n",
        "  return round(kurt,2)\n",
        "\n",
        "q4()"
      ],
      "execution_count": null,
      "outputs": []
    },
    {
      "cell_type": "markdown",
      "metadata": {
        "id": "eLeL-slM0Zsx"
      },
      "source": [
        "#Instruction: Plot a histogram of the Attendance Percentage' column of session 4 (sheet 4) and use it to answer the following question."
      ]
    },
    {
      "cell_type": "code",
      "metadata": {
        "id": "7t6qE3AY4U8L"
      },
      "source": [
        "# Write your code here"
      ],
      "execution_count": null,
      "outputs": []
    },
    {
      "cell_type": "markdown",
      "metadata": {
        "id": "QoFIx4Al2Fgr"
      },
      "source": [
        "#Q5. Edit the function q5 such that it returns the boolean value corresponding to whether the histogram of the `Attendance Percentage` column of any arbitrary session shows a heavily skewed distribution (True/False). The session number is  to be passed onto the function as an integer argument.\n",
        "\n",
        "For this example, assume that we call a distribution as heavily skewed if it's absolute skew value is **more than 1.7**."
      ]
    },
    {
      "cell_type": "code",
      "metadata": {
        "id": "RzAId78AzTPb"
      },
      "source": [
        "def q5(session_number):\n",
        "  # Write your code here\n",
        "  return answer\n",
        "\n",
        "q5(5)"
      ],
      "execution_count": null,
      "outputs": []
    },
    {
      "cell_type": "markdown",
      "metadata": {
        "id": "VnMSEtYW60dC"
      },
      "source": [
        "#Q6. Edit the function q6 such that it goes through the mean values of the attendance percentages of each session and returns a list named `outliers` with the number(s) of the session(s) which is/are outlier(s). If there are no outliers return an empty list."
      ]
    },
    {
      "cell_type": "code",
      "metadata": {
        "id": "OV_97iCj4PJq"
      },
      "source": [
        "def q6():\n",
        "  #Write your code here\n",
        "  return outliers\n",
        "\n",
        "q6()"
      ],
      "execution_count": null,
      "outputs": []
    },
    {
      "cell_type": "markdown",
      "metadata": {
        "id": "RADBblUEG9vl"
      },
      "source": [
        "#Q7. Edit the function q7 such that it returns a list named `dnos` having the 'Division No' (in the ascending order) of those MPs who are the most consistent in their attendance, as per the conditions listed below.\n",
        "\n",
        "* Consider only those MPs who have attended at least two sessions. \n",
        "* For this example, assume that consistency can be calculated via the standard \n",
        "deviation of their attendance percentages across sessions. The lesser the standard deviation, better consistant the attendace is."
      ]
    },
    {
      "cell_type": "code",
      "metadata": {
        "id": "mkHRkK3XIR5M"
      },
      "source": [
        "def q7():\n",
        "  # Write your code here\n",
        "  return dnos\n",
        "\n",
        "q7()"
      ],
      "execution_count": null,
      "outputs": []
    }
  ]
}