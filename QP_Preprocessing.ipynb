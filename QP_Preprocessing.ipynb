{
  "nbformat": 4,
  "nbformat_minor": 0,
  "metadata": {
    "colab": {
      "name": "QP_Preprocessing.ipynb",
      "provenance": [],
      "collapsed_sections": [],
      "toc_visible": true
    },
    "kernelspec": {
      "name": "python3",
      "display_name": "Python 3"
    },
    "language_info": {
      "name": "python"
    }
  },
  "cells": [
    {
      "cell_type": "markdown",
      "metadata": {
        "id": "G7zmOM_nqL9k"
      },
      "source": [
        "Import required libraries here"
      ]
    },
    {
      "cell_type": "code",
      "metadata": {
        "id": "ZsCQhDPGqAUq"
      },
      "source": [
        "#Import\n",
        "import pandas as pd"
      ],
      "execution_count": 2,
      "outputs": []
    },
    {
      "cell_type": "markdown",
      "metadata": {
        "id": "hYYWZ09zdvKH"
      },
      "source": [
        "Read the file [food.csv](https://corgis-edu.github.io/corgis/datasets/csv/food/food.csv) into a DataFrame named `df`."
      ]
    },
    {
      "cell_type": "code",
      "metadata": {
        "id": "e2IcQLjtq1lp"
      },
      "source": [
        "# Write your code here\n",
        "df = pd.read_csv(\"https://corgis-edu.github.io/corgis/datasets/csv/food/food.csv\")"
      ],
      "execution_count": 3,
      "outputs": []
    },
    {
      "cell_type": "markdown",
      "metadata": {
        "id": "_D6htw9B1U_6"
      },
      "source": [
        "# Q1:  Edit the function `q1` such that it returns the number of rows of `df`."
      ]
    },
    {
      "cell_type": "code",
      "metadata": {
        "id": "9aqaZbYa1UM9",
        "colab": {
          "base_uri": "https://localhost:8080/"
        },
        "outputId": "0910f45f-ffb4-43bd-c862-c7cba0a06544"
      },
      "source": [
        "def q1():\n",
        "  # Write your code here\n",
        "  row, col = df.shape\n",
        "  return row# Write your code here\n",
        "\n",
        "q1()"
      ],
      "execution_count": 4,
      "outputs": [
        {
          "output_type": "execute_result",
          "data": {
            "text/plain": [
              "7083"
            ]
          },
          "metadata": {},
          "execution_count": 4
        }
      ]
    },
    {
      "cell_type": "markdown",
      "metadata": {
        "id": "VOo02P1YzG6n"
      },
      "source": [
        "From `df`, create another dataframe, named `data` having only the following columns:\n",
        "\n",
        "* Category\n",
        "* Description\n",
        "*\tNutrient Data Bank Number\n",
        "* Data.Cholesterol\n",
        "* Data.Kilocalories\n",
        "* Data.Protein\n",
        "* Data.Sugar Total\n",
        "* Data.Water\n",
        "\n"
      ]
    },
    {
      "cell_type": "code",
      "source": [
        "df.columns"
      ],
      "metadata": {
        "colab": {
          "base_uri": "https://localhost:8080/"
        },
        "id": "VdlA0Ik6qItZ",
        "outputId": "46f6aef0-2faf-4574-fdfc-5a53a14c0e62"
      },
      "execution_count": 8,
      "outputs": [
        {
          "output_type": "execute_result",
          "data": {
            "text/plain": [
              "Index(['Category', 'Description', 'Nutrient Data Bank Number',\n",
              "       'Data.Alpha Carotene', 'Data.Beta Carotene', 'Data.Beta Cryptoxanthin',\n",
              "       'Data.Carbohydrate', 'Data.Cholesterol', 'Data.Choline', 'Data.Fiber',\n",
              "       'Data.Lutein and Zeaxanthin', 'Data.Lycopene', 'Data.Niacin',\n",
              "       'Data.Protein', 'Data.Retinol', 'Data.Riboflavin', 'Data.Selenium',\n",
              "       'Data.Sugar Total', 'Data.Thiamin', 'Data.Water',\n",
              "       'Data.Fat.Monosaturated Fat', 'Data.Fat.Polysaturated Fat',\n",
              "       'Data.Fat.Saturated Fat', 'Data.Fat.Total Lipid',\n",
              "       'Data.Major Minerals.Calcium', 'Data.Major Minerals.Copper',\n",
              "       'Data.Major Minerals.Iron', 'Data.Major Minerals.Magnesium',\n",
              "       'Data.Major Minerals.Phosphorus', 'Data.Major Minerals.Potassium',\n",
              "       'Data.Major Minerals.Sodium', 'Data.Major Minerals.Zinc',\n",
              "       'Data.Vitamins.Vitamin A - RAE', 'Data.Vitamins.Vitamin B12',\n",
              "       'Data.Vitamins.Vitamin B6', 'Data.Vitamins.Vitamin C',\n",
              "       'Data.Vitamins.Vitamin E', 'Data.Vitamins.Vitamin K'],\n",
              "      dtype='object')"
            ]
          },
          "metadata": {},
          "execution_count": 8
        }
      ]
    },
    {
      "cell_type": "code",
      "metadata": {
        "id": "scBSrNwszeeV"
      },
      "source": [
        "data = df[['Category', 'Description', 'Nutrient Data Bank Number', 'Data.Cholesterol', 'Data.Protein', 'Data.Sugar Total', 'Data.Water']]\n",
        "# Write your code here"
      ],
      "execution_count": 9,
      "outputs": []
    },
    {
      "cell_type": "markdown",
      "metadata": {
        "id": "e-k3WNZM2std"
      },
      "source": [
        "# Q2: Edit the function q2 such that it sets the index of `data` to be the column `Nutrient Data Bank Number` permanently (`inplace`)."
      ]
    },
    {
      "cell_type": "code",
      "metadata": {
        "id": "aHMML-Sl23aq"
      },
      "source": [
        "def q2():\n",
        "  #Write your code here\n",
        "  data.set_index('Nutrient Data Bank Number', inplace=True)\n",
        "\n",
        "q2()"
      ],
      "execution_count": 10,
      "outputs": []
    },
    {
      "cell_type": "markdown",
      "metadata": {
        "id": "qMOQ9vc419Ze"
      },
      "source": [
        "# Q3:  Edit the function `q3` such that it returns the number of columns of `data`.\n",
        "Return type: int"
      ]
    },
    {
      "cell_type": "code",
      "metadata": {
        "id": "47Uo-a592Kv5",
        "colab": {
          "base_uri": "https://localhost:8080/"
        },
        "outputId": "30f12aeb-3535-4a8f-94f0-d993537089de"
      },
      "source": [
        "def q3():\n",
        "  # Write your code here\n",
        "  row, col = data.shape\n",
        "  return col # Write your code here\n",
        "\n",
        "q3()"
      ],
      "execution_count": 11,
      "outputs": [
        {
          "output_type": "execute_result",
          "data": {
            "text/plain": [
              "6"
            ]
          },
          "metadata": {},
          "execution_count": 11
        }
      ]
    },
    {
      "cell_type": "markdown",
      "metadata": {
        "id": "Hc_WLr_N-A_d"
      },
      "source": [
        "# Q4:  Edit the function `q4` such that it returns the total number of columns of `null` elements in the entire dataframe.\n",
        "Return type: numpy.int64"
      ]
    },
    {
      "cell_type": "code",
      "metadata": {
        "id": "I6-7IsxR-J0b",
        "colab": {
          "base_uri": "https://localhost:8080/"
        },
        "outputId": "ab8d28eb-1937-4da6-9f69-667089d9f6f4"
      },
      "source": [
        "def q4():\n",
        "  # Write your code here\n",
        "  count = data.isnull().sum().sum()\n",
        "  return count # Write your code here\n",
        "\n",
        "q4()"
      ],
      "execution_count": 12,
      "outputs": [
        {
          "output_type": "execute_result",
          "data": {
            "text/plain": [
              "0"
            ]
          },
          "metadata": {},
          "execution_count": 12
        }
      ]
    },
    {
      "cell_type": "markdown",
      "metadata": {
        "id": "7ytmeGtxq2mL"
      },
      "source": [
        "# Q5:  Edit the function `q5` such that it returns the total number of unique values in the columns `Category`.\n",
        "Return type: int"
      ]
    },
    {
      "cell_type": "code",
      "metadata": {
        "id": "EJroQ6f-Clqt",
        "colab": {
          "base_uri": "https://localhost:8080/"
        },
        "outputId": "8c9df0c9-fc6e-43b3-a2f7-d2a51ab8dc34"
      },
      "source": [
        "def q5():\n",
        "  # Write your code here  \n",
        "  unique_value = data['Category'].nunique()\n",
        "  return unique_value # Write your code here\n",
        "\n",
        "q5()"
      ],
      "execution_count": 13,
      "outputs": [
        {
          "output_type": "execute_result",
          "data": {
            "text/plain": [
              "2429"
            ]
          },
          "metadata": {},
          "execution_count": 13
        }
      ]
    },
    {
      "cell_type": "markdown",
      "metadata": {
        "id": "RtHXSuDeISR8"
      },
      "source": [
        "# Q6: Edit the function `q6` such that it returns the `series` (1-D dataframe) having the largest five values of `Data.Protein` in descending order.\n",
        "\n",
        "Return type: pandas.core.series.Series"
      ]
    },
    {
      "cell_type": "code",
      "metadata": {
        "colab": {
          "base_uri": "https://localhost:8080/"
        },
        "id": "aUlEQRWTtOCx",
        "outputId": "f8148034-ee1c-4703-e30c-0a54ae1251a9"
      },
      "source": [
        "def q6():\n",
        "  # Write your code here\n",
        "  values=pd.Series(data['Data.Protein'])\n",
        "  sorting=values.nlargest(5)  \n",
        "  return sorting# Write your code here\n",
        "\n",
        "q6()"
      ],
      "execution_count": 14,
      "outputs": [
        {
          "output_type": "execute_result",
          "data": {
            "text/plain": [
              "Nutrient Data Bank Number\n",
              "95230000    78.13\n",
              "95230030    78.13\n",
              "26153170    76.25\n",
              "95201200    66.67\n",
              "26137170    64.06\n",
              "Name: Data.Protein, dtype: float64"
            ]
          },
          "metadata": {},
          "execution_count": 14
        }
      ]
    },
    {
      "cell_type": "markdown",
      "metadata": {
        "id": "9QvuxcrSOTu_"
      },
      "source": [
        "# Q7: Edit the function `q7` such that it groups (`groupby`) `data` according to the column `Category` and saves its `description` into a dataframe named `descr`, and returns `descr`.\n",
        "Return type: pandas.core.frame.DataFrame"
      ]
    },
    {
      "cell_type": "code",
      "metadata": {
        "id": "0_RbdJxWGE0n",
        "colab": {
          "base_uri": "https://localhost:8080/",
          "height": 672
        },
        "outputId": "743571e8-db9d-44f2-b3e2-404d61523c21"
      },
      "source": [
        "def q7():\n",
        "  #Write your code here\n",
        "  g = data.groupby('Category')\n",
        "  descr = g.describe() # Write your code here\n",
        "  return descr\n",
        " \n",
        "q7()"
      ],
      "execution_count": 15,
      "outputs": [
        {
          "output_type": "execute_result",
          "data": {
            "text/html": [
              "\n",
              "  <div id=\"df-b3b03ad2-a0d7-401f-88e1-cdfd9a23e88d\">\n",
              "    <div class=\"colab-df-container\">\n",
              "      <div>\n",
              "<style scoped>\n",
              "    .dataframe tbody tr th:only-of-type {\n",
              "        vertical-align: middle;\n",
              "    }\n",
              "\n",
              "    .dataframe tbody tr th {\n",
              "        vertical-align: top;\n",
              "    }\n",
              "\n",
              "    .dataframe thead tr th {\n",
              "        text-align: left;\n",
              "    }\n",
              "\n",
              "    .dataframe thead tr:last-of-type th {\n",
              "        text-align: right;\n",
              "    }\n",
              "</style>\n",
              "<table border=\"1\" class=\"dataframe\">\n",
              "  <thead>\n",
              "    <tr>\n",
              "      <th></th>\n",
              "      <th colspan=\"8\" halign=\"left\">Data.Cholesterol</th>\n",
              "      <th colspan=\"8\" halign=\"left\">Data.Protein</th>\n",
              "      <th colspan=\"8\" halign=\"left\">Data.Sugar Total</th>\n",
              "      <th colspan=\"8\" halign=\"left\">Data.Water</th>\n",
              "    </tr>\n",
              "    <tr>\n",
              "      <th></th>\n",
              "      <th>count</th>\n",
              "      <th>mean</th>\n",
              "      <th>std</th>\n",
              "      <th>min</th>\n",
              "      <th>25%</th>\n",
              "      <th>50%</th>\n",
              "      <th>75%</th>\n",
              "      <th>max</th>\n",
              "      <th>count</th>\n",
              "      <th>mean</th>\n",
              "      <th>std</th>\n",
              "      <th>min</th>\n",
              "      <th>25%</th>\n",
              "      <th>50%</th>\n",
              "      <th>75%</th>\n",
              "      <th>max</th>\n",
              "      <th>count</th>\n",
              "      <th>mean</th>\n",
              "      <th>std</th>\n",
              "      <th>min</th>\n",
              "      <th>25%</th>\n",
              "      <th>50%</th>\n",
              "      <th>75%</th>\n",
              "      <th>max</th>\n",
              "      <th>count</th>\n",
              "      <th>mean</th>\n",
              "      <th>std</th>\n",
              "      <th>min</th>\n",
              "      <th>25%</th>\n",
              "      <th>50%</th>\n",
              "      <th>75%</th>\n",
              "      <th>max</th>\n",
              "    </tr>\n",
              "    <tr>\n",
              "      <th>Category</th>\n",
              "      <th></th>\n",
              "      <th></th>\n",
              "      <th></th>\n",
              "      <th></th>\n",
              "      <th></th>\n",
              "      <th></th>\n",
              "      <th></th>\n",
              "      <th></th>\n",
              "      <th></th>\n",
              "      <th></th>\n",
              "      <th></th>\n",
              "      <th></th>\n",
              "      <th></th>\n",
              "      <th></th>\n",
              "      <th></th>\n",
              "      <th></th>\n",
              "      <th></th>\n",
              "      <th></th>\n",
              "      <th></th>\n",
              "      <th></th>\n",
              "      <th></th>\n",
              "      <th></th>\n",
              "      <th></th>\n",
              "      <th></th>\n",
              "      <th></th>\n",
              "      <th></th>\n",
              "      <th></th>\n",
              "      <th></th>\n",
              "      <th></th>\n",
              "      <th></th>\n",
              "      <th></th>\n",
              "      <th></th>\n",
              "    </tr>\n",
              "  </thead>\n",
              "  <tbody>\n",
              "    <tr>\n",
              "      <th>100 GRAND Bar</th>\n",
              "      <td>1.0</td>\n",
              "      <td>12.0</td>\n",
              "      <td>NaN</td>\n",
              "      <td>12.0</td>\n",
              "      <td>12.00</td>\n",
              "      <td>12.0</td>\n",
              "      <td>12.00</td>\n",
              "      <td>12.0</td>\n",
              "      <td>1.0</td>\n",
              "      <td>2.500000</td>\n",
              "      <td>NaN</td>\n",
              "      <td>2.50</td>\n",
              "      <td>2.5000</td>\n",
              "      <td>2.500</td>\n",
              "      <td>2.5000</td>\n",
              "      <td>2.50</td>\n",
              "      <td>1.0</td>\n",
              "      <td>51.900000</td>\n",
              "      <td>NaN</td>\n",
              "      <td>51.90</td>\n",
              "      <td>51.900</td>\n",
              "      <td>51.90</td>\n",
              "      <td>51.90</td>\n",
              "      <td>51.90</td>\n",
              "      <td>1.0</td>\n",
              "      <td>6.100000</td>\n",
              "      <td>NaN</td>\n",
              "      <td>6.10</td>\n",
              "      <td>6.1000</td>\n",
              "      <td>6.100</td>\n",
              "      <td>6.1000</td>\n",
              "      <td>6.10</td>\n",
              "    </tr>\n",
              "    <tr>\n",
              "      <th>3 MUSKETEERS Bar</th>\n",
              "      <td>1.0</td>\n",
              "      <td>5.0</td>\n",
              "      <td>NaN</td>\n",
              "      <td>5.0</td>\n",
              "      <td>5.00</td>\n",
              "      <td>5.0</td>\n",
              "      <td>5.00</td>\n",
              "      <td>5.0</td>\n",
              "      <td>1.0</td>\n",
              "      <td>2.600000</td>\n",
              "      <td>NaN</td>\n",
              "      <td>2.60</td>\n",
              "      <td>2.6000</td>\n",
              "      <td>2.600</td>\n",
              "      <td>2.6000</td>\n",
              "      <td>2.60</td>\n",
              "      <td>1.0</td>\n",
              "      <td>66.890000</td>\n",
              "      <td>NaN</td>\n",
              "      <td>66.89</td>\n",
              "      <td>66.890</td>\n",
              "      <td>66.89</td>\n",
              "      <td>66.89</td>\n",
              "      <td>66.89</td>\n",
              "      <td>1.0</td>\n",
              "      <td>5.800000</td>\n",
              "      <td>NaN</td>\n",
              "      <td>5.80</td>\n",
              "      <td>5.8000</td>\n",
              "      <td>5.800</td>\n",
              "      <td>5.8000</td>\n",
              "      <td>5.80</td>\n",
              "    </tr>\n",
              "    <tr>\n",
              "      <th>3 Musketeers Truffle Crisp Bar</th>\n",
              "      <td>1.0</td>\n",
              "      <td>18.0</td>\n",
              "      <td>NaN</td>\n",
              "      <td>18.0</td>\n",
              "      <td>18.00</td>\n",
              "      <td>18.0</td>\n",
              "      <td>18.00</td>\n",
              "      <td>18.0</td>\n",
              "      <td>1.0</td>\n",
              "      <td>6.410000</td>\n",
              "      <td>NaN</td>\n",
              "      <td>6.41</td>\n",
              "      <td>6.4100</td>\n",
              "      <td>6.410</td>\n",
              "      <td>6.4100</td>\n",
              "      <td>6.41</td>\n",
              "      <td>1.0</td>\n",
              "      <td>57.690000</td>\n",
              "      <td>NaN</td>\n",
              "      <td>57.69</td>\n",
              "      <td>57.690</td>\n",
              "      <td>57.69</td>\n",
              "      <td>57.69</td>\n",
              "      <td>57.69</td>\n",
              "      <td>1.0</td>\n",
              "      <td>0.180000</td>\n",
              "      <td>NaN</td>\n",
              "      <td>0.18</td>\n",
              "      <td>0.1800</td>\n",
              "      <td>0.180</td>\n",
              "      <td>0.1800</td>\n",
              "      <td>0.18</td>\n",
              "    </tr>\n",
              "    <tr>\n",
              "      <th>Abalone</th>\n",
              "      <td>3.0</td>\n",
              "      <td>127.0</td>\n",
              "      <td>36.71512</td>\n",
              "      <td>101.0</td>\n",
              "      <td>106.00</td>\n",
              "      <td>111.0</td>\n",
              "      <td>140.00</td>\n",
              "      <td>169.0</td>\n",
              "      <td>3.0</td>\n",
              "      <td>24.223333</td>\n",
              "      <td>8.577146</td>\n",
              "      <td>18.24</td>\n",
              "      <td>19.3100</td>\n",
              "      <td>20.380</td>\n",
              "      <td>27.2150</td>\n",
              "      <td>34.05</td>\n",
              "      <td>3.0</td>\n",
              "      <td>0.313333</td>\n",
              "      <td>0.516946</td>\n",
              "      <td>0.00</td>\n",
              "      <td>0.015</td>\n",
              "      <td>0.03</td>\n",
              "      <td>0.47</td>\n",
              "      <td>0.91</td>\n",
              "      <td>3.0</td>\n",
              "      <td>55.316667</td>\n",
              "      <td>8.702559</td>\n",
              "      <td>48.47</td>\n",
              "      <td>50.4200</td>\n",
              "      <td>52.370</td>\n",
              "      <td>58.7400</td>\n",
              "      <td>65.11</td>\n",
              "    </tr>\n",
              "    <tr>\n",
              "      <th>Adobo</th>\n",
              "      <td>2.0</td>\n",
              "      <td>73.5</td>\n",
              "      <td>2.12132</td>\n",
              "      <td>72.0</td>\n",
              "      <td>72.75</td>\n",
              "      <td>73.5</td>\n",
              "      <td>74.25</td>\n",
              "      <td>75.0</td>\n",
              "      <td>2.0</td>\n",
              "      <td>17.285000</td>\n",
              "      <td>0.558614</td>\n",
              "      <td>16.89</td>\n",
              "      <td>17.0875</td>\n",
              "      <td>17.285</td>\n",
              "      <td>17.4825</td>\n",
              "      <td>17.68</td>\n",
              "      <td>2.0</td>\n",
              "      <td>0.030000</td>\n",
              "      <td>0.000000</td>\n",
              "      <td>0.03</td>\n",
              "      <td>0.030</td>\n",
              "      <td>0.03</td>\n",
              "      <td>0.03</td>\n",
              "      <td>0.03</td>\n",
              "      <td>2.0</td>\n",
              "      <td>64.285000</td>\n",
              "      <td>1.364716</td>\n",
              "      <td>63.32</td>\n",
              "      <td>63.8025</td>\n",
              "      <td>64.285</td>\n",
              "      <td>64.7675</td>\n",
              "      <td>65.25</td>\n",
              "    </tr>\n",
              "    <tr>\n",
              "      <th>...</th>\n",
              "      <td>...</td>\n",
              "      <td>...</td>\n",
              "      <td>...</td>\n",
              "      <td>...</td>\n",
              "      <td>...</td>\n",
              "      <td>...</td>\n",
              "      <td>...</td>\n",
              "      <td>...</td>\n",
              "      <td>...</td>\n",
              "      <td>...</td>\n",
              "      <td>...</td>\n",
              "      <td>...</td>\n",
              "      <td>...</td>\n",
              "      <td>...</td>\n",
              "      <td>...</td>\n",
              "      <td>...</td>\n",
              "      <td>...</td>\n",
              "      <td>...</td>\n",
              "      <td>...</td>\n",
              "      <td>...</td>\n",
              "      <td>...</td>\n",
              "      <td>...</td>\n",
              "      <td>...</td>\n",
              "      <td>...</td>\n",
              "      <td>...</td>\n",
              "      <td>...</td>\n",
              "      <td>...</td>\n",
              "      <td>...</td>\n",
              "      <td>...</td>\n",
              "      <td>...</td>\n",
              "      <td>...</td>\n",
              "      <td>...</td>\n",
              "    </tr>\n",
              "    <tr>\n",
              "      <th>Zombie</th>\n",
              "      <td>1.0</td>\n",
              "      <td>0.0</td>\n",
              "      <td>NaN</td>\n",
              "      <td>0.0</td>\n",
              "      <td>0.00</td>\n",
              "      <td>0.0</td>\n",
              "      <td>0.00</td>\n",
              "      <td>0.0</td>\n",
              "      <td>1.0</td>\n",
              "      <td>0.150000</td>\n",
              "      <td>NaN</td>\n",
              "      <td>0.15</td>\n",
              "      <td>0.1500</td>\n",
              "      <td>0.150</td>\n",
              "      <td>0.1500</td>\n",
              "      <td>0.15</td>\n",
              "      <td>1.0</td>\n",
              "      <td>7.170000</td>\n",
              "      <td>NaN</td>\n",
              "      <td>7.17</td>\n",
              "      <td>7.170</td>\n",
              "      <td>7.17</td>\n",
              "      <td>7.17</td>\n",
              "      <td>7.17</td>\n",
              "      <td>1.0</td>\n",
              "      <td>81.790000</td>\n",
              "      <td>NaN</td>\n",
              "      <td>81.79</td>\n",
              "      <td>81.7900</td>\n",
              "      <td>81.790</td>\n",
              "      <td>81.7900</td>\n",
              "      <td>81.79</td>\n",
              "    </tr>\n",
              "    <tr>\n",
              "      <th>Zucchini</th>\n",
              "      <td>1.0</td>\n",
              "      <td>0.0</td>\n",
              "      <td>NaN</td>\n",
              "      <td>0.0</td>\n",
              "      <td>0.00</td>\n",
              "      <td>0.0</td>\n",
              "      <td>0.00</td>\n",
              "      <td>0.0</td>\n",
              "      <td>1.0</td>\n",
              "      <td>1.000000</td>\n",
              "      <td>NaN</td>\n",
              "      <td>1.00</td>\n",
              "      <td>1.0000</td>\n",
              "      <td>1.000</td>\n",
              "      <td>1.0000</td>\n",
              "      <td>1.00</td>\n",
              "      <td>1.0</td>\n",
              "      <td>6.940000</td>\n",
              "      <td>NaN</td>\n",
              "      <td>6.94</td>\n",
              "      <td>6.940</td>\n",
              "      <td>6.94</td>\n",
              "      <td>6.94</td>\n",
              "      <td>6.94</td>\n",
              "      <td>1.0</td>\n",
              "      <td>88.110000</td>\n",
              "      <td>NaN</td>\n",
              "      <td>88.11</td>\n",
              "      <td>88.1100</td>\n",
              "      <td>88.110</td>\n",
              "      <td>88.1100</td>\n",
              "      <td>88.11</td>\n",
              "    </tr>\n",
              "    <tr>\n",
              "      <th>Zucchini lasagna</th>\n",
              "      <td>1.0</td>\n",
              "      <td>9.0</td>\n",
              "      <td>NaN</td>\n",
              "      <td>9.0</td>\n",
              "      <td>9.00</td>\n",
              "      <td>9.0</td>\n",
              "      <td>9.00</td>\n",
              "      <td>9.0</td>\n",
              "      <td>1.0</td>\n",
              "      <td>5.420000</td>\n",
              "      <td>NaN</td>\n",
              "      <td>5.42</td>\n",
              "      <td>5.4200</td>\n",
              "      <td>5.420</td>\n",
              "      <td>5.4200</td>\n",
              "      <td>5.42</td>\n",
              "      <td>1.0</td>\n",
              "      <td>3.230000</td>\n",
              "      <td>NaN</td>\n",
              "      <td>3.23</td>\n",
              "      <td>3.230</td>\n",
              "      <td>3.23</td>\n",
              "      <td>3.23</td>\n",
              "      <td>3.23</td>\n",
              "      <td>1.0</td>\n",
              "      <td>76.550000</td>\n",
              "      <td>NaN</td>\n",
              "      <td>76.55</td>\n",
              "      <td>76.5500</td>\n",
              "      <td>76.550</td>\n",
              "      <td>76.5500</td>\n",
              "      <td>76.55</td>\n",
              "    </tr>\n",
              "    <tr>\n",
              "      <th>Zucchini soup</th>\n",
              "      <td>1.0</td>\n",
              "      <td>3.0</td>\n",
              "      <td>NaN</td>\n",
              "      <td>3.0</td>\n",
              "      <td>3.00</td>\n",
              "      <td>3.0</td>\n",
              "      <td>3.00</td>\n",
              "      <td>3.0</td>\n",
              "      <td>1.0</td>\n",
              "      <td>1.700000</td>\n",
              "      <td>NaN</td>\n",
              "      <td>1.70</td>\n",
              "      <td>1.7000</td>\n",
              "      <td>1.700</td>\n",
              "      <td>1.7000</td>\n",
              "      <td>1.70</td>\n",
              "      <td>1.0</td>\n",
              "      <td>2.480000</td>\n",
              "      <td>NaN</td>\n",
              "      <td>2.48</td>\n",
              "      <td>2.480</td>\n",
              "      <td>2.48</td>\n",
              "      <td>2.48</td>\n",
              "      <td>2.48</td>\n",
              "      <td>1.0</td>\n",
              "      <td>93.940000</td>\n",
              "      <td>NaN</td>\n",
              "      <td>93.94</td>\n",
              "      <td>93.9400</td>\n",
              "      <td>93.940</td>\n",
              "      <td>93.9400</td>\n",
              "      <td>93.94</td>\n",
              "    </tr>\n",
              "    <tr>\n",
              "      <th>Zwieback toast</th>\n",
              "      <td>1.0</td>\n",
              "      <td>8.0</td>\n",
              "      <td>NaN</td>\n",
              "      <td>8.0</td>\n",
              "      <td>8.00</td>\n",
              "      <td>8.0</td>\n",
              "      <td>8.00</td>\n",
              "      <td>8.0</td>\n",
              "      <td>1.0</td>\n",
              "      <td>10.100000</td>\n",
              "      <td>NaN</td>\n",
              "      <td>10.10</td>\n",
              "      <td>10.1000</td>\n",
              "      <td>10.100</td>\n",
              "      <td>10.1000</td>\n",
              "      <td>10.10</td>\n",
              "      <td>1.0</td>\n",
              "      <td>12.500000</td>\n",
              "      <td>NaN</td>\n",
              "      <td>12.50</td>\n",
              "      <td>12.500</td>\n",
              "      <td>12.50</td>\n",
              "      <td>12.50</td>\n",
              "      <td>12.50</td>\n",
              "      <td>1.0</td>\n",
              "      <td>4.500000</td>\n",
              "      <td>NaN</td>\n",
              "      <td>4.50</td>\n",
              "      <td>4.5000</td>\n",
              "      <td>4.500</td>\n",
              "      <td>4.5000</td>\n",
              "      <td>4.50</td>\n",
              "    </tr>\n",
              "  </tbody>\n",
              "</table>\n",
              "<p>2429 rows × 32 columns</p>\n",
              "</div>\n",
              "      <button class=\"colab-df-convert\" onclick=\"convertToInteractive('df-b3b03ad2-a0d7-401f-88e1-cdfd9a23e88d')\"\n",
              "              title=\"Convert this dataframe to an interactive table.\"\n",
              "              style=\"display:none;\">\n",
              "        \n",
              "  <svg xmlns=\"http://www.w3.org/2000/svg\" height=\"24px\"viewBox=\"0 0 24 24\"\n",
              "       width=\"24px\">\n",
              "    <path d=\"M0 0h24v24H0V0z\" fill=\"none\"/>\n",
              "    <path d=\"M18.56 5.44l.94 2.06.94-2.06 2.06-.94-2.06-.94-.94-2.06-.94 2.06-2.06.94zm-11 1L8.5 8.5l.94-2.06 2.06-.94-2.06-.94L8.5 2.5l-.94 2.06-2.06.94zm10 10l.94 2.06.94-2.06 2.06-.94-2.06-.94-.94-2.06-.94 2.06-2.06.94z\"/><path d=\"M17.41 7.96l-1.37-1.37c-.4-.4-.92-.59-1.43-.59-.52 0-1.04.2-1.43.59L10.3 9.45l-7.72 7.72c-.78.78-.78 2.05 0 2.83L4 21.41c.39.39.9.59 1.41.59.51 0 1.02-.2 1.41-.59l7.78-7.78 2.81-2.81c.8-.78.8-2.07 0-2.86zM5.41 20L4 18.59l7.72-7.72 1.47 1.35L5.41 20z\"/>\n",
              "  </svg>\n",
              "      </button>\n",
              "      \n",
              "  <style>\n",
              "    .colab-df-container {\n",
              "      display:flex;\n",
              "      flex-wrap:wrap;\n",
              "      gap: 12px;\n",
              "    }\n",
              "\n",
              "    .colab-df-convert {\n",
              "      background-color: #E8F0FE;\n",
              "      border: none;\n",
              "      border-radius: 50%;\n",
              "      cursor: pointer;\n",
              "      display: none;\n",
              "      fill: #1967D2;\n",
              "      height: 32px;\n",
              "      padding: 0 0 0 0;\n",
              "      width: 32px;\n",
              "    }\n",
              "\n",
              "    .colab-df-convert:hover {\n",
              "      background-color: #E2EBFA;\n",
              "      box-shadow: 0px 1px 2px rgba(60, 64, 67, 0.3), 0px 1px 3px 1px rgba(60, 64, 67, 0.15);\n",
              "      fill: #174EA6;\n",
              "    }\n",
              "\n",
              "    [theme=dark] .colab-df-convert {\n",
              "      background-color: #3B4455;\n",
              "      fill: #D2E3FC;\n",
              "    }\n",
              "\n",
              "    [theme=dark] .colab-df-convert:hover {\n",
              "      background-color: #434B5C;\n",
              "      box-shadow: 0px 1px 3px 1px rgba(0, 0, 0, 0.15);\n",
              "      filter: drop-shadow(0px 1px 2px rgba(0, 0, 0, 0.3));\n",
              "      fill: #FFFFFF;\n",
              "    }\n",
              "  </style>\n",
              "\n",
              "      <script>\n",
              "        const buttonEl =\n",
              "          document.querySelector('#df-b3b03ad2-a0d7-401f-88e1-cdfd9a23e88d button.colab-df-convert');\n",
              "        buttonEl.style.display =\n",
              "          google.colab.kernel.accessAllowed ? 'block' : 'none';\n",
              "\n",
              "        async function convertToInteractive(key) {\n",
              "          const element = document.querySelector('#df-b3b03ad2-a0d7-401f-88e1-cdfd9a23e88d');\n",
              "          const dataTable =\n",
              "            await google.colab.kernel.invokeFunction('convertToInteractive',\n",
              "                                                     [key], {});\n",
              "          if (!dataTable) return;\n",
              "\n",
              "          const docLinkHtml = 'Like what you see? Visit the ' +\n",
              "            '<a target=\"_blank\" href=https://colab.research.google.com/notebooks/data_table.ipynb>data table notebook</a>'\n",
              "            + ' to learn more about interactive tables.';\n",
              "          element.innerHTML = '';\n",
              "          dataTable['output_type'] = 'display_data';\n",
              "          await google.colab.output.renderOutput(dataTable, element);\n",
              "          const docLink = document.createElement('div');\n",
              "          docLink.innerHTML = docLinkHtml;\n",
              "          element.appendChild(docLink);\n",
              "        }\n",
              "      </script>\n",
              "    </div>\n",
              "  </div>\n",
              "  "
            ],
            "text/plain": [
              "                               Data.Cholesterol         ... Data.Water       \n",
              "                                          count   mean  ...        75%    max\n",
              "Category                                                ...                  \n",
              "100 GRAND Bar                               1.0   12.0  ...     6.1000   6.10\n",
              "3 MUSKETEERS Bar                            1.0    5.0  ...     5.8000   5.80\n",
              "3 Musketeers Truffle Crisp Bar              1.0   18.0  ...     0.1800   0.18\n",
              "Abalone                                     3.0  127.0  ...    58.7400  65.11\n",
              "Adobo                                       2.0   73.5  ...    64.7675  65.25\n",
              "...                                         ...    ...  ...        ...    ...\n",
              "Zombie                                      1.0    0.0  ...    81.7900  81.79\n",
              "Zucchini                                    1.0    0.0  ...    88.1100  88.11\n",
              "Zucchini lasagna                            1.0    9.0  ...    76.5500  76.55\n",
              "Zucchini soup                               1.0    3.0  ...    93.9400  93.94\n",
              "Zwieback toast                              1.0    8.0  ...     4.5000   4.50\n",
              "\n",
              "[2429 rows x 32 columns]"
            ]
          },
          "metadata": {},
          "execution_count": 15
        }
      ]
    },
    {
      "cell_type": "markdown",
      "metadata": {
        "id": "NQt7lS4IQl4M"
      },
      "source": [
        "# Q8: Edit the function `q8` such that it uses `descr` to find the 25th percentile of food in the category 'CHEESE' and the 75th percentile of the food in the category 'CORN'. Return a tuple containing the answers in the  respective order.\n",
        "\n",
        "Return type: tuple"
      ]
    },
    {
      "cell_type": "code",
      "metadata": {
        "id": "rXOUH6ZPKntU",
        "colab": {
          "base_uri": "https://localhost:8080/"
        },
        "outputId": "78d5bf0c-c705-4af2-a5c0-33c13faff7d6"
      },
      "source": [
        "def q8():\n",
        "  # Write your code here\n",
        "  x = data[data['Category'] == 'CHEESE']\n",
        "  y = data[data['Category'] == 'CORN']\n",
        "  cheese_25 = x.quantile(.25)\n",
        "  cookies_75 = y.quantile(.75)\n",
        "  return (cheese_25, cookies_75)\n",
        "\n",
        "q8()"
      ],
      "execution_count": 16,
      "outputs": [
        {
          "output_type": "execute_result",
          "data": {
            "text/plain": [
              "(Data.Cholesterol   NaN\n",
              " Data.Protein       NaN\n",
              " Data.Sugar Total   NaN\n",
              " Data.Water         NaN\n",
              " Name: 0.25, dtype: float64, Data.Cholesterol   NaN\n",
              " Data.Protein       NaN\n",
              " Data.Sugar Total   NaN\n",
              " Data.Water         NaN\n",
              " Name: 0.75, dtype: float64)"
            ]
          },
          "metadata": {},
          "execution_count": 16
        }
      ]
    },
    {
      "cell_type": "markdown",
      "metadata": {
        "id": "z3qncvqPgnFP"
      },
      "source": [
        "\n",
        "---\n"
      ]
    },
    {
      "cell_type": "markdown",
      "metadata": {
        "id": "0kKOp5QnWFdh"
      },
      "source": [
        "# Read the following files into dataframes: \n",
        "\n",
        "1. **LokSabhaMPs.xls** to the dataframe `mps`\n",
        "2. Each sheet (there are six in total) of the file **Seventeenth Lok Sabha_Attendance.xlsx** to a list of DataFrames named `attendance`; i.e. each element of the list will be a DataFrame corresponding to a sheet in the file.\n",
        "\n",
        "Preprocess, so that:\n",
        "\n",
        "1. The dataframe `header` map to the row number where column names are listed.\n",
        "2. Extra space at the end of `Member Name` are handled.\n"
      ]
    },
    {
      "cell_type": "markdown",
      "metadata": {
        "id": "CySe46pqfqV0"
      },
      "source": [
        "Description of the attendance dataset from http://loksabhaph.nic.in\n",
        "\n",
        "---\n",
        "\n",
        "S= The Member Signed the Register\n",
        "\n",
        "S*= The Member signed through Mobile Attendance Application\n",
        "\n",
        "S#= The Member signed through both the Register & Mobile Attendance Application\n",
        "\n",
        "NS= The Member did not sign the register. (A Member might have attended the sitting of the House on a particular day but did not sign or forgot to sign the Register for that day )\n",
        "\n",
        "NS@= Member was present but forgot to sign the Attendance Register\n",
        "\n",
        "NR= Not Required. (Hon'ble Speaker, Deputy Speaker, Prime Minister and Minister usually do not sign the Members' Attendance Register) "
      ]
    },
    {
      "cell_type": "code",
      "metadata": {
        "id": "TCxwtO8FfoBK"
      },
      "source": [
        "mps = pd.read_excel(\"https://github.com/dayanandv/Data-Science/blob/main/Evaluation%201_Preprocessing/LokSabha_MPs.xls?raw=true\", skiprows=2) # Write your code here"
      ],
      "execution_count": 17,
      "outputs": []
    },
    {
      "cell_type": "code",
      "metadata": {
        "id": "YVNCono9Tksc"
      },
      "source": [
        "attendance = []\n",
        "for i in range(6):\n",
        "  val = pd.read_excel('https://github.com/dayanandv/Data-Science/blob/main/Evaluation%201_Preprocessing/Seventeenth%20Lok%20Sabha_Attendance.xlsx?raw==true',sheet_name=i)\n",
        "  attendance.append(val)"
      ],
      "execution_count": 18,
      "outputs": []
    },
    {
      "cell_type": "markdown",
      "metadata": {
        "id": "mOWAtSksjHO4"
      },
      "source": [
        "# Q9. Edit the function `q9` such that it returns the attendance percentage (not fraction) of 'Shri Arjun Singh' in the 6th session (sheet number 6).\n",
        "\n",
        "*You may have to typecast the return value of the filter to float.*\n",
        "\n",
        "Return type: float"
      ]
    },
    {
      "cell_type": "code",
      "metadata": {
        "id": "UvTSBSIuh6Zz"
      },
      "source": [
        "def q9():\n",
        "  # Write your code here\n",
        "  return # Write your code here\n",
        " \n",
        "q9()"
      ],
      "execution_count": 22,
      "outputs": []
    },
    {
      "cell_type": "markdown",
      "metadata": {
        "id": "M6mimQTDpiQ2"
      },
      "source": [
        "# Q10. Edit the function `q10` such that it returns the attendance percentage (not fraction) of 'Shri Manoj Tiwari' across all sessions.\n",
        "\n",
        "*You may have to typecast the return value of the filter to float.*\n",
        "\n",
        "Return type: float (default number of decimal places)"
      ]
    },
    {
      "cell_type": "code",
      "metadata": {
        "id": "_v9aXbk4h9l9"
      },
      "source": [
        "def q10():\n",
        "  # Write your code here\n",
        "  return # Write your code here\n",
        "\n",
        "q10()"
      ],
      "execution_count": 20,
      "outputs": []
    },
    {
      "cell_type": "markdown",
      "metadata": {
        "id": "SMTOp3y20ia2"
      },
      "source": [
        "# Q11. Edit the function `q11` such that it calculates the attendance percentages of each member for each session and adds that into a new column named `Attendance Percentage` in each DataFrame."
      ]
    },
    {
      "cell_type": "code",
      "metadata": {
        "id": "eLTwYWM_03f4"
      },
      "source": [
        "def q11():\n",
        "  # Write your code here\n",
        "\n",
        "q11()"
      ],
      "execution_count": 24,
      "outputs": []
    },
    {
      "cell_type": "markdown",
      "metadata": {
        "id": "t93M0V1G3LLL"
      },
      "source": [
        "# Q12. Edit the function `q12` such that it merges `mps` and `attendance[0]` on the `Member Name` column into a new DataFrame named `merged`, and return `merged`. \n",
        "\n",
        "Drop the following columns: \n",
        "* `Division NO`\n",
        "* `Member Name`\n",
        "* `No. of days Members signed the Register`\n",
        "* `No. of days Members not signed the Register`\n",
        "\n",
        "Return type: pandas.core.frame.DataFrame"
      ]
    },
    {
      "cell_type": "code",
      "metadata": {
        "id": "qKpFPBnRr8EF"
      },
      "source": [
        "def q12():\n",
        "  merged = # Write your code here\n",
        "  return merged\n",
        "\n",
        "q12()"
      ],
      "execution_count": 25,
      "outputs": []
    },
    {
      "cell_type": "markdown",
      "metadata": {
        "id": "OZ_r2P5t36M0"
      },
      "source": [
        "# Q13. Edit the function `q13` such that it groups the DataFrame `merged` based on the column `Party Name` into a DataFrame named `gby`. Return a call of `describe()` on `gby`.\n",
        "\n",
        "Return type: pandas.core.frame.DataFrame"
      ]
    },
    {
      "cell_type": "code",
      "metadata": {
        "id": "tKned5gOuIql"
      },
      "source": [
        "def q13():\n",
        "  # Write your code here\n",
        "  return # Write your code here\n",
        "\n",
        "q13()"
      ],
      "execution_count": 26,
      "outputs": []
    }
  ]
}