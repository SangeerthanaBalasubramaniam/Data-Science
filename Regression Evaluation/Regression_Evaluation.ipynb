{
  "cells": [
    {
      "cell_type": "code",
      "execution_count": null,
      "id": "437c7787",
      "metadata": {
        "_cell_guid": "b1076dfc-b9ad-4769-8c92-a6c4dae69d19",
        "_uuid": "8f2839f25d086af736a60e9eeb907d3b93b6e0e5",
        "execution": {
          "iopub.execute_input": "2021-11-13T05:31:28.714725Z",
          "iopub.status.busy": "2021-11-13T05:31:28.713569Z",
          "iopub.status.idle": "2021-11-13T05:31:30.119771Z",
          "shell.execute_reply": "2021-11-13T05:31:30.120169Z",
          "shell.execute_reply.started": "2021-11-13T05:30:20.949145Z"
        },
        "papermill": {
          "duration": 1.445295,
          "end_time": "2021-11-13T05:31:30.120394",
          "exception": false,
          "start_time": "2021-11-13T05:31:28.675099",
          "status": "completed"
        },
        "tags": [],
        "id": "437c7787",
        "outputId": "6b5283f1-2173-4301-8db3-56e1e4254eaf"
      },
      "outputs": [
        {
          "name": "stdout",
          "output_type": "stream",
          "text": [
            "/kaggle/input/19cse304-fods-ml-evaluation/Submission.csv\n",
            "/kaggle/input/19cse304-fods-ml-evaluation/train.csv\n",
            "/kaggle/input/19cse304-fods-ml-evaluation/test.csv\n"
          ]
        }
      ],
      "source": [
        "# This Python 3 environment comes with many helpful analytics libraries installed\n",
        "# It is defined by the kaggle/python Docker image: https://github.com/kaggle/docker-python\n",
        "# For example, here's several helpful packages to load\n",
        "\n",
        "import numpy as np # linear algebra\n",
        "import pandas as pd # data processing, CSV file I/O (e.g. pd.read_csv)\n",
        "import matplotlib.pyplot as plt\n",
        "%matplotlib inline\n",
        "import seaborn as sns \n",
        "from sklearn.model_selection import train_test_split                   \n",
        "from sklearn import svm\n",
        "from sklearn.tree import DecisionTreeRegressor\n",
        "from sklearn.ensemble import RandomForestClassifier\n",
        "from sklearn.linear_model import LogisticRegression\n",
        "from sklearn.ensemble import RandomForestRegressor                       \n",
        "import xgboost\n",
        "from xgboost import XGBRegressor                                        \n",
        "from sklearn.preprocessing import StandardScaler\n",
        "from sklearn.metrics import accuracy_score\n",
        "from sklearn.model_selection import GridSearchCV\n",
        "\n",
        "# Input data files are available in the read-only \"../input/\" directory\n",
        "# For example, running this (by clicking run or pressing Shift+Enter) will list all files under the input directory\n",
        "\n",
        "import os\n",
        "for dirname, _, filenames in os.walk('/kaggle/input'):\n",
        "    for filename in filenames:\n",
        "        print(os.path.join(dirname, filename))\n",
        "\n",
        "# You can write up to 20GB to the current directory (/kaggle/working/) that gets preserved as output when you create a version using \"Save & Run All\" \n",
        "# You can also write temporary files to /kaggle/temp/, but they won't be saved outside of the current session"
      ]
    },
    {
      "cell_type": "code",
      "execution_count": null,
      "id": "8e51a6f4",
      "metadata": {
        "execution": {
          "iopub.execute_input": "2021-11-13T05:31:30.168184Z",
          "iopub.status.busy": "2021-11-13T05:31:30.167661Z",
          "iopub.status.idle": "2021-11-13T05:31:30.445964Z",
          "shell.execute_reply": "2021-11-13T05:31:30.446398Z",
          "shell.execute_reply.started": "2021-11-13T05:30:20.967501Z"
        },
        "papermill": {
          "duration": 0.304027,
          "end_time": "2021-11-13T05:31:30.446538",
          "exception": false,
          "start_time": "2021-11-13T05:31:30.142511",
          "status": "completed"
        },
        "tags": [],
        "id": "8e51a6f4"
      },
      "outputs": [],
      "source": [
        "train = pd.read_csv('/kaggle/input/19cse304-fods-ml-evaluation/train.csv')\n",
        "test = pd.read_csv('/kaggle/input/19cse304-fods-ml-evaluation/test.csv')"
      ]
    },
    {
      "cell_type": "code",
      "execution_count": null,
      "id": "5c607911",
      "metadata": {
        "execution": {
          "iopub.execute_input": "2021-11-13T05:31:30.494448Z",
          "iopub.status.busy": "2021-11-13T05:31:30.493981Z",
          "iopub.status.idle": "2021-11-13T05:31:30.505951Z",
          "shell.execute_reply": "2021-11-13T05:31:30.505419Z",
          "shell.execute_reply.started": "2021-11-13T05:30:21.155879Z"
        },
        "papermill": {
          "duration": 0.03538,
          "end_time": "2021-11-13T05:31:30.506052",
          "exception": false,
          "start_time": "2021-11-13T05:31:30.470672",
          "status": "completed"
        },
        "tags": [],
        "id": "5c607911",
        "outputId": "04a9f89d-fe1b-49c9-9c9d-8a6621012f28"
      },
      "outputs": [
        {
          "name": "stdout",
          "output_type": "stream",
          "text": [
            "   record_ID      week  store_id  sku_id  total_price  base_price  \\\n",
            "0          1  17/01/11      8091  216418      99.0375    111.8625   \n",
            "1          2  17/01/11      8091  216419      99.0375     99.0375   \n",
            "2          3  17/01/11      8091  216425     133.9500    133.9500   \n",
            "3          4  17/01/11      8091  216233     133.9500    133.9500   \n",
            "4          9  17/01/11      8091  219009     227.2875    227.2875   \n",
            "\n",
            "   is_featured_sku  is_display_sku  units_sold  \n",
            "0                0               0          20  \n",
            "1                0               0          28  \n",
            "2                0               0          19  \n",
            "3                0               0          44  \n",
            "4                0               0          18  \n"
          ]
        }
      ],
      "source": [
        "print(train.head())"
      ]
    },
    {
      "cell_type": "code",
      "execution_count": null,
      "id": "dbb5cdc7",
      "metadata": {
        "execution": {
          "iopub.execute_input": "2021-11-13T05:31:30.552757Z",
          "iopub.status.busy": "2021-11-13T05:31:30.552288Z",
          "iopub.status.idle": "2021-11-13T05:31:30.558408Z",
          "shell.execute_reply": "2021-11-13T05:31:30.558883Z",
          "shell.execute_reply.started": "2021-11-13T05:30:21.167085Z"
        },
        "papermill": {
          "duration": 0.031147,
          "end_time": "2021-11-13T05:31:30.559016",
          "exception": false,
          "start_time": "2021-11-13T05:31:30.527869",
          "status": "completed"
        },
        "tags": [],
        "id": "dbb5cdc7",
        "outputId": "58977e15-ec65-4cdf-b9bb-8f1377c3494c"
      },
      "outputs": [
        {
          "name": "stdout",
          "output_type": "stream",
          "text": [
            "   record_ID      week  store_id  sku_id  total_price  base_price  \\\n",
            "0     192751  16/04/13      9845  300021     109.7250    109.7250   \n",
            "1      94214  20/02/12      9532  300021      86.2125     86.2125   \n",
            "2     201221  28/05/13      8094  217217     229.4250    229.4250   \n",
            "3      38612  27/06/11      9490  223245     210.9000    213.0375   \n",
            "4      83833  9/1/2012      9043  219029     327.0375    327.0375   \n",
            "\n",
            "   is_featured_sku  is_display_sku  \n",
            "0                0               0  \n",
            "1                0               1  \n",
            "2                0               0  \n",
            "3                0               1  \n",
            "4                0               0  \n"
          ]
        }
      ],
      "source": [
        "print(test.head())"
      ]
    },
    {
      "cell_type": "code",
      "execution_count": null,
      "id": "8d67e84e",
      "metadata": {
        "execution": {
          "iopub.execute_input": "2021-11-13T05:31:30.607858Z",
          "iopub.status.busy": "2021-11-13T05:31:30.607365Z",
          "iopub.status.idle": "2021-11-13T05:31:30.610214Z",
          "shell.execute_reply": "2021-11-13T05:31:30.609727Z",
          "shell.execute_reply.started": "2021-11-13T05:30:21.181987Z"
        },
        "papermill": {
          "duration": 0.028474,
          "end_time": "2021-11-13T05:31:30.610319",
          "exception": false,
          "start_time": "2021-11-13T05:31:30.581845",
          "status": "completed"
        },
        "tags": [],
        "id": "8d67e84e",
        "outputId": "fb1fa1ac-1a6b-47a0-c414-11e3c1cb00fd"
      },
      "outputs": [
        {
          "name": "stdout",
          "output_type": "stream",
          "text": [
            "Training data shape:  (120150, 9)\n",
            "Test data shape:  (30000, 8)\n"
          ]
        }
      ],
      "source": [
        "print(\"Training data shape: \",train.shape)\n",
        "print(\"Test data shape: \",test.shape)"
      ]
    },
    {
      "cell_type": "code",
      "execution_count": null,
      "id": "254fdbf1",
      "metadata": {
        "execution": {
          "iopub.execute_input": "2021-11-13T05:31:30.657865Z",
          "iopub.status.busy": "2021-11-13T05:31:30.657261Z",
          "iopub.status.idle": "2021-11-13T05:31:30.663727Z",
          "shell.execute_reply": "2021-11-13T05:31:30.664314Z",
          "shell.execute_reply.started": "2021-11-13T05:30:21.189542Z"
        },
        "papermill": {
          "duration": 0.031768,
          "end_time": "2021-11-13T05:31:30.664451",
          "exception": false,
          "start_time": "2021-11-13T05:31:30.632683",
          "status": "completed"
        },
        "tags": [],
        "id": "254fdbf1"
      },
      "outputs": [],
      "source": [
        "train_original=train.copy() \n",
        "test_original=test.copy()"
      ]
    },
    {
      "cell_type": "code",
      "execution_count": null,
      "id": "38f955f4",
      "metadata": {
        "execution": {
          "iopub.execute_input": "2021-11-13T05:31:30.723716Z",
          "iopub.status.busy": "2021-11-13T05:31:30.723257Z",
          "iopub.status.idle": "2021-11-13T05:31:30.758723Z",
          "shell.execute_reply": "2021-11-13T05:31:30.759112Z",
          "shell.execute_reply.started": "2021-11-13T05:30:21.206288Z"
        },
        "papermill": {
          "duration": 0.060726,
          "end_time": "2021-11-13T05:31:30.759271",
          "exception": false,
          "start_time": "2021-11-13T05:31:30.698545",
          "status": "completed"
        },
        "tags": [],
        "id": "38f955f4",
        "outputId": "50f68784-bd2d-468b-c801-d13d7c79d8d3"
      },
      "outputs": [
        {
          "name": "stdout",
          "output_type": "stream",
          "text": [
            "<class 'pandas.core.frame.DataFrame'>\n",
            "RangeIndex: 120150 entries, 0 to 120149\n",
            "Data columns (total 9 columns):\n",
            " #   Column           Non-Null Count   Dtype  \n",
            "---  ------           --------------   -----  \n",
            " 0   record_ID        120150 non-null  int64  \n",
            " 1   week             120150 non-null  object \n",
            " 2   store_id         120150 non-null  int64  \n",
            " 3   sku_id           120150 non-null  int64  \n",
            " 4   total_price      120150 non-null  float64\n",
            " 5   base_price       120150 non-null  float64\n",
            " 6   is_featured_sku  120150 non-null  int64  \n",
            " 7   is_display_sku   120150 non-null  int64  \n",
            " 8   units_sold       120150 non-null  int64  \n",
            "dtypes: float64(2), int64(6), object(1)\n",
            "memory usage: 8.3+ MB\n"
          ]
        }
      ],
      "source": [
        "train.info()"
      ]
    },
    {
      "cell_type": "code",
      "execution_count": null,
      "id": "d9b4b9e1",
      "metadata": {
        "execution": {
          "iopub.execute_input": "2021-11-13T05:31:30.807947Z",
          "iopub.status.busy": "2021-11-13T05:31:30.807482Z",
          "iopub.status.idle": "2021-11-13T05:31:30.815900Z",
          "shell.execute_reply": "2021-11-13T05:31:30.816271Z",
          "shell.execute_reply.started": "2021-11-13T05:30:21.242241Z"
        },
        "papermill": {
          "duration": 0.034213,
          "end_time": "2021-11-13T05:31:30.816398",
          "exception": false,
          "start_time": "2021-11-13T05:31:30.782185",
          "status": "completed"
        },
        "tags": [],
        "id": "d9b4b9e1",
        "outputId": "35df38de-3a33-412e-f861-21fd88fb6846"
      },
      "outputs": [
        {
          "data": {
            "text/plain": [
              "int64      6\n",
              "float64    2\n",
              "object     1\n",
              "dtype: int64"
            ]
          },
          "execution_count": 8,
          "metadata": {},
          "output_type": "execute_result"
        }
      ],
      "source": [
        "train.dtypes.value_counts()"
      ]
    },
    {
      "cell_type": "code",
      "execution_count": null,
      "id": "df0aa4ac",
      "metadata": {
        "execution": {
          "iopub.execute_input": "2021-11-13T05:31:30.864641Z",
          "iopub.status.busy": "2021-11-13T05:31:30.863976Z",
          "iopub.status.idle": "2021-11-13T05:31:30.877737Z",
          "shell.execute_reply": "2021-11-13T05:31:30.878487Z",
          "shell.execute_reply.started": "2021-11-13T05:30:21.251287Z"
        },
        "papermill": {
          "duration": 0.039778,
          "end_time": "2021-11-13T05:31:30.878682",
          "exception": false,
          "start_time": "2021-11-13T05:31:30.838904",
          "status": "completed"
        },
        "tags": [],
        "id": "df0aa4ac",
        "outputId": "6251396b-c0ab-4c6a-de19-6c89b96806c5"
      },
      "outputs": [
        {
          "name": "stdout",
          "output_type": "stream",
          "text": [
            "<class 'pandas.core.frame.DataFrame'>\n",
            "RangeIndex: 30000 entries, 0 to 29999\n",
            "Data columns (total 8 columns):\n",
            " #   Column           Non-Null Count  Dtype  \n",
            "---  ------           --------------  -----  \n",
            " 0   record_ID        30000 non-null  int64  \n",
            " 1   week             30000 non-null  object \n",
            " 2   store_id         30000 non-null  int64  \n",
            " 3   sku_id           30000 non-null  int64  \n",
            " 4   total_price      29999 non-null  float64\n",
            " 5   base_price       30000 non-null  float64\n",
            " 6   is_featured_sku  30000 non-null  int64  \n",
            " 7   is_display_sku   30000 non-null  int64  \n",
            "dtypes: float64(2), int64(5), object(1)\n",
            "memory usage: 1.8+ MB\n"
          ]
        }
      ],
      "source": [
        "test.info()"
      ]
    },
    {
      "cell_type": "code",
      "execution_count": null,
      "id": "43ac3e82",
      "metadata": {
        "execution": {
          "iopub.execute_input": "2021-11-13T05:31:30.952925Z",
          "iopub.status.busy": "2021-11-13T05:31:30.952319Z",
          "iopub.status.idle": "2021-11-13T05:31:30.959565Z",
          "shell.execute_reply": "2021-11-13T05:31:30.958980Z",
          "shell.execute_reply.started": "2021-11-13T05:30:21.278060Z"
        },
        "papermill": {
          "duration": 0.044847,
          "end_time": "2021-11-13T05:31:30.959693",
          "exception": false,
          "start_time": "2021-11-13T05:31:30.914846",
          "status": "completed"
        },
        "tags": [],
        "id": "43ac3e82",
        "outputId": "13963024-3313-4b4c-c1e9-482c0c11b94b"
      },
      "outputs": [
        {
          "data": {
            "text/plain": [
              "int64      5\n",
              "float64    2\n",
              "object     1\n",
              "dtype: int64"
            ]
          },
          "execution_count": 10,
          "metadata": {},
          "output_type": "execute_result"
        }
      ],
      "source": [
        "test.dtypes.value_counts()"
      ]
    },
    {
      "cell_type": "code",
      "execution_count": null,
      "id": "1b3c0fa1",
      "metadata": {
        "execution": {
          "iopub.execute_input": "2021-11-13T05:31:31.034766Z",
          "iopub.status.busy": "2021-11-13T05:31:31.034170Z",
          "iopub.status.idle": "2021-11-13T05:31:31.059567Z",
          "shell.execute_reply": "2021-11-13T05:31:31.060106Z",
          "shell.execute_reply.started": "2021-11-13T05:30:21.287211Z"
        },
        "papermill": {
          "duration": 0.064662,
          "end_time": "2021-11-13T05:31:31.060283",
          "exception": false,
          "start_time": "2021-11-13T05:31:30.995621",
          "status": "completed"
        },
        "tags": [],
        "id": "1b3c0fa1",
        "outputId": "3c27d8de-bcd1-491c-e306-c9fc65382712"
      },
      "outputs": [
        {
          "name": "stdout",
          "output_type": "stream",
          "text": [
            "Train count:\n",
            " record_ID          120150\n",
            "week               120150\n",
            "store_id           120150\n",
            "sku_id             120150\n",
            "total_price        120150\n",
            "base_price         120150\n",
            "is_featured_sku    120150\n",
            "is_display_sku     120150\n",
            "units_sold         120150\n",
            "dtype: int64\n",
            "\n",
            "Test count:\n",
            " record_ID          30000\n",
            "week               30000\n",
            "store_id           30000\n",
            "sku_id             30000\n",
            "total_price        29999\n",
            "base_price         30000\n",
            "is_featured_sku    30000\n",
            "is_display_sku     30000\n",
            "dtype: int64\n"
          ]
        }
      ],
      "source": [
        "print(\"Train count:\\n\",train.count())\n",
        "print(\"\\nTest count:\\n\",test.count())"
      ]
    },
    {
      "cell_type": "code",
      "execution_count": null,
      "id": "a252c298",
      "metadata": {
        "execution": {
          "iopub.execute_input": "2021-11-13T05:31:31.112987Z",
          "iopub.status.busy": "2021-11-13T05:31:31.112516Z",
          "iopub.status.idle": "2021-11-13T05:31:31.134688Z",
          "shell.execute_reply": "2021-11-13T05:31:31.134056Z",
          "shell.execute_reply.started": "2021-11-13T05:30:21.324409Z"
        },
        "papermill": {
          "duration": 0.049316,
          "end_time": "2021-11-13T05:31:31.134823",
          "exception": false,
          "start_time": "2021-11-13T05:31:31.085507",
          "status": "completed"
        },
        "tags": [],
        "id": "a252c298",
        "outputId": "69163401-8634-43f2-9226-89c6d4386335"
      },
      "outputs": [
        {
          "data": {
            "text/plain": [
              "record_ID          0\n",
              "week               0\n",
              "store_id           0\n",
              "sku_id             0\n",
              "total_price        0\n",
              "base_price         0\n",
              "is_featured_sku    0\n",
              "is_display_sku     0\n",
              "units_sold         0\n",
              "dtype: int64"
            ]
          },
          "execution_count": 12,
          "metadata": {},
          "output_type": "execute_result"
        }
      ],
      "source": [
        "train.isnull().sum()"
      ]
    },
    {
      "cell_type": "code",
      "execution_count": null,
      "id": "eb2cc4ef",
      "metadata": {
        "execution": {
          "iopub.execute_input": "2021-11-13T05:31:31.211564Z",
          "iopub.status.busy": "2021-11-13T05:31:31.210959Z",
          "iopub.status.idle": "2021-11-13T05:31:31.217761Z",
          "shell.execute_reply": "2021-11-13T05:31:31.218299Z",
          "shell.execute_reply.started": "2021-11-13T05:30:21.350489Z"
        },
        "papermill": {
          "duration": 0.046475,
          "end_time": "2021-11-13T05:31:31.218459",
          "exception": false,
          "start_time": "2021-11-13T05:31:31.171984",
          "status": "completed"
        },
        "tags": [],
        "id": "eb2cc4ef",
        "outputId": "bcfefaa7-a725-4001-8a3c-b857cf2bc564"
      },
      "outputs": [
        {
          "data": {
            "text/plain": [
              "record_ID          0\n",
              "week               0\n",
              "store_id           0\n",
              "sku_id             0\n",
              "total_price        1\n",
              "base_price         0\n",
              "is_featured_sku    0\n",
              "is_display_sku     0\n",
              "dtype: int64"
            ]
          },
          "execution_count": 13,
          "metadata": {},
          "output_type": "execute_result"
        }
      ],
      "source": [
        "test.isnull().sum()"
      ]
    },
    {
      "cell_type": "code",
      "execution_count": null,
      "id": "24b0ff1f",
      "metadata": {
        "execution": {
          "iopub.execute_input": "2021-11-13T05:31:31.295850Z",
          "iopub.status.busy": "2021-11-13T05:31:31.295205Z",
          "iopub.status.idle": "2021-11-13T05:31:31.665858Z",
          "shell.execute_reply": "2021-11-13T05:31:31.665250Z",
          "shell.execute_reply.started": "2021-11-13T05:30:21.367688Z"
        },
        "papermill": {
          "duration": 0.410369,
          "end_time": "2021-11-13T05:31:31.665987",
          "exception": false,
          "start_time": "2021-11-13T05:31:31.255618",
          "status": "completed"
        },
        "tags": [],
        "id": "24b0ff1f",
        "outputId": "adf0b3e5-ccda-4957-be1e-7981df025d6a"
      },
      "outputs": [
        {
          "data": {
            "text/plain": [
              "<AxesSubplot:title={'center':'Correlation of Numeric Features with Sale Price'}>"
            ]
          },
          "execution_count": 14,
          "metadata": {},
          "output_type": "execute_result"
        },
        {
          "data": {
            "image/png": "[encoded data removed]",
            "text/plain": [
              "<Figure size 1008x864 with 2 Axes>"
            ]
          },
          "metadata": {
            "needs_background": "light"
          },
          "output_type": "display_data"
        }
      ],
      "source": [
        "plt.figure(figsize = (14,12))\n",
        "plt.title('Correlation of Numeric Features with Sale Price', y=1, size=16)\n",
        "sns.heatmap(train.corr(), square = True, vmax=0.8)"
      ]
    },
    {
      "cell_type": "code",
      "execution_count": null,
      "id": "3e054467",
      "metadata": {
        "execution": {
          "iopub.execute_input": "2021-11-13T05:31:31.747205Z",
          "iopub.status.busy": "2021-11-13T05:31:31.746531Z",
          "iopub.status.idle": "2021-11-13T05:31:31.802859Z",
          "shell.execute_reply": "2021-11-13T05:31:31.803463Z",
          "shell.execute_reply.started": "2021-11-13T05:30:21.786805Z"
        },
        "papermill": {
          "duration": 0.09887,
          "end_time": "2021-11-13T05:31:31.803620",
          "exception": false,
          "start_time": "2021-11-13T05:31:31.704750",
          "status": "completed"
        },
        "tags": [],
        "id": "3e054467",
        "outputId": "cb895958-ea3b-425a-bca0-36f881fb478e"
      },
      "outputs": [
        {
          "data": {
            "text/html": [
              "<div>\n",
              "<style scoped>\n",
              "    .dataframe tbody tr th:only-of-type {\n",
              "        vertical-align: middle;\n",
              "    }\n",
              "\n",
              "    .dataframe tbody tr th {\n",
              "        vertical-align: top;\n",
              "    }\n",
              "\n",
              "    .dataframe thead th {\n",
              "        text-align: right;\n",
              "    }\n",
              "</style>\n",
              "<table border=\"1\" class=\"dataframe\">\n",
              "  <thead>\n",
              "    <tr style=\"text-align: right;\">\n",
              "      <th></th>\n",
              "      <th>record_ID</th>\n",
              "      <th>store_id</th>\n",
              "      <th>sku_id</th>\n",
              "      <th>total_price</th>\n",
              "      <th>base_price</th>\n",
              "      <th>is_featured_sku</th>\n",
              "      <th>is_display_sku</th>\n",
              "      <th>units_sold</th>\n",
              "    </tr>\n",
              "  </thead>\n",
              "  <tbody>\n",
              "    <tr>\n",
              "      <th>count</th>\n",
              "      <td>120150.000000</td>\n",
              "      <td>120150.000000</td>\n",
              "      <td>120150.000000</td>\n",
              "      <td>120150.000000</td>\n",
              "      <td>120150.000000</td>\n",
              "      <td>120150.000000</td>\n",
              "      <td>120150.000000</td>\n",
              "      <td>120150.000000</td>\n",
              "    </tr>\n",
              "    <tr>\n",
              "      <th>mean</th>\n",
              "      <td>106356.242072</td>\n",
              "      <td>9200.680108</td>\n",
              "      <td>254646.000574</td>\n",
              "      <td>206.620108</td>\n",
              "      <td>219.395313</td>\n",
              "      <td>0.095098</td>\n",
              "      <td>0.133267</td>\n",
              "      <td>51.679534</td>\n",
              "    </tr>\n",
              "    <tr>\n",
              "      <th>std</th>\n",
              "      <td>61430.743017</td>\n",
              "      <td>615.091588</td>\n",
              "      <td>85304.080816</td>\n",
              "      <td>103.306218</td>\n",
              "      <td>110.927286</td>\n",
              "      <td>0.293351</td>\n",
              "      <td>0.339864</td>\n",
              "      <td>60.718735</td>\n",
              "    </tr>\n",
              "    <tr>\n",
              "      <th>min</th>\n",
              "      <td>1.000000</td>\n",
              "      <td>8023.000000</td>\n",
              "      <td>216233.000000</td>\n",
              "      <td>41.325000</td>\n",
              "      <td>61.275000</td>\n",
              "      <td>0.000000</td>\n",
              "      <td>0.000000</td>\n",
              "      <td>1.000000</td>\n",
              "    </tr>\n",
              "    <tr>\n",
              "      <th>25%</th>\n",
              "      <td>53140.250000</td>\n",
              "      <td>8562.000000</td>\n",
              "      <td>217217.000000</td>\n",
              "      <td>130.387500</td>\n",
              "      <td>133.237500</td>\n",
              "      <td>0.000000</td>\n",
              "      <td>0.000000</td>\n",
              "      <td>20.000000</td>\n",
              "    </tr>\n",
              "    <tr>\n",
              "      <th>50%</th>\n",
              "      <td>106366.500000</td>\n",
              "      <td>9371.000000</td>\n",
              "      <td>222087.000000</td>\n",
              "      <td>198.075000</td>\n",
              "      <td>205.912500</td>\n",
              "      <td>0.000000</td>\n",
              "      <td>0.000000</td>\n",
              "      <td>35.000000</td>\n",
              "    </tr>\n",
              "    <tr>\n",
              "      <th>75%</th>\n",
              "      <td>159709.750000</td>\n",
              "      <td>9731.000000</td>\n",
              "      <td>245338.000000</td>\n",
              "      <td>233.700000</td>\n",
              "      <td>234.412500</td>\n",
              "      <td>0.000000</td>\n",
              "      <td>0.000000</td>\n",
              "      <td>62.000000</td>\n",
              "    </tr>\n",
              "    <tr>\n",
              "      <th>max</th>\n",
              "      <td>212644.000000</td>\n",
              "      <td>9984.000000</td>\n",
              "      <td>679023.000000</td>\n",
              "      <td>562.162500</td>\n",
              "      <td>562.162500</td>\n",
              "      <td>1.000000</td>\n",
              "      <td>1.000000</td>\n",
              "      <td>2876.000000</td>\n",
              "    </tr>\n",
              "  </tbody>\n",
              "</table>\n",
              "</div>"
            ],
            "text/plain": [
              "           record_ID       store_id         sku_id    total_price  \\\n",
              "count  120150.000000  120150.000000  120150.000000  120150.000000   \n",
              "mean   106356.242072    9200.680108  254646.000574     206.620108   \n",
              "std     61430.743017     615.091588   85304.080816     103.306218   \n",
              "min         1.000000    8023.000000  216233.000000      41.325000   \n",
              "25%     53140.250000    8562.000000  217217.000000     130.387500   \n",
              "50%    106366.500000    9371.000000  222087.000000     198.075000   \n",
              "75%    159709.750000    9731.000000  245338.000000     233.700000   \n",
              "max    212644.000000    9984.000000  679023.000000     562.162500   \n",
              "\n",
              "          base_price  is_featured_sku  is_display_sku     units_sold  \n",
              "count  120150.000000    120150.000000   120150.000000  120150.000000  \n",
              "mean      219.395313         0.095098        0.133267      51.679534  \n",
              "std       110.927286         0.293351        0.339864      60.718735  \n",
              "min        61.275000         0.000000        0.000000       1.000000  \n",
              "25%       133.237500         0.000000        0.000000      20.000000  \n",
              "50%       205.912500         0.000000        0.000000      35.000000  \n",
              "75%       234.412500         0.000000        0.000000      62.000000  \n",
              "max       562.162500         1.000000        1.000000    2876.000000  "
            ]
          },
          "execution_count": 15,
          "metadata": {},
          "output_type": "execute_result"
        }
      ],
      "source": [
        "train.describe()"
      ]
    },
    {
      "cell_type": "code",
      "execution_count": null,
      "id": "c0236d50",
      "metadata": {
        "execution": {
          "iopub.execute_input": "2021-11-13T05:31:31.887608Z",
          "iopub.status.busy": "2021-11-13T05:31:31.884657Z",
          "iopub.status.idle": "2021-11-13T05:31:31.890835Z",
          "shell.execute_reply": "2021-11-13T05:31:31.891362Z",
          "shell.execute_reply.started": "2021-11-13T05:30:21.846358Z"
        },
        "papermill": {
          "duration": 0.048714,
          "end_time": "2021-11-13T05:31:31.891523",
          "exception": false,
          "start_time": "2021-11-13T05:31:31.842809",
          "status": "completed"
        },
        "tags": [],
        "id": "c0236d50"
      },
      "outputs": [],
      "source": [
        "train['total_price'] = train['total_price'].fillna(train['total_price'].mean())"
      ]
    },
    {
      "cell_type": "code",
      "execution_count": null,
      "id": "b872d5f1",
      "metadata": {
        "execution": {
          "iopub.execute_input": "2021-11-13T05:31:31.975098Z",
          "iopub.status.busy": "2021-11-13T05:31:31.974281Z",
          "iopub.status.idle": "2021-11-13T05:31:31.979146Z",
          "shell.execute_reply": "2021-11-13T05:31:31.979671Z",
          "shell.execute_reply.started": "2021-11-13T05:30:21.852629Z"
        },
        "papermill": {
          "duration": 0.047901,
          "end_time": "2021-11-13T05:31:31.979843",
          "exception": false,
          "start_time": "2021-11-13T05:31:31.931942",
          "status": "completed"
        },
        "tags": [],
        "id": "b872d5f1"
      },
      "outputs": [],
      "source": [
        "test['total_price'] = test['total_price'].fillna(test['total_price'].mean()) "
      ]
    },
    {
      "cell_type": "code",
      "execution_count": null,
      "id": "d8d877a2",
      "metadata": {
        "execution": {
          "iopub.execute_input": "2021-11-13T05:31:32.068634Z",
          "iopub.status.busy": "2021-11-13T05:31:32.060581Z",
          "iopub.status.idle": "2021-11-13T05:31:32.072232Z",
          "shell.execute_reply": "2021-11-13T05:31:32.071587Z",
          "shell.execute_reply.started": "2021-11-13T05:30:21.865155Z"
        },
        "papermill": {
          "duration": 0.053815,
          "end_time": "2021-11-13T05:31:32.072362",
          "exception": false,
          "start_time": "2021-11-13T05:31:32.018547",
          "status": "completed"
        },
        "tags": [],
        "id": "d8d877a2",
        "outputId": "86fcd0bc-d70d-4a7e-b4e8-3dd2a7749b79"
      },
      "outputs": [
        {
          "data": {
            "text/html": [
              "<div>\n",
              "<style scoped>\n",
              "    .dataframe tbody tr th:only-of-type {\n",
              "        vertical-align: middle;\n",
              "    }\n",
              "\n",
              "    .dataframe tbody tr th {\n",
              "        vertical-align: top;\n",
              "    }\n",
              "\n",
              "    .dataframe thead th {\n",
              "        text-align: right;\n",
              "    }\n",
              "</style>\n",
              "<table border=\"1\" class=\"dataframe\">\n",
              "  <thead>\n",
              "    <tr style=\"text-align: right;\">\n",
              "      <th></th>\n",
              "      <th>record_ID</th>\n",
              "      <th>week</th>\n",
              "      <th>store_id</th>\n",
              "      <th>sku_id</th>\n",
              "      <th>total_price</th>\n",
              "      <th>base_price</th>\n",
              "      <th>is_featured_sku</th>\n",
              "      <th>is_display_sku</th>\n",
              "      <th>units_sold</th>\n",
              "    </tr>\n",
              "  </thead>\n",
              "  <tbody>\n",
              "    <tr>\n",
              "      <th>0</th>\n",
              "      <td>1</td>\n",
              "      <td>17/01/11</td>\n",
              "      <td>8091</td>\n",
              "      <td>216418</td>\n",
              "      <td>99.0375</td>\n",
              "      <td>111.8625</td>\n",
              "      <td>0</td>\n",
              "      <td>0</td>\n",
              "      <td>20</td>\n",
              "    </tr>\n",
              "    <tr>\n",
              "      <th>1</th>\n",
              "      <td>2</td>\n",
              "      <td>17/01/11</td>\n",
              "      <td>8091</td>\n",
              "      <td>216419</td>\n",
              "      <td>99.0375</td>\n",
              "      <td>99.0375</td>\n",
              "      <td>0</td>\n",
              "      <td>0</td>\n",
              "      <td>28</td>\n",
              "    </tr>\n",
              "    <tr>\n",
              "      <th>2</th>\n",
              "      <td>3</td>\n",
              "      <td>17/01/11</td>\n",
              "      <td>8091</td>\n",
              "      <td>216425</td>\n",
              "      <td>133.9500</td>\n",
              "      <td>133.9500</td>\n",
              "      <td>0</td>\n",
              "      <td>0</td>\n",
              "      <td>19</td>\n",
              "    </tr>\n",
              "    <tr>\n",
              "      <th>3</th>\n",
              "      <td>4</td>\n",
              "      <td>17/01/11</td>\n",
              "      <td>8091</td>\n",
              "      <td>216233</td>\n",
              "      <td>133.9500</td>\n",
              "      <td>133.9500</td>\n",
              "      <td>0</td>\n",
              "      <td>0</td>\n",
              "      <td>44</td>\n",
              "    </tr>\n",
              "    <tr>\n",
              "      <th>4</th>\n",
              "      <td>9</td>\n",
              "      <td>17/01/11</td>\n",
              "      <td>8091</td>\n",
              "      <td>219009</td>\n",
              "      <td>227.2875</td>\n",
              "      <td>227.2875</td>\n",
              "      <td>0</td>\n",
              "      <td>0</td>\n",
              "      <td>18</td>\n",
              "    </tr>\n",
              "  </tbody>\n",
              "</table>\n",
              "</div>"
            ],
            "text/plain": [
              "   record_ID      week  store_id  sku_id  total_price  base_price  \\\n",
              "0          1  17/01/11      8091  216418      99.0375    111.8625   \n",
              "1          2  17/01/11      8091  216419      99.0375     99.0375   \n",
              "2          3  17/01/11      8091  216425     133.9500    133.9500   \n",
              "3          4  17/01/11      8091  216233     133.9500    133.9500   \n",
              "4          9  17/01/11      8091  219009     227.2875    227.2875   \n",
              "\n",
              "   is_featured_sku  is_display_sku  units_sold  \n",
              "0                0               0          20  \n",
              "1                0               0          28  \n",
              "2                0               0          19  \n",
              "3                0               0          44  \n",
              "4                0               0          18  "
            ]
          },
          "execution_count": 18,
          "metadata": {},
          "output_type": "execute_result"
        }
      ],
      "source": [
        "train.head()"
      ]
    },
    {
      "cell_type": "code",
      "execution_count": null,
      "id": "cc0a855e",
      "metadata": {
        "execution": {
          "iopub.execute_input": "2021-11-13T05:31:32.156132Z",
          "iopub.status.busy": "2021-11-13T05:31:32.155505Z",
          "iopub.status.idle": "2021-11-13T05:31:32.160909Z",
          "shell.execute_reply": "2021-11-13T05:31:32.161408Z",
          "shell.execute_reply.started": "2021-11-13T05:30:21.886527Z"
        },
        "papermill": {
          "duration": 0.048989,
          "end_time": "2021-11-13T05:31:32.161572",
          "exception": false,
          "start_time": "2021-11-13T05:31:32.112583",
          "status": "completed"
        },
        "tags": [],
        "id": "cc0a855e"
      },
      "outputs": [],
      "source": [
        "train.drop(columns=['record_ID','week'], inplace=True, axis=1)"
      ]
    },
    {
      "cell_type": "code",
      "execution_count": null,
      "id": "c6b90511",
      "metadata": {
        "execution": {
          "iopub.execute_input": "2021-11-13T05:31:32.244438Z",
          "iopub.status.busy": "2021-11-13T05:31:32.243775Z",
          "iopub.status.idle": "2021-11-13T05:31:32.255062Z",
          "shell.execute_reply": "2021-11-13T05:31:32.255572Z",
          "shell.execute_reply.started": "2021-11-13T05:30:21.894672Z"
        },
        "papermill": {
          "duration": 0.054477,
          "end_time": "2021-11-13T05:31:32.255707",
          "exception": false,
          "start_time": "2021-11-13T05:31:32.201230",
          "status": "completed"
        },
        "tags": [],
        "id": "c6b90511",
        "outputId": "1a2ce24d-9f2a-46b4-c503-0c4c453dbe93"
      },
      "outputs": [
        {
          "data": {
            "text/html": [
              "<div>\n",
              "<style scoped>\n",
              "    .dataframe tbody tr th:only-of-type {\n",
              "        vertical-align: middle;\n",
              "    }\n",
              "\n",
              "    .dataframe tbody tr th {\n",
              "        vertical-align: top;\n",
              "    }\n",
              "\n",
              "    .dataframe thead th {\n",
              "        text-align: right;\n",
              "    }\n",
              "</style>\n",
              "<table border=\"1\" class=\"dataframe\">\n",
              "  <thead>\n",
              "    <tr style=\"text-align: right;\">\n",
              "      <th></th>\n",
              "      <th>record_ID</th>\n",
              "      <th>week</th>\n",
              "      <th>store_id</th>\n",
              "      <th>sku_id</th>\n",
              "      <th>total_price</th>\n",
              "      <th>base_price</th>\n",
              "      <th>is_featured_sku</th>\n",
              "      <th>is_display_sku</th>\n",
              "    </tr>\n",
              "  </thead>\n",
              "  <tbody>\n",
              "    <tr>\n",
              "      <th>0</th>\n",
              "      <td>192751</td>\n",
              "      <td>16/04/13</td>\n",
              "      <td>9845</td>\n",
              "      <td>300021</td>\n",
              "      <td>109.7250</td>\n",
              "      <td>109.7250</td>\n",
              "      <td>0</td>\n",
              "      <td>0</td>\n",
              "    </tr>\n",
              "    <tr>\n",
              "      <th>1</th>\n",
              "      <td>94214</td>\n",
              "      <td>20/02/12</td>\n",
              "      <td>9532</td>\n",
              "      <td>300021</td>\n",
              "      <td>86.2125</td>\n",
              "      <td>86.2125</td>\n",
              "      <td>0</td>\n",
              "      <td>1</td>\n",
              "    </tr>\n",
              "    <tr>\n",
              "      <th>2</th>\n",
              "      <td>201221</td>\n",
              "      <td>28/05/13</td>\n",
              "      <td>8094</td>\n",
              "      <td>217217</td>\n",
              "      <td>229.4250</td>\n",
              "      <td>229.4250</td>\n",
              "      <td>0</td>\n",
              "      <td>0</td>\n",
              "    </tr>\n",
              "    <tr>\n",
              "      <th>3</th>\n",
              "      <td>38612</td>\n",
              "      <td>27/06/11</td>\n",
              "      <td>9490</td>\n",
              "      <td>223245</td>\n",
              "      <td>210.9000</td>\n",
              "      <td>213.0375</td>\n",
              "      <td>0</td>\n",
              "      <td>1</td>\n",
              "    </tr>\n",
              "    <tr>\n",
              "      <th>4</th>\n",
              "      <td>83833</td>\n",
              "      <td>9/1/2012</td>\n",
              "      <td>9043</td>\n",
              "      <td>219029</td>\n",
              "      <td>327.0375</td>\n",
              "      <td>327.0375</td>\n",
              "      <td>0</td>\n",
              "      <td>0</td>\n",
              "    </tr>\n",
              "  </tbody>\n",
              "</table>\n",
              "</div>"
            ],
            "text/plain": [
              "   record_ID      week  store_id  sku_id  total_price  base_price  \\\n",
              "0     192751  16/04/13      9845  300021     109.7250    109.7250   \n",
              "1      94214  20/02/12      9532  300021      86.2125     86.2125   \n",
              "2     201221  28/05/13      8094  217217     229.4250    229.4250   \n",
              "3      38612  27/06/11      9490  223245     210.9000    213.0375   \n",
              "4      83833  9/1/2012      9043  219029     327.0375    327.0375   \n",
              "\n",
              "   is_featured_sku  is_display_sku  \n",
              "0                0               0  \n",
              "1                0               1  \n",
              "2                0               0  \n",
              "3                0               1  \n",
              "4                0               0  "
            ]
          },
          "execution_count": 20,
          "metadata": {},
          "output_type": "execute_result"
        }
      ],
      "source": [
        "test.head()"
      ]
    },
    {
      "cell_type": "code",
      "execution_count": null,
      "id": "f67cc31d",
      "metadata": {
        "execution": {
          "iopub.execute_input": "2021-11-13T05:31:32.315702Z",
          "iopub.status.busy": "2021-11-13T05:31:32.315218Z",
          "iopub.status.idle": "2021-11-13T05:31:32.317520Z",
          "shell.execute_reply": "2021-11-13T05:31:32.317976Z",
          "shell.execute_reply.started": "2021-11-13T05:30:21.914824Z"
        },
        "papermill": {
          "duration": 0.035206,
          "end_time": "2021-11-13T05:31:32.318112",
          "exception": false,
          "start_time": "2021-11-13T05:31:32.282906",
          "status": "completed"
        },
        "tags": [],
        "id": "f67cc31d"
      },
      "outputs": [],
      "source": [
        "test.drop(columns=['record_ID','week'], inplace=True, axis=1)"
      ]
    },
    {
      "cell_type": "code",
      "execution_count": null,
      "id": "0ec4b69f",
      "metadata": {
        "execution": {
          "iopub.execute_input": "2021-11-13T05:31:32.375525Z",
          "iopub.status.busy": "2021-11-13T05:31:32.374765Z",
          "iopub.status.idle": "2021-11-13T05:31:32.383712Z",
          "shell.execute_reply": "2021-11-13T05:31:32.383153Z",
          "shell.execute_reply.started": "2021-11-13T05:30:21.927436Z"
        },
        "papermill": {
          "duration": 0.037959,
          "end_time": "2021-11-13T05:31:32.383841",
          "exception": false,
          "start_time": "2021-11-13T05:31:32.345882",
          "status": "completed"
        },
        "tags": [],
        "id": "0ec4b69f",
        "outputId": "08a94033-69ec-4a15-e6ca-2783caf9ae6f"
      },
      "outputs": [
        {
          "name": "stdout",
          "output_type": "stream",
          "text": [
            "   store_id  sku_id  total_price  base_price  is_featured_sku  is_display_sku  \\\n",
            "0      8091  216418      99.0375    111.8625                0               0   \n",
            "1      8091  216419      99.0375     99.0375                0               0   \n",
            "2      8091  216425     133.9500    133.9500                0               0   \n",
            "3      8091  216233     133.9500    133.9500                0               0   \n",
            "4      8091  219009     227.2875    227.2875                0               0   \n",
            "\n",
            "   units_sold  \n",
            "0          20  \n",
            "1          28  \n",
            "2          19  \n",
            "3          44  \n",
            "4          18  \n"
          ]
        }
      ],
      "source": [
        "print(train.head())"
      ]
    },
    {
      "cell_type": "code",
      "execution_count": null,
      "id": "bfe93896",
      "metadata": {
        "execution": {
          "iopub.execute_input": "2021-11-13T05:31:32.448616Z",
          "iopub.status.busy": "2021-11-13T05:31:32.442656Z",
          "iopub.status.idle": "2021-11-13T05:31:32.451995Z",
          "shell.execute_reply": "2021-11-13T05:31:32.452656Z",
          "shell.execute_reply.started": "2021-11-13T05:30:21.943884Z"
        },
        "papermill": {
          "duration": 0.041041,
          "end_time": "2021-11-13T05:31:32.452798",
          "exception": false,
          "start_time": "2021-11-13T05:31:32.411757",
          "status": "completed"
        },
        "tags": [],
        "id": "bfe93896",
        "outputId": "87da3b6d-1e5f-40a1-8bc6-0dc988dcaa27"
      },
      "outputs": [
        {
          "name": "stdout",
          "output_type": "stream",
          "text": [
            "   store_id  sku_id  total_price  base_price  is_featured_sku  is_display_sku\n",
            "0      9845  300021     109.7250    109.7250                0               0\n",
            "1      9532  300021      86.2125     86.2125                0               1\n",
            "2      8094  217217     229.4250    229.4250                0               0\n",
            "3      9490  223245     210.9000    213.0375                0               1\n",
            "4      9043  219029     327.0375    327.0375                0               0\n"
          ]
        }
      ],
      "source": [
        "print(test.head())"
      ]
    },
    {
      "cell_type": "code",
      "execution_count": null,
      "id": "333fa473",
      "metadata": {
        "execution": {
          "iopub.execute_input": "2021-11-13T05:31:32.511648Z",
          "iopub.status.busy": "2021-11-13T05:31:32.511187Z",
          "iopub.status.idle": "2021-11-13T05:31:32.517095Z",
          "shell.execute_reply": "2021-11-13T05:31:32.517551Z",
          "shell.execute_reply.started": "2021-11-13T05:30:21.953177Z"
        },
        "papermill": {
          "duration": 0.037424,
          "end_time": "2021-11-13T05:31:32.517683",
          "exception": false,
          "start_time": "2021-11-13T05:31:32.480259",
          "status": "completed"
        },
        "tags": [],
        "id": "333fa473"
      },
      "outputs": [],
      "source": [
        "X = train.iloc[:,:-1]  \n",
        "y = train['units_sold']   "
      ]
    },
    {
      "cell_type": "code",
      "execution_count": null,
      "id": "6abc3085",
      "metadata": {
        "execution": {
          "iopub.execute_input": "2021-11-13T05:31:32.577003Z",
          "iopub.status.busy": "2021-11-13T05:31:32.576506Z",
          "iopub.status.idle": "2021-11-13T05:31:32.596923Z",
          "shell.execute_reply": "2021-11-13T05:31:32.597332Z",
          "shell.execute_reply.started": "2021-11-13T05:30:21.965384Z"
        },
        "papermill": {
          "duration": 0.052219,
          "end_time": "2021-11-13T05:31:32.597461",
          "exception": false,
          "start_time": "2021-11-13T05:31:32.545242",
          "status": "completed"
        },
        "tags": [],
        "id": "6abc3085"
      },
      "outputs": [],
      "source": [
        "X_train, X_test, y_train, y_test = train_test_split(X,y,test_size=0.2, random_state=4)"
      ]
    },
    {
      "cell_type": "code",
      "execution_count": null,
      "id": "5f23173c",
      "metadata": {
        "execution": {
          "iopub.execute_input": "2021-11-13T05:31:32.655155Z",
          "iopub.status.busy": "2021-11-13T05:31:32.653478Z",
          "iopub.status.idle": "2021-11-13T05:31:32.660717Z",
          "shell.execute_reply": "2021-11-13T05:31:32.659930Z",
          "shell.execute_reply.started": "2021-11-13T05:30:21.996062Z"
        },
        "papermill": {
          "duration": 0.036357,
          "end_time": "2021-11-13T05:31:32.660914",
          "exception": false,
          "start_time": "2021-11-13T05:31:32.624557",
          "status": "completed"
        },
        "tags": [],
        "id": "5f23173c",
        "outputId": "1d16b523-ae7e-4525-9aa3-5c0f84836e0b"
      },
      "outputs": [
        {
          "name": "stdout",
          "output_type": "stream",
          "text": [
            "(96120, 6) (24030, 6) (96120,) (24030,)\n"
          ]
        }
      ],
      "source": [
        "print(X_train.shape, X_test.shape, y_train.shape, y_test.shape)"
      ]
    },
    {
      "cell_type": "code",
      "execution_count": null,
      "id": "685f7ce3",
      "metadata": {
        "execution": {
          "iopub.execute_input": "2021-11-13T05:31:32.718504Z",
          "iopub.status.busy": "2021-11-13T05:31:32.718045Z",
          "iopub.status.idle": "2021-11-13T05:31:32.738161Z",
          "shell.execute_reply": "2021-11-13T05:31:32.738563Z",
          "shell.execute_reply.started": "2021-11-13T05:30:22.004685Z"
        },
        "papermill": {
          "duration": 0.05007,
          "end_time": "2021-11-13T05:31:32.738689",
          "exception": false,
          "start_time": "2021-11-13T05:31:32.688619",
          "status": "completed"
        },
        "tags": [],
        "id": "685f7ce3"
      },
      "outputs": [],
      "source": [
        "sc = StandardScaler()\n",
        "X_train_Scaled = sc.fit_transform(X_train)\n",
        "X_test_Scaled = sc.transform(X_test)"
      ]
    },
    {
      "cell_type": "code",
      "execution_count": null,
      "id": "1f3e88f1",
      "metadata": {
        "execution": {
          "iopub.execute_input": "2021-11-13T05:31:32.796858Z",
          "iopub.status.busy": "2021-11-13T05:31:32.796396Z",
          "iopub.status.idle": "2021-11-13T05:31:52.177069Z",
          "shell.execute_reply": "2021-11-13T05:31:52.176441Z",
          "shell.execute_reply.started": "2021-11-13T05:30:22.036175Z"
        },
        "papermill": {
          "duration": 19.410867,
          "end_time": "2021-11-13T05:31:52.177234",
          "exception": false,
          "start_time": "2021-11-13T05:31:32.766367",
          "status": "completed"
        },
        "tags": [],
        "id": "1f3e88f1",
        "outputId": "8991016c-e0ae-48dc-eb92-b63437f1ef57"
      },
      "outputs": [
        {
          "data": {
            "text/plain": [
              "RandomForestRegressor()"
            ]
          },
          "execution_count": 28,
          "metadata": {},
          "output_type": "execute_result"
        }
      ],
      "source": [
        "rf = RandomForestRegressor()\n",
        "rf.fit(X_train_Scaled, y_train)"
      ]
    },
    {
      "cell_type": "code",
      "execution_count": null,
      "id": "b125ea66",
      "metadata": {
        "execution": {
          "iopub.execute_input": "2021-11-13T05:31:52.267820Z",
          "iopub.status.busy": "2021-11-13T05:31:52.266471Z",
          "iopub.status.idle": "2021-11-13T05:31:52.922465Z",
          "shell.execute_reply": "2021-11-13T05:31:52.922841Z",
          "shell.execute_reply.started": "2021-11-13T05:30:42.146124Z"
        },
        "papermill": {
          "duration": 0.701818,
          "end_time": "2021-11-13T05:31:52.922988",
          "exception": false,
          "start_time": "2021-11-13T05:31:52.221170",
          "status": "completed"
        },
        "tags": [],
        "id": "b125ea66"
      },
      "outputs": [],
      "source": [
        "y_pred = rf.predict(X_test_Scaled)"
      ]
    },
    {
      "cell_type": "code",
      "execution_count": null,
      "id": "e5bee021",
      "metadata": {
        "execution": {
          "iopub.execute_input": "2021-11-13T05:31:52.983047Z",
          "iopub.status.busy": "2021-11-13T05:31:52.982542Z",
          "iopub.status.idle": "2021-11-13T05:31:55.963169Z",
          "shell.execute_reply": "2021-11-13T05:31:55.962500Z",
          "shell.execute_reply.started": "2021-11-13T05:30:42.991397Z"
        },
        "papermill": {
          "duration": 3.010848,
          "end_time": "2021-11-13T05:31:55.963300",
          "exception": false,
          "start_time": "2021-11-13T05:31:52.952452",
          "status": "completed"
        },
        "tags": [],
        "id": "e5bee021",
        "outputId": "379c99ab-0f73-4fda-95b6-75a5e7e99b85"
      },
      "outputs": [
        {
          "name": "stdout",
          "output_type": "stream",
          "text": [
            "Train Score 0.93 & Test Score 0.73\n"
          ]
        }
      ],
      "source": [
        "print(\"Train Score {:.2f} & Test Score {:.2f}\".format(rf.score(X_train_Scaled, y_train),rf.score(X_test_Scaled, y_test)))"
      ]
    },
    {
      "cell_type": "code",
      "execution_count": null,
      "id": "d50c905d",
      "metadata": {
        "execution": {
          "iopub.execute_input": "2021-11-13T05:31:56.022733Z",
          "iopub.status.busy": "2021-11-13T05:31:56.022286Z",
          "iopub.status.idle": "2021-11-13T05:31:56.141922Z",
          "shell.execute_reply": "2021-11-13T05:31:56.142343Z",
          "shell.execute_reply.started": "2021-11-13T05:30:46.813431Z"
        },
        "papermill": {
          "duration": 0.149914,
          "end_time": "2021-11-13T05:31:56.142481",
          "exception": false,
          "start_time": "2021-11-13T05:31:55.992567",
          "status": "completed"
        },
        "tags": [],
        "id": "d50c905d"
      },
      "outputs": [],
      "source": [
        "y_pred_test = rf.predict(test)"
      ]
    },
    {
      "cell_type": "code",
      "execution_count": null,
      "id": "bcc3ed39",
      "metadata": {
        "execution": {
          "iopub.execute_input": "2021-11-13T05:31:56.201448Z",
          "iopub.status.busy": "2021-11-13T05:31:56.200981Z",
          "iopub.status.idle": "2021-11-13T05:31:56.205613Z",
          "shell.execute_reply": "2021-11-13T05:31:56.206076Z",
          "shell.execute_reply.started": "2021-11-13T05:30:46.964524Z"
        },
        "papermill": {
          "duration": 0.035443,
          "end_time": "2021-11-13T05:31:56.206215",
          "exception": false,
          "start_time": "2021-11-13T05:31:56.170772",
          "status": "completed"
        },
        "tags": [],
        "id": "bcc3ed39",
        "outputId": "1c4dfcc1-e9d8-4655-c39b-29dc6a8c5261"
      },
      "outputs": [
        {
          "data": {
            "text/plain": [
              "(30000,)"
            ]
          },
          "execution_count": 32,
          "metadata": {},
          "output_type": "execute_result"
        }
      ],
      "source": [
        "y_pred_test.shape"
      ]
    },
    {
      "cell_type": "code",
      "execution_count": null,
      "id": "af0f84ac",
      "metadata": {
        "execution": {
          "iopub.execute_input": "2021-11-13T05:31:56.267873Z",
          "iopub.status.busy": "2021-11-13T05:31:56.267358Z",
          "iopub.status.idle": "2021-11-13T05:31:56.367486Z",
          "shell.execute_reply": "2021-11-13T05:31:56.366847Z",
          "shell.execute_reply.started": "2021-11-13T05:30:46.973042Z"
        },
        "papermill": {
          "duration": 0.132796,
          "end_time": "2021-11-13T05:31:56.367628",
          "exception": false,
          "start_time": "2021-11-13T05:31:56.234832",
          "status": "completed"
        },
        "tags": [],
        "id": "af0f84ac"
      },
      "outputs": [],
      "source": [
        "submission = pd.DataFrame({'record_ID': test_original['record_ID'], 'units_sold': y_pred_test})\n",
        "submission.to_csv('Submission.csv', index=False)"
      ]
    }
  ],
  "metadata": {
    "kernelspec": {
      "display_name": "Python 3",
      "language": "python",
      "name": "python3"
    },
    "language_info": {
      "codemirror_mode": {
        "name": "ipython",
        "version": 3
      },
      "file_extension": ".py",
      "mimetype": "text/x-python",
      "name": "python",
      "nbconvert_exporter": "python",
      "pygments_lexer": "ipython3",
      "version": "3.7.10"
    },
    "papermill": {
      "default_parameters": {},
      "duration": 37.970742,
      "end_time": "2021-11-13T05:31:57.218713",
      "environment_variables": {},
      "exception": null,
      "input_path": "__notebook__.ipynb",
      "output_path": "__notebook__.ipynb",
      "parameters": {},
      "start_time": "2021-11-13T05:31:19.247971",
      "version": "2.3.3"
    },
    "colab": {
      "name": "Regression Evaluation.ipynb",
      "provenance": []
    }
  },
  "nbformat": 4,
  "nbformat_minor": 5
}