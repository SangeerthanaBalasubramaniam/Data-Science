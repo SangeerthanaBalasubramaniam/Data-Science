{
  "nbformat": 4,
  "nbformat_minor": 0,
  "metadata": {
    "kernelspec": {
      "display_name": "Python 3",
      "language": "python",
      "name": "python3"
    },
    "language_info": {
      "codemirror_mode": {
        "name": "ipython",
        "version": 3
      },
      "file_extension": ".py",
      "mimetype": "text/x-python",
      "name": "python",
      "nbconvert_exporter": "python",
      "pygments_lexer": "ipython3",
      "version": "3.6.9"
    },
    "colab": {
      "name": "Hypothesis Testing Evaluation_19144.ipynb",
      "provenance": [],
      "collapsed_sections": []
    }
  },
  "cells": [
    {
      "cell_type": "markdown",
      "metadata": {
        "id": "8uwR1KBj2hN_"
      },
      "source": [
        "## Import *all* necessary libraries here"
      ]
    },
    {
      "cell_type": "code",
      "metadata": {
        "id": "2KQXk5xu2hOE"
      },
      "source": [
        "import numpy as np\n",
        "import pandas as pd\n",
        "import scipy.stats as st\n",
        "from statistics import *"
      ],
      "execution_count": null,
      "outputs": []
    },
    {
      "cell_type": "markdown",
      "metadata": {
        "id": "cB_Xov7F2hOG"
      },
      "source": [
        "## Question 1 : Warming and Ice Melt \n",
        "The average depth of the Hudson Bay is 305 feet. Climatologists were interested in seeing if warming and ice melt were affecting the water level. Fifty-five measurements over a period of randomly selected weeks yielded a\n",
        "sample mean of 306.2 feet. The population variance is known to be 3.6. Can it be concluded at the 0.05 level of significance that the average depth has increased? Is there evidence of what caused this to happen?\n"
      ]
    },
    {
      "cell_type": "code",
      "metadata": {
        "colab": {
          "base_uri": "https://localhost:8080/"
        },
        "id": "-JxXzyPH2hOH",
        "outputId": "d947b5c2-8007-4f60-ba59-a7a2eb25959f"
      },
      "source": [
        "def q1():\n",
        "    #List your hypothesis in the comment below\n",
        "    # H0 : μ = 305; Ha : μ > 305\n",
        "    \n",
        "    #Initial variable here\n",
        "    n = 55\n",
        "    xbar = 306.2\n",
        "    mu = 305\n",
        "    sigma = np.sqrt(3.6)\n",
        "    alpha = 0.05\n",
        "    \n",
        "    #Fill in your code here\n",
        "    z = (xbar-mu)/(sigma/np.sqrt(n))\n",
        "    z_critical = abs(st.norm.ppf(alpha))\n",
        "    \n",
        "    if(z < z_critical): #Add your condition check\n",
        "        rejection = False \n",
        "    else:\n",
        "        rejection = True\n",
        "        \n",
        "    return rejection, z, z_critical\n",
        "\n",
        "q1()"
      ],
      "execution_count": null,
      "outputs": [
        {
          "output_type": "execute_result",
          "data": {
            "text/plain": [
              "(True, 4.690415759823385, 1.6448536269514729)"
            ]
          },
          "metadata": {},
          "execution_count": 2
        }
      ]
    },
    {
      "cell_type": "markdown",
      "metadata": {
        "id": "Da8hsSa72hOH"
      },
      "source": [
        "## Question 2 : Stopping Distances \n",
        "A study found that the average stopping distance of a school bus traveling 50 miles per hour was 264 feet. A group of automotive engineers decided to conduct a study of its school buses and found that for 20 randomly selected buses, the average stopping distance of buses traveling 50 miles per hour was 262.3 feet. The standard deviation of the population was 3 feet. Test the claim that the average stopping distance of the company’s buses is actually\n",
        "less than 264 feet. Find the P-value. On the basis of the P-value, should the null hypothesis be rejected\n",
        "at α = 0.01? Assume that the variable is normally distributed.\n"
      ]
    },
    {
      "cell_type": "code",
      "metadata": {
        "colab": {
          "base_uri": "https://localhost:8080/"
        },
        "id": "DIkoEMNn2hOI",
        "outputId": "9bf6bf9a-db0b-4c4b-d62f-75d2f3cb4e22"
      },
      "source": [
        "def q2():\n",
        "    #List your hypothesis in the comment below\n",
        "    # H0 : μ = 264; Ha : μ < 264\n",
        "    \n",
        "    #Initial variable here\n",
        "    n = 20\n",
        "    xbar = 262.3\n",
        "    mu = 264\n",
        "    sigma = 3\n",
        "    alpha = 0.01\n",
        "    \n",
        "    #Fill in your code here\n",
        "    z = (xbar-mu)/(sigma/np.sqrt(n))\n",
        "    p = (1 - st.norm.cdf(abs(z)))\n",
        "    \n",
        "    if(p > alpha): #Add your condition check\n",
        "        rejection = False \n",
        "    else:\n",
        "        rejection = True\n",
        "        \n",
        "    return rejection, z, p\n",
        "\n",
        "q2()"
      ],
      "execution_count": null,
      "outputs": [
        {
          "output_type": "execute_result",
          "data": {
            "text/plain": [
              "(True, -2.534210374499745, 0.0056350524246419065)"
            ]
          },
          "metadata": {},
          "execution_count": 3
        }
      ]
    },
    {
      "cell_type": "markdown",
      "metadata": {
        "id": "uk5ztNR12hOJ"
      },
      "source": [
        "## Question 3 : Television Viewing by Teens\n",
        "Teens are reported to watch the fewest total hours of television per week of all the demographic groups. The average television viewing for teens on Sunday from 1:00 to 7:00 p.m. is 58 minutes. A random sample of local teens disclosed the following times (given as the list viz 'data') for Sunday afternoon television viewing. At α = 0.01, can it be concluded that the average is greater than the national viewing time? (Note: Change all times to minutes.)"
      ]
    },
    {
      "cell_type": "code",
      "metadata": {
        "id": "U3UywQws2hOL"
      },
      "source": [
        "data = [\"2:30\", \"1:00\", \"1:30\", \"2:00\", \"2:15\", \"2:30\", \"1:30\", \"1:50\", \"3:20\", \"2:10\"]"
      ],
      "execution_count": null,
      "outputs": []
    },
    {
      "cell_type": "code",
      "metadata": {
        "colab": {
          "base_uri": "https://localhost:8080/"
        },
        "id": "mi4qUjcA2hOM",
        "outputId": "c6a8bede-34a6-475c-ae9e-9d61afbb69fd"
      },
      "source": [
        "def q3():\n",
        "    #List your hypothesis in the comment below\n",
        "    # H0 : μ = 58; Ha : μ > 58\n",
        "    \n",
        "    #Initial variables here\n",
        "    input = np.array([60*2+30, 60, 60+30, 60*2, 60*2+15, 60*2+30, 60+30, 60+50, 3*60+20, 2*60+10])\n",
        "    n = len(input)\n",
        "    xbar = input.mean()\n",
        "    mu = 58\n",
        "    sigma = np.std(input)\n",
        "    alpha = 0.01\n",
        "    \n",
        "    #Fill in your code here\n",
        "    t = (xbar-mu)/(sigma/np.sqrt(n))\n",
        "    t_critical = 2.821\n",
        "    \n",
        "    if(t > t_critical): #Add your condition check\n",
        "        rejection = False \n",
        "    else:\n",
        "        rejection = True\n",
        "        \n",
        "    return rejection, t, t_critical\n",
        "\n",
        "q3()"
      ],
      "execution_count": null,
      "outputs": [
        {
          "output_type": "execute_result",
          "data": {
            "text/plain": [
              "(False, 5.555137949098938, 2.821)"
            ]
          },
          "metadata": {},
          "execution_count": 5
        }
      ]
    },
    {
      "cell_type": "markdown",
      "metadata": {
        "id": "QUza4GjK2hOP"
      },
      "source": [
        "## Question 4 : Doctor Visits \n",
        "A report by the Gallup Poll stated that on average a woman visits her physician 5.8 times a year. A researcher randomly selects 20 women and obtained these data (list viz 'data' given below). At α = 0.05, can it be concluded that the average is still 5.8 visits per year? Use the P-value method."
      ]
    },
    {
      "cell_type": "code",
      "metadata": {
        "id": "HHlYOBh12hOQ"
      },
      "source": [
        "data = [3, 8, 2, 0, 1, 5, 3, 6, 7, 4, 2, 2, 4, 3, 6, 4, 6, 1]"
      ],
      "execution_count": null,
      "outputs": []
    },
    {
      "cell_type": "code",
      "metadata": {
        "colab": {
          "base_uri": "https://localhost:8080/"
        },
        "id": "NsfsxyHE2hOR",
        "outputId": "d7f19b52-f7f2-4414-9f60-0f4f4da22681"
      },
      "source": [
        "def q4():\n",
        "    #List your hypothesis in the comment below\n",
        "    # H0 : μ = 5.8; Ha : μ < 5.8\n",
        "    \n",
        "    #Initial variables here\n",
        "    data = pd.Series([3, 8, 2, 0, 1, 5, 3, 6, 7, 4, 2, 2, 4, 3, 6, 4, 6, 1, 9, 1])\n",
        "    sums = 0\n",
        "    for i in data:\n",
        "      sums=sums+i\n",
        "    n = 20\n",
        "    xbar = sums/n\n",
        "    mu = 5.8\n",
        "    sigma = data.std()\n",
        "    alpha = 0.05\n",
        "    \n",
        "    #Fill in your code here\n",
        "    v = sigma/np.sqrt(n)\n",
        "    t = (xbar-mu)/v\n",
        "    p = 0.00054\n",
        "    \n",
        "    if(p < alpha): #Add your condition check\n",
        "        rejection = False \n",
        "    else:\n",
        "        rejection = True\n",
        "        \n",
        "    return rejection, t, p\n",
        "\n",
        "q4()"
      ],
      "execution_count": null,
      "outputs": [
        {
          "output_type": "execute_result",
          "data": {
            "text/plain": [
              "(False, -3.4621254646973267, 0.00054)"
            ]
          },
          "metadata": {},
          "execution_count": 7
        }
      ]
    },
    {
      "cell_type": "markdown",
      "metadata": {
        "id": "2in9c8S-2hOT"
      },
      "source": [
        "## Question 5 : Age of Psychologists \n",
        "Test the claim that the standard deviation of the ages of psychologists in Pennsylvania is 8.6 at α = 0.05. A random sample of 12 psychologists had a standard deviation of 9.3."
      ]
    },
    {
      "cell_type": "code",
      "metadata": {
        "colab": {
          "base_uri": "https://localhost:8080/"
        },
        "id": "kbCENXD02hOU",
        "outputId": "451b717b-dcc5-42b6-fdce-db1f5deda0e2"
      },
      "source": [
        "def q5():\n",
        "    #List your hypothesis in the comment below\n",
        "    # H0 : μ = 8.6; Ha : μ != 8.6\n",
        "    \n",
        "    #Initial variables here\n",
        "    n = 12\n",
        "    degrees_of_freedom = 11\n",
        "    s = 9.3\n",
        "    sigma = 8.6\n",
        "    alpha = 0.05\n",
        "    \n",
        "    #Fill in your code here\n",
        "    chi_square = round((n-1)*(s*s)/(sigma*sigma),2)\n",
        "    chi_square_critical_right = round(st.chi2.ppf(alpha/2,degrees_of_freedom),2)\n",
        "    chi_square_critical_left = round(st.chi2.ppf(1-(alpha/2),degrees_of_freedom),2)\n",
        "    \n",
        "    if(chi_square<chi_square_critical_left or chi_square>chi_square_critical_right): #Add your condition check\n",
        "        rejection = False \n",
        "    else:\n",
        "        rejection = True\n",
        "        \n",
        "    return rejection, chi_square, chi_square_critical_right,chi_square_critical_left\n",
        "\n",
        "q5()"
      ],
      "execution_count": null,
      "outputs": [
        {
          "output_type": "execute_result",
          "data": {
            "text/plain": [
              "(False, 12.86, 3.82, 21.92)"
            ]
          },
          "metadata": {},
          "execution_count": 8
        }
      ]
    },
    {
      "cell_type": "markdown",
      "metadata": {
        "id": "UA9GXD942hOW"
      },
      "source": [
        "## Question 6 : Transferring Phone Calls\n",
        "The manager of a large company claims that the standard deviation of the time (in minutes) that it takes a telephone call to be transferred to the correct office in her company is 1.2 minutes or less. A random sample of 15 calls is selected, and the calls are timed. The standard deviation of the sample is 1.8 minutes. At α = 0.01, test the claim that the standard deviation is less than or equal to 1.2 minutes. Use the P-value method.\n"
      ]
    },
    {
      "cell_type": "code",
      "metadata": {
        "colab": {
          "base_uri": "https://localhost:8080/"
        },
        "id": "0OssPSHe2hOW",
        "outputId": "ede19215-83ca-4096-a630-7627b10e5a8f"
      },
      "source": [
        "def q6():\n",
        "    #List your hypothesis in the comment below\n",
        "    # H0 : μ <= 1.2 ; Ha : μ > 1.2\n",
        "    \n",
        "    #Initial variables here\n",
        "    n = 15\n",
        "    degrees_of_freedom = 14\n",
        "    s = 1.8\n",
        "    sigma = 1.2\n",
        "    alpha = 0.01\n",
        "    \n",
        "    #Fill in your code here\n",
        "    chi_square = ((n-1)*(s**2))/(sigma**2)\n",
        "    p = st.chi2.cdf(chi_square,degrees_of_freedom)*2\n",
        "    \n",
        "    if(p > alpha): #Add your condition check\n",
        "        rejection = False \n",
        "    else:\n",
        "        rejection = True\n",
        "        \n",
        "    return rejection, chi_square, p\n",
        "\n",
        "q6()"
      ],
      "execution_count": null,
      "outputs": [
        {
          "output_type": "execute_result",
          "data": {
            "text/plain": [
              "(False, 31.5, 1.990569161614143)"
            ]
          },
          "metadata": {},
          "execution_count": 9
        }
      ]
    }
  ]
}