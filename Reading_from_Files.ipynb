{
  "nbformat": 4,
  "nbformat_minor": 0,
  "metadata": {
    "colab": {
      "name": "Reading from Files.ipynb",
      "provenance": [],
      "collapsed_sections": [],
      "authorship_tag": "ABX9TyMYPvqwcW6LG8jy1MTGn3Jc"
    },
    "kernelspec": {
      "name": "python3",
      "display_name": "Python 3"
    },
    "language_info": {
      "name": "python"
    }
  },
  "cells": [
    {
      "cell_type": "code",
      "metadata": {
        "colab": {
          "base_uri": "https://localhost:8080/"
        },
        "id": "FdSZKMt4e6Wm",
        "outputId": "b8767cd4-5f3a-4426-979a-d08629bd1320"
      },
      "source": [
        "ls #path"
      ],
      "execution_count": null,
      "outputs": [
        {
          "output_type": "stream",
          "text": [
            "Boston_housing.csv  CSV_EX_1.csv  CSV_EX_2.csv  CSV_EX_3.csv  \u001b[0m\u001b[01;34msample_data\u001b[0m/\n"
          ],
          "name": "stdout"
        }
      ]
    },
    {
      "cell_type": "code",
      "metadata": {
        "colab": {
          "base_uri": "https://localhost:8080/",
          "height": 35
        },
        "id": "6BUsp-VSgjI0",
        "outputId": "3cb75469-80fd-48da-b228-1227ce2eb90a"
      },
      "source": [
        "pwd #current working directory"
      ],
      "execution_count": null,
      "outputs": [
        {
          "output_type": "execute_result",
          "data": {
            "application/vnd.google.colaboratory.intrinsic+json": {
              "type": "string"
            },
            "text/plain": [
              "'/content'"
            ]
          },
          "metadata": {
            "tags": []
          },
          "execution_count": 2
        }
      ]
    },
    {
      "cell_type": "code",
      "metadata": {
        "colab": {
          "base_uri": "https://localhost:8080/"
        },
        "id": "LBpC7qkIGmkY",
        "outputId": "c3b32dd4-8370-4322-9e62-fc8f3f7959c2"
      },
      "source": [
        "cd .."
      ],
      "execution_count": null,
      "outputs": [
        {
          "output_type": "stream",
          "text": [
            "/\n"
          ],
          "name": "stdout"
        }
      ]
    },
    {
      "cell_type": "code",
      "metadata": {
        "id": "kPr73klcg92O",
        "colab": {
          "base_uri": "https://localhost:8080/"
        },
        "outputId": "aab0975d-819f-4370-da2c-c2dfdf0e2ec1"
      },
      "source": [
        "cat /content/CSV_EX_3.csv"
      ],
      "execution_count": null,
      "outputs": [
        {
          "output_type": "stream",
          "text": [
            "Bedroom; Sq. foot; Locality; Price ($)\n",
            "2; 1500; Good; 300000\n",
            "3; 1300; Fair; 240000\n",
            "3; 1900; Very good; 450000\n",
            "3; 1850; Bad; 280000\n",
            "2; 1640; Good; 310000"
          ],
          "name": "stdout"
        }
      ]
    },
    {
      "cell_type": "code",
      "metadata": {
        "id": "Pw-RUhASG9Az"
      },
      "source": [
        "import pandas as pd"
      ],
      "execution_count": null,
      "outputs": []
    },
    {
      "cell_type": "markdown",
      "metadata": {
        "id": "DIDFcQMMZKFW"
      },
      "source": [
        "**Reading from a CSV file**"
      ]
    },
    {
      "cell_type": "markdown",
      "metadata": {
        "id": "Ik1g4AeCZ8qR"
      },
      "source": [
        "Default case"
      ]
    },
    {
      "cell_type": "code",
      "metadata": {
        "id": "OpPIllDGG_GF"
      },
      "source": [
        "df1 = pd.read_csv(\"/content/CSV_EX_1.csv\")"
      ],
      "execution_count": null,
      "outputs": []
    },
    {
      "cell_type": "code",
      "metadata": {
        "colab": {
          "base_uri": "https://localhost:8080/",
          "height": 203
        },
        "id": "WeS1OxzBHCqd",
        "outputId": "cde921d8-914f-495c-b5d8-38082cf4579e"
      },
      "source": [
        "df1"
      ],
      "execution_count": null,
      "outputs": [
        {
          "output_type": "execute_result",
          "data": {
            "text/html": [
              "<div>\n",
              "<style scoped>\n",
              "    .dataframe tbody tr th:only-of-type {\n",
              "        vertical-align: middle;\n",
              "    }\n",
              "\n",
              "    .dataframe tbody tr th {\n",
              "        vertical-align: top;\n",
              "    }\n",
              "\n",
              "    .dataframe thead th {\n",
              "        text-align: right;\n",
              "    }\n",
              "</style>\n",
              "<table border=\"1\" class=\"dataframe\">\n",
              "  <thead>\n",
              "    <tr style=\"text-align: right;\">\n",
              "      <th></th>\n",
              "      <th>Bedroom</th>\n",
              "      <th>Sq. foot</th>\n",
              "      <th>Locality</th>\n",
              "      <th>Price ($)</th>\n",
              "    </tr>\n",
              "  </thead>\n",
              "  <tbody>\n",
              "    <tr>\n",
              "      <th>0</th>\n",
              "      <td>2</td>\n",
              "      <td>1500</td>\n",
              "      <td>Good</td>\n",
              "      <td>300000</td>\n",
              "    </tr>\n",
              "    <tr>\n",
              "      <th>1</th>\n",
              "      <td>3</td>\n",
              "      <td>1300</td>\n",
              "      <td>Fair</td>\n",
              "      <td>240000</td>\n",
              "    </tr>\n",
              "    <tr>\n",
              "      <th>2</th>\n",
              "      <td>3</td>\n",
              "      <td>1900</td>\n",
              "      <td>Very good</td>\n",
              "      <td>450000</td>\n",
              "    </tr>\n",
              "    <tr>\n",
              "      <th>3</th>\n",
              "      <td>3</td>\n",
              "      <td>1850</td>\n",
              "      <td>Bad</td>\n",
              "      <td>280000</td>\n",
              "    </tr>\n",
              "    <tr>\n",
              "      <th>4</th>\n",
              "      <td>2</td>\n",
              "      <td>1640</td>\n",
              "      <td>Good</td>\n",
              "      <td>310000</td>\n",
              "    </tr>\n",
              "  </tbody>\n",
              "</table>\n",
              "</div>"
            ],
            "text/plain": [
              "   Bedroom   Sq. foot    Locality   Price ($)\n",
              "0        2       1500        Good      300000\n",
              "1        3       1300        Fair      240000\n",
              "2        3       1900   Very good      450000\n",
              "3        3       1850         Bad      280000\n",
              "4        2       1640        Good      310000"
            ]
          },
          "metadata": {
            "tags": []
          },
          "execution_count": 7
        }
      ]
    },
    {
      "cell_type": "markdown",
      "metadata": {
        "id": "50QatA-NZ_YG"
      },
      "source": [
        "Missing headers"
      ]
    },
    {
      "cell_type": "code",
      "metadata": {
        "id": "jXqfy340H_T6"
      },
      "source": [
        "# If there is no header in csv, first row will be considered as header by default. \n",
        "# By using header=None, first rows will also be added in dataset as data.\n",
        "df2 = pd.read_csv(\"/content/CSV_EX_2.csv\", header=None)"
      ],
      "execution_count": null,
      "outputs": []
    },
    {
      "cell_type": "code",
      "metadata": {
        "colab": {
          "base_uri": "https://localhost:8080/",
          "height": 203
        },
        "id": "nep93oA1IGYR",
        "outputId": "fc3b930b-d1de-447a-c8f9-287ffca8d107"
      },
      "source": [
        "df2 # If header=None, column index will be considered as header."
      ],
      "execution_count": null,
      "outputs": [
        {
          "output_type": "execute_result",
          "data": {
            "text/html": [
              "<div>\n",
              "<style scoped>\n",
              "    .dataframe tbody tr th:only-of-type {\n",
              "        vertical-align: middle;\n",
              "    }\n",
              "\n",
              "    .dataframe tbody tr th {\n",
              "        vertical-align: top;\n",
              "    }\n",
              "\n",
              "    .dataframe thead th {\n",
              "        text-align: right;\n",
              "    }\n",
              "</style>\n",
              "<table border=\"1\" class=\"dataframe\">\n",
              "  <thead>\n",
              "    <tr style=\"text-align: right;\">\n",
              "      <th></th>\n",
              "      <th>0</th>\n",
              "      <th>1</th>\n",
              "      <th>2</th>\n",
              "      <th>3</th>\n",
              "    </tr>\n",
              "  </thead>\n",
              "  <tbody>\n",
              "    <tr>\n",
              "      <th>0</th>\n",
              "      <td>2</td>\n",
              "      <td>1500</td>\n",
              "      <td>Good</td>\n",
              "      <td>300000</td>\n",
              "    </tr>\n",
              "    <tr>\n",
              "      <th>1</th>\n",
              "      <td>3</td>\n",
              "      <td>1300</td>\n",
              "      <td>Fair</td>\n",
              "      <td>240000</td>\n",
              "    </tr>\n",
              "    <tr>\n",
              "      <th>2</th>\n",
              "      <td>3</td>\n",
              "      <td>1900</td>\n",
              "      <td>Very good</td>\n",
              "      <td>450000</td>\n",
              "    </tr>\n",
              "    <tr>\n",
              "      <th>3</th>\n",
              "      <td>3</td>\n",
              "      <td>1850</td>\n",
              "      <td>Bad</td>\n",
              "      <td>280000</td>\n",
              "    </tr>\n",
              "    <tr>\n",
              "      <th>4</th>\n",
              "      <td>2</td>\n",
              "      <td>1640</td>\n",
              "      <td>Good</td>\n",
              "      <td>310000</td>\n",
              "    </tr>\n",
              "  </tbody>\n",
              "</table>\n",
              "</div>"
            ],
            "text/plain": [
              "   0     1           2       3\n",
              "0  2  1500        Good  300000\n",
              "1  3  1300        Fair  240000\n",
              "2  3  1900   Very good  450000\n",
              "3  3  1850         Bad  280000\n",
              "4  2  1640        Good  310000"
            ]
          },
          "metadata": {
            "tags": []
          },
          "execution_count": 9
        }
      ]
    },
    {
      "cell_type": "markdown",
      "metadata": {
        "id": "cuA1HR1IaBha"
      },
      "source": [
        "Custom column headers"
      ]
    },
    {
      "cell_type": "code",
      "metadata": {
        "id": "yX_j-ugCI6_F"
      },
      "source": [
        "df2 = pd.read_csv(\"/content/CSV_EX_2.csv\", names=['Bedroom','Sq. foot', 'Locality','Price ($)'])"
      ],
      "execution_count": null,
      "outputs": []
    },
    {
      "cell_type": "code",
      "metadata": {
        "colab": {
          "base_uri": "https://localhost:8080/",
          "height": 203
        },
        "id": "eU5IC55TI_ji",
        "outputId": "d0c6eb92-dfb6-4e8d-e1ad-4c8200d8a37d"
      },
      "source": [
        "df2"
      ],
      "execution_count": null,
      "outputs": [
        {
          "output_type": "execute_result",
          "data": {
            "text/html": [
              "<div>\n",
              "<style scoped>\n",
              "    .dataframe tbody tr th:only-of-type {\n",
              "        vertical-align: middle;\n",
              "    }\n",
              "\n",
              "    .dataframe tbody tr th {\n",
              "        vertical-align: top;\n",
              "    }\n",
              "\n",
              "    .dataframe thead th {\n",
              "        text-align: right;\n",
              "    }\n",
              "</style>\n",
              "<table border=\"1\" class=\"dataframe\">\n",
              "  <thead>\n",
              "    <tr style=\"text-align: right;\">\n",
              "      <th></th>\n",
              "      <th>Bedroom</th>\n",
              "      <th>Sq. foot</th>\n",
              "      <th>Locality</th>\n",
              "      <th>Price ($)</th>\n",
              "    </tr>\n",
              "  </thead>\n",
              "  <tbody>\n",
              "    <tr>\n",
              "      <th>0</th>\n",
              "      <td>2</td>\n",
              "      <td>1500</td>\n",
              "      <td>Good</td>\n",
              "      <td>300000</td>\n",
              "    </tr>\n",
              "    <tr>\n",
              "      <th>1</th>\n",
              "      <td>3</td>\n",
              "      <td>1300</td>\n",
              "      <td>Fair</td>\n",
              "      <td>240000</td>\n",
              "    </tr>\n",
              "    <tr>\n",
              "      <th>2</th>\n",
              "      <td>3</td>\n",
              "      <td>1900</td>\n",
              "      <td>Very good</td>\n",
              "      <td>450000</td>\n",
              "    </tr>\n",
              "    <tr>\n",
              "      <th>3</th>\n",
              "      <td>3</td>\n",
              "      <td>1850</td>\n",
              "      <td>Bad</td>\n",
              "      <td>280000</td>\n",
              "    </tr>\n",
              "    <tr>\n",
              "      <th>4</th>\n",
              "      <td>2</td>\n",
              "      <td>1640</td>\n",
              "      <td>Good</td>\n",
              "      <td>310000</td>\n",
              "    </tr>\n",
              "  </tbody>\n",
              "</table>\n",
              "</div>"
            ],
            "text/plain": [
              "   Bedroom  Sq. foot    Locality  Price ($)\n",
              "0        2      1500        Good     300000\n",
              "1        3      1300        Fair     240000\n",
              "2        3      1900   Very good     450000\n",
              "3        3      1850         Bad     280000\n",
              "4        2      1640        Good     310000"
            ]
          },
          "metadata": {
            "tags": []
          },
          "execution_count": 11
        }
      ]
    },
    {
      "cell_type": "markdown",
      "metadata": {
        "id": "BcdkyzplaLVZ"
      },
      "source": [
        "Non-default separators"
      ]
    },
    {
      "cell_type": "code",
      "metadata": {
        "id": "PvOD8wBAJLOj"
      },
      "source": [
        "df3 = pd.read_csv(\"/content/CSV_EX_3.csv\")"
      ],
      "execution_count": null,
      "outputs": []
    },
    {
      "cell_type": "markdown",
      "metadata": {
        "id": "yBVIHbK-aMR7"
      },
      "source": [
        "Default seperator is \",\". But sometimes, when csv using custom seperator is used, csv file will not be read properly and there are change that it can be considered as entire single column demonstrated below."
      ]
    },
    {
      "cell_type": "code",
      "metadata": {
        "colab": {
          "base_uri": "https://localhost:8080/",
          "height": 203
        },
        "id": "vnkQdrQpJUTj",
        "outputId": "64e00007-f496-4054-b911-3c5084138598"
      },
      "source": [
        "df3"
      ],
      "execution_count": null,
      "outputs": [
        {
          "output_type": "execute_result",
          "data": {
            "text/html": [
              "<div>\n",
              "<style scoped>\n",
              "    .dataframe tbody tr th:only-of-type {\n",
              "        vertical-align: middle;\n",
              "    }\n",
              "\n",
              "    .dataframe tbody tr th {\n",
              "        vertical-align: top;\n",
              "    }\n",
              "\n",
              "    .dataframe thead th {\n",
              "        text-align: right;\n",
              "    }\n",
              "</style>\n",
              "<table border=\"1\" class=\"dataframe\">\n",
              "  <thead>\n",
              "    <tr style=\"text-align: right;\">\n",
              "      <th></th>\n",
              "      <th>Bedroom; Sq. foot; Locality; Price ($)</th>\n",
              "    </tr>\n",
              "  </thead>\n",
              "  <tbody>\n",
              "    <tr>\n",
              "      <th>0</th>\n",
              "      <td>2; 1500; Good; 300000</td>\n",
              "    </tr>\n",
              "    <tr>\n",
              "      <th>1</th>\n",
              "      <td>3; 1300; Fair; 240000</td>\n",
              "    </tr>\n",
              "    <tr>\n",
              "      <th>2</th>\n",
              "      <td>3; 1900; Very good; 450000</td>\n",
              "    </tr>\n",
              "    <tr>\n",
              "      <th>3</th>\n",
              "      <td>3; 1850; Bad; 280000</td>\n",
              "    </tr>\n",
              "    <tr>\n",
              "      <th>4</th>\n",
              "      <td>2; 1640; Good; 310000</td>\n",
              "    </tr>\n",
              "  </tbody>\n",
              "</table>\n",
              "</div>"
            ],
            "text/plain": [
              "  Bedroom; Sq. foot; Locality; Price ($)\n",
              "0                  2; 1500; Good; 300000\n",
              "1                  3; 1300; Fair; 240000\n",
              "2             3; 1900; Very good; 450000\n",
              "3                   3; 1850; Bad; 280000\n",
              "4                  2; 1640; Good; 310000"
            ]
          },
          "metadata": {
            "tags": []
          },
          "execution_count": 13
        }
      ]
    },
    {
      "cell_type": "code",
      "metadata": {
        "id": "zqLPtyFwJxVe"
      },
      "source": [
        "# To avoid this, seperator can be defined.\n",
        "df3 = pd.read_csv(\"/content/CSV_EX_3.csv\",sep=';')"
      ],
      "execution_count": null,
      "outputs": []
    },
    {
      "cell_type": "code",
      "metadata": {
        "colab": {
          "base_uri": "https://localhost:8080/",
          "height": 203
        },
        "id": "sDkwBWKuJ1M3",
        "outputId": "456e7539-853b-4cd1-80e0-e6131493b0f9"
      },
      "source": [
        "df3"
      ],
      "execution_count": null,
      "outputs": [
        {
          "output_type": "execute_result",
          "data": {
            "text/html": [
              "<div>\n",
              "<style scoped>\n",
              "    .dataframe tbody tr th:only-of-type {\n",
              "        vertical-align: middle;\n",
              "    }\n",
              "\n",
              "    .dataframe tbody tr th {\n",
              "        vertical-align: top;\n",
              "    }\n",
              "\n",
              "    .dataframe thead th {\n",
              "        text-align: right;\n",
              "    }\n",
              "</style>\n",
              "<table border=\"1\" class=\"dataframe\">\n",
              "  <thead>\n",
              "    <tr style=\"text-align: right;\">\n",
              "      <th></th>\n",
              "      <th>Bedroom</th>\n",
              "      <th>Sq. foot</th>\n",
              "      <th>Locality</th>\n",
              "      <th>Price ($)</th>\n",
              "    </tr>\n",
              "  </thead>\n",
              "  <tbody>\n",
              "    <tr>\n",
              "      <th>0</th>\n",
              "      <td>2</td>\n",
              "      <td>1500</td>\n",
              "      <td>Good</td>\n",
              "      <td>300000</td>\n",
              "    </tr>\n",
              "    <tr>\n",
              "      <th>1</th>\n",
              "      <td>3</td>\n",
              "      <td>1300</td>\n",
              "      <td>Fair</td>\n",
              "      <td>240000</td>\n",
              "    </tr>\n",
              "    <tr>\n",
              "      <th>2</th>\n",
              "      <td>3</td>\n",
              "      <td>1900</td>\n",
              "      <td>Very good</td>\n",
              "      <td>450000</td>\n",
              "    </tr>\n",
              "    <tr>\n",
              "      <th>3</th>\n",
              "      <td>3</td>\n",
              "      <td>1850</td>\n",
              "      <td>Bad</td>\n",
              "      <td>280000</td>\n",
              "    </tr>\n",
              "    <tr>\n",
              "      <th>4</th>\n",
              "      <td>2</td>\n",
              "      <td>1640</td>\n",
              "      <td>Good</td>\n",
              "      <td>310000</td>\n",
              "    </tr>\n",
              "  </tbody>\n",
              "</table>\n",
              "</div>"
            ],
            "text/plain": [
              "   Bedroom   Sq. foot    Locality   Price ($)\n",
              "0        2       1500        Good      300000\n",
              "1        3       1300        Fair      240000\n",
              "2        3       1900   Very good      450000\n",
              "3        3       1850         Bad      280000\n",
              "4        2       1640        Good      310000"
            ]
          },
          "metadata": {
            "tags": []
          },
          "execution_count": 15
        }
      ]
    },
    {
      "cell_type": "markdown",
      "metadata": {
        "id": "FlPKpSeGbdMY"
      },
      "source": [
        "Skip rows\n",
        "\n",
        "Files can have normal text like descriptions. To avoid those to be read as data, skiprows will be used. skiprows skips the text and unnecessary details."
      ]
    },
    {
      "cell_type": "code",
      "metadata": {
        "id": "CDQuxuADK2f9"
      },
      "source": [
        "df5 = pd.read_csv('/content/CSV_EX_skiprows.csv', skiprows=2) #skips first two rows from the csv file."
      ],
      "execution_count": null,
      "outputs": []
    },
    {
      "cell_type": "code",
      "metadata": {
        "colab": {
          "base_uri": "https://localhost:8080/",
          "height": 203
        },
        "id": "nA1PpYxLK7f3",
        "outputId": "468c1c5b-6ada-49ca-eb1a-f81637ce325a"
      },
      "source": [
        "df5"
      ],
      "execution_count": null,
      "outputs": [
        {
          "output_type": "execute_result",
          "data": {
            "text/html": [
              "<div>\n",
              "<style scoped>\n",
              "    .dataframe tbody tr th:only-of-type {\n",
              "        vertical-align: middle;\n",
              "    }\n",
              "\n",
              "    .dataframe tbody tr th {\n",
              "        vertical-align: top;\n",
              "    }\n",
              "\n",
              "    .dataframe thead th {\n",
              "        text-align: right;\n",
              "    }\n",
              "</style>\n",
              "<table border=\"1\" class=\"dataframe\">\n",
              "  <thead>\n",
              "    <tr style=\"text-align: right;\">\n",
              "      <th></th>\n",
              "      <th>Bedroom</th>\n",
              "      <th>Sq. foot</th>\n",
              "      <th>Locality</th>\n",
              "      <th>Price ($)</th>\n",
              "    </tr>\n",
              "  </thead>\n",
              "  <tbody>\n",
              "    <tr>\n",
              "      <th>0</th>\n",
              "      <td>2</td>\n",
              "      <td>1500</td>\n",
              "      <td>Good</td>\n",
              "      <td>300000</td>\n",
              "    </tr>\n",
              "    <tr>\n",
              "      <th>1</th>\n",
              "      <td>3</td>\n",
              "      <td>1300</td>\n",
              "      <td>Fair</td>\n",
              "      <td>240000</td>\n",
              "    </tr>\n",
              "    <tr>\n",
              "      <th>2</th>\n",
              "      <td>3</td>\n",
              "      <td>1900</td>\n",
              "      <td>Very good</td>\n",
              "      <td>450000</td>\n",
              "    </tr>\n",
              "    <tr>\n",
              "      <th>3</th>\n",
              "      <td>3</td>\n",
              "      <td>1850</td>\n",
              "      <td>Bad</td>\n",
              "      <td>280000</td>\n",
              "    </tr>\n",
              "    <tr>\n",
              "      <th>4</th>\n",
              "      <td>2</td>\n",
              "      <td>1640</td>\n",
              "      <td>Good</td>\n",
              "      <td>310000</td>\n",
              "    </tr>\n",
              "  </tbody>\n",
              "</table>\n",
              "</div>"
            ],
            "text/plain": [
              "   Bedroom   Sq. foot    Locality   Price ($)\n",
              "0        2       1500        Good      300000\n",
              "1        3       1300        Fair      240000\n",
              "2        3       1900   Very good      450000\n",
              "3        3       1850         Bad      280000\n",
              "4        2       1640        Good      310000"
            ]
          },
          "metadata": {
            "tags": []
          },
          "execution_count": 18
        }
      ]
    },
    {
      "cell_type": "markdown",
      "metadata": {
        "id": "c35nJBQQb_0v"
      },
      "source": [
        "Skip footers\n",
        "\n",
        "skipfooter skips rows from the bottom of the file."
      ]
    },
    {
      "cell_type": "code",
      "metadata": {
        "colab": {
          "base_uri": "https://localhost:8080/",
          "height": 203
        },
        "id": "b11MpTb8LRa8",
        "outputId": "d1ffb3e7-aac0-418c-f886-50f9b235f7d4"
      },
      "source": [
        "df6 = pd.read_csv('/content/CSV_EX_skipfooter.csv', skiprows=2, skipfooter=1, engine='python')\n",
        "df6"
      ],
      "execution_count": null,
      "outputs": [
        {
          "output_type": "execute_result",
          "data": {
            "text/html": [
              "<div>\n",
              "<style scoped>\n",
              "    .dataframe tbody tr th:only-of-type {\n",
              "        vertical-align: middle;\n",
              "    }\n",
              "\n",
              "    .dataframe tbody tr th {\n",
              "        vertical-align: top;\n",
              "    }\n",
              "\n",
              "    .dataframe thead th {\n",
              "        text-align: right;\n",
              "    }\n",
              "</style>\n",
              "<table border=\"1\" class=\"dataframe\">\n",
              "  <thead>\n",
              "    <tr style=\"text-align: right;\">\n",
              "      <th></th>\n",
              "      <th>Bedroom</th>\n",
              "      <th>Sq. foot</th>\n",
              "      <th>Locality</th>\n",
              "      <th>Price ($)</th>\n",
              "    </tr>\n",
              "  </thead>\n",
              "  <tbody>\n",
              "    <tr>\n",
              "      <th>0</th>\n",
              "      <td>2</td>\n",
              "      <td>1500</td>\n",
              "      <td>Good</td>\n",
              "      <td>300000</td>\n",
              "    </tr>\n",
              "    <tr>\n",
              "      <th>1</th>\n",
              "      <td>3</td>\n",
              "      <td>1300</td>\n",
              "      <td>Fair</td>\n",
              "      <td>240000</td>\n",
              "    </tr>\n",
              "    <tr>\n",
              "      <th>2</th>\n",
              "      <td>3</td>\n",
              "      <td>1900</td>\n",
              "      <td>Very good</td>\n",
              "      <td>450000</td>\n",
              "    </tr>\n",
              "    <tr>\n",
              "      <th>3</th>\n",
              "      <td>3</td>\n",
              "      <td>1850</td>\n",
              "      <td>Bad</td>\n",
              "      <td>280000</td>\n",
              "    </tr>\n",
              "    <tr>\n",
              "      <th>4</th>\n",
              "      <td>2</td>\n",
              "      <td>1640</td>\n",
              "      <td>Good</td>\n",
              "      <td>310000</td>\n",
              "    </tr>\n",
              "  </tbody>\n",
              "</table>\n",
              "</div>"
            ],
            "text/plain": [
              "   Bedroom   Sq. foot    Locality   Price ($)\n",
              "0        2       1500        Good      300000\n",
              "1        3       1300        Fair      240000\n",
              "2        3       1900   Very good      450000\n",
              "3        3       1850         Bad      280000\n",
              "4        2       1640        Good      310000"
            ]
          },
          "metadata": {
            "tags": []
          },
          "execution_count": 20
        }
      ]
    },
    {
      "cell_type": "markdown",
      "metadata": {
        "id": "0cGW3e4fchHl"
      },
      "source": [
        "\n",
        "Read only first 'n' rows"
      ]
    },
    {
      "cell_type": "code",
      "metadata": {
        "colab": {
          "base_uri": "https://localhost:8080/",
          "height": 142
        },
        "id": "VfS67yUyLk9f",
        "outputId": "35636d65-6291-4fce-c845-74975c3ee6b9"
      },
      "source": [
        "df7 = pd.read_csv('/content/CSV_EX_1.csv', nrows=3)\n",
        "df7"
      ],
      "execution_count": null,
      "outputs": [
        {
          "output_type": "execute_result",
          "data": {
            "text/html": [
              "<div>\n",
              "<style scoped>\n",
              "    .dataframe tbody tr th:only-of-type {\n",
              "        vertical-align: middle;\n",
              "    }\n",
              "\n",
              "    .dataframe tbody tr th {\n",
              "        vertical-align: top;\n",
              "    }\n",
              "\n",
              "    .dataframe thead th {\n",
              "        text-align: right;\n",
              "    }\n",
              "</style>\n",
              "<table border=\"1\" class=\"dataframe\">\n",
              "  <thead>\n",
              "    <tr style=\"text-align: right;\">\n",
              "      <th></th>\n",
              "      <th>Bedroom</th>\n",
              "      <th>Sq. foot</th>\n",
              "      <th>Locality</th>\n",
              "      <th>Price ($)</th>\n",
              "    </tr>\n",
              "  </thead>\n",
              "  <tbody>\n",
              "    <tr>\n",
              "      <th>0</th>\n",
              "      <td>2</td>\n",
              "      <td>1500</td>\n",
              "      <td>Good</td>\n",
              "      <td>300000</td>\n",
              "    </tr>\n",
              "    <tr>\n",
              "      <th>1</th>\n",
              "      <td>3</td>\n",
              "      <td>1300</td>\n",
              "      <td>Fair</td>\n",
              "      <td>240000</td>\n",
              "    </tr>\n",
              "    <tr>\n",
              "      <th>2</th>\n",
              "      <td>3</td>\n",
              "      <td>1900</td>\n",
              "      <td>Very good</td>\n",
              "      <td>450000</td>\n",
              "    </tr>\n",
              "  </tbody>\n",
              "</table>\n",
              "</div>"
            ],
            "text/plain": [
              "   Bedroom   Sq. foot    Locality   Price ($)\n",
              "0        2       1500        Good      300000\n",
              "1        3       1300        Fair      240000\n",
              "2        3       1900   Very good      450000"
            ]
          },
          "metadata": {
            "tags": []
          },
          "execution_count": 21
        }
      ]
    },
    {
      "cell_type": "markdown",
      "metadata": {
        "id": "5V_tzH2iclnT"
      },
      "source": [
        "Reading in chunks (skip + nrows)"
      ]
    },
    {
      "cell_type": "code",
      "metadata": {
        "id": "k2gbkBsSN2Du"
      },
      "source": [
        "list_of_dataframes = []\n",
        "rows_in_a_chunk = 10\n",
        "num_chunks = 5\n",
        "df_dummy = pd.read_csv('/content/Boston_housing.csv', nrows=2)\n",
        "col_names = df_dummy.columns\n",
        "for i in range(0, num_chunks*rows_in_a_chunk):\n",
        "  df = pd.read_csv('/content/Boston_housing.csv', header=0, skiprows=2) #TODO\n",
        "  list_of_dataframes.append(df)"
      ],
      "execution_count": null,
      "outputs": []
    },
    {
      "cell_type": "code",
      "metadata": {
        "colab": {
          "base_uri": "https://localhost:8080/",
          "height": 417
        },
        "id": "txTIx31HN6Ko",
        "outputId": "9f5b4497-a5e0-4475-e881-85de40a27b42"
      },
      "source": [
        "list_of_dataframes[0]"
      ],
      "execution_count": null,
      "outputs": [
        {
          "output_type": "execute_result",
          "data": {
            "text/html": [
              "<div>\n",
              "<style scoped>\n",
              "    .dataframe tbody tr th:only-of-type {\n",
              "        vertical-align: middle;\n",
              "    }\n",
              "\n",
              "    .dataframe tbody tr th {\n",
              "        vertical-align: top;\n",
              "    }\n",
              "\n",
              "    .dataframe thead th {\n",
              "        text-align: right;\n",
              "    }\n",
              "</style>\n",
              "<table border=\"1\" class=\"dataframe\">\n",
              "  <thead>\n",
              "    <tr style=\"text-align: right;\">\n",
              "      <th></th>\n",
              "      <th>0.02731</th>\n",
              "      <th>0</th>\n",
              "      <th>7.07</th>\n",
              "      <th>0.1</th>\n",
              "      <th>0.469</th>\n",
              "      <th>6.421</th>\n",
              "      <th>78.9</th>\n",
              "      <th>4.9671</th>\n",
              "      <th>2</th>\n",
              "      <th>242</th>\n",
              "      <th>17.8</th>\n",
              "      <th>396.9</th>\n",
              "      <th>9.14</th>\n",
              "      <th>21.6</th>\n",
              "    </tr>\n",
              "  </thead>\n",
              "  <tbody>\n",
              "    <tr>\n",
              "      <th>0</th>\n",
              "      <td>0.02729</td>\n",
              "      <td>0.0</td>\n",
              "      <td>7.07</td>\n",
              "      <td>0</td>\n",
              "      <td>0.469</td>\n",
              "      <td>7.185</td>\n",
              "      <td>61.1</td>\n",
              "      <td>4.9671</td>\n",
              "      <td>2</td>\n",
              "      <td>242</td>\n",
              "      <td>17.8</td>\n",
              "      <td>392.83</td>\n",
              "      <td>4.03</td>\n",
              "      <td>34.7</td>\n",
              "    </tr>\n",
              "    <tr>\n",
              "      <th>1</th>\n",
              "      <td>0.03237</td>\n",
              "      <td>0.0</td>\n",
              "      <td>2.18</td>\n",
              "      <td>0</td>\n",
              "      <td>0.458</td>\n",
              "      <td>6.998</td>\n",
              "      <td>45.8</td>\n",
              "      <td>6.0622</td>\n",
              "      <td>3</td>\n",
              "      <td>222</td>\n",
              "      <td>18.7</td>\n",
              "      <td>394.63</td>\n",
              "      <td>2.94</td>\n",
              "      <td>33.4</td>\n",
              "    </tr>\n",
              "    <tr>\n",
              "      <th>2</th>\n",
              "      <td>0.06905</td>\n",
              "      <td>0.0</td>\n",
              "      <td>2.18</td>\n",
              "      <td>0</td>\n",
              "      <td>0.458</td>\n",
              "      <td>7.147</td>\n",
              "      <td>54.2</td>\n",
              "      <td>6.0622</td>\n",
              "      <td>3</td>\n",
              "      <td>222</td>\n",
              "      <td>18.7</td>\n",
              "      <td>396.90</td>\n",
              "      <td>5.33</td>\n",
              "      <td>36.2</td>\n",
              "    </tr>\n",
              "    <tr>\n",
              "      <th>3</th>\n",
              "      <td>0.02985</td>\n",
              "      <td>0.0</td>\n",
              "      <td>2.18</td>\n",
              "      <td>0</td>\n",
              "      <td>0.458</td>\n",
              "      <td>6.430</td>\n",
              "      <td>58.7</td>\n",
              "      <td>6.0622</td>\n",
              "      <td>3</td>\n",
              "      <td>222</td>\n",
              "      <td>18.7</td>\n",
              "      <td>394.12</td>\n",
              "      <td>5.21</td>\n",
              "      <td>28.7</td>\n",
              "    </tr>\n",
              "    <tr>\n",
              "      <th>4</th>\n",
              "      <td>0.08829</td>\n",
              "      <td>12.5</td>\n",
              "      <td>7.87</td>\n",
              "      <td>0</td>\n",
              "      <td>0.524</td>\n",
              "      <td>6.012</td>\n",
              "      <td>66.6</td>\n",
              "      <td>5.5605</td>\n",
              "      <td>5</td>\n",
              "      <td>311</td>\n",
              "      <td>15.2</td>\n",
              "      <td>395.60</td>\n",
              "      <td>12.43</td>\n",
              "      <td>22.9</td>\n",
              "    </tr>\n",
              "    <tr>\n",
              "      <th>...</th>\n",
              "      <td>...</td>\n",
              "      <td>...</td>\n",
              "      <td>...</td>\n",
              "      <td>...</td>\n",
              "      <td>...</td>\n",
              "      <td>...</td>\n",
              "      <td>...</td>\n",
              "      <td>...</td>\n",
              "      <td>...</td>\n",
              "      <td>...</td>\n",
              "      <td>...</td>\n",
              "      <td>...</td>\n",
              "      <td>...</td>\n",
              "      <td>...</td>\n",
              "    </tr>\n",
              "    <tr>\n",
              "      <th>499</th>\n",
              "      <td>0.06263</td>\n",
              "      <td>0.0</td>\n",
              "      <td>11.93</td>\n",
              "      <td>0</td>\n",
              "      <td>0.573</td>\n",
              "      <td>6.593</td>\n",
              "      <td>69.1</td>\n",
              "      <td>2.4786</td>\n",
              "      <td>1</td>\n",
              "      <td>273</td>\n",
              "      <td>21.0</td>\n",
              "      <td>391.99</td>\n",
              "      <td>9.67</td>\n",
              "      <td>22.4</td>\n",
              "    </tr>\n",
              "    <tr>\n",
              "      <th>500</th>\n",
              "      <td>0.04527</td>\n",
              "      <td>0.0</td>\n",
              "      <td>11.93</td>\n",
              "      <td>0</td>\n",
              "      <td>0.573</td>\n",
              "      <td>6.120</td>\n",
              "      <td>76.7</td>\n",
              "      <td>2.2875</td>\n",
              "      <td>1</td>\n",
              "      <td>273</td>\n",
              "      <td>21.0</td>\n",
              "      <td>396.90</td>\n",
              "      <td>9.08</td>\n",
              "      <td>20.6</td>\n",
              "    </tr>\n",
              "    <tr>\n",
              "      <th>501</th>\n",
              "      <td>0.06076</td>\n",
              "      <td>0.0</td>\n",
              "      <td>11.93</td>\n",
              "      <td>0</td>\n",
              "      <td>0.573</td>\n",
              "      <td>6.976</td>\n",
              "      <td>91.0</td>\n",
              "      <td>2.1675</td>\n",
              "      <td>1</td>\n",
              "      <td>273</td>\n",
              "      <td>21.0</td>\n",
              "      <td>396.90</td>\n",
              "      <td>5.64</td>\n",
              "      <td>23.9</td>\n",
              "    </tr>\n",
              "    <tr>\n",
              "      <th>502</th>\n",
              "      <td>0.10959</td>\n",
              "      <td>0.0</td>\n",
              "      <td>11.93</td>\n",
              "      <td>0</td>\n",
              "      <td>0.573</td>\n",
              "      <td>6.794</td>\n",
              "      <td>89.3</td>\n",
              "      <td>2.3889</td>\n",
              "      <td>1</td>\n",
              "      <td>273</td>\n",
              "      <td>21.0</td>\n",
              "      <td>393.45</td>\n",
              "      <td>6.48</td>\n",
              "      <td>22.0</td>\n",
              "    </tr>\n",
              "    <tr>\n",
              "      <th>503</th>\n",
              "      <td>0.04741</td>\n",
              "      <td>0.0</td>\n",
              "      <td>11.93</td>\n",
              "      <td>0</td>\n",
              "      <td>0.573</td>\n",
              "      <td>6.030</td>\n",
              "      <td>80.8</td>\n",
              "      <td>2.5050</td>\n",
              "      <td>1</td>\n",
              "      <td>273</td>\n",
              "      <td>21.0</td>\n",
              "      <td>396.90</td>\n",
              "      <td>7.88</td>\n",
              "      <td>11.9</td>\n",
              "    </tr>\n",
              "  </tbody>\n",
              "</table>\n",
              "<p>504 rows × 14 columns</p>\n",
              "</div>"
            ],
            "text/plain": [
              "     0.02731     0   7.07  0.1  0.469  6.421  ...  2  242  17.8   396.9   9.14  21.6\n",
              "0    0.02729   0.0   7.07    0  0.469  7.185  ...  2  242  17.8  392.83   4.03  34.7\n",
              "1    0.03237   0.0   2.18    0  0.458  6.998  ...  3  222  18.7  394.63   2.94  33.4\n",
              "2    0.06905   0.0   2.18    0  0.458  7.147  ...  3  222  18.7  396.90   5.33  36.2\n",
              "3    0.02985   0.0   2.18    0  0.458  6.430  ...  3  222  18.7  394.12   5.21  28.7\n",
              "4    0.08829  12.5   7.87    0  0.524  6.012  ...  5  311  15.2  395.60  12.43  22.9\n",
              "..       ...   ...    ...  ...    ...    ...  ... ..  ...   ...     ...    ...   ...\n",
              "499  0.06263   0.0  11.93    0  0.573  6.593  ...  1  273  21.0  391.99   9.67  22.4\n",
              "500  0.04527   0.0  11.93    0  0.573  6.120  ...  1  273  21.0  396.90   9.08  20.6\n",
              "501  0.06076   0.0  11.93    0  0.573  6.976  ...  1  273  21.0  396.90   5.64  23.9\n",
              "502  0.10959   0.0  11.93    0  0.573  6.794  ...  1  273  21.0  393.45   6.48  22.0\n",
              "503  0.04741   0.0  11.93    0  0.573  6.030  ...  1  273  21.0  396.90   7.88  11.9\n",
              "\n",
              "[504 rows x 14 columns]"
            ]
          },
          "metadata": {
            "tags": []
          },
          "execution_count": 23
        }
      ]
    },
    {
      "cell_type": "markdown",
      "metadata": {
        "id": "e9vmjcRuA2Wn"
      },
      "source": [
        "Skip blank lines"
      ]
    },
    {
      "cell_type": "code",
      "metadata": {
        "id": "Wzsj9mEpA1Qv"
      },
      "source": [
        ""
      ],
      "execution_count": null,
      "outputs": []
    },
    {
      "cell_type": "markdown",
      "metadata": {
        "id": "R166RKLmAnrc"
      },
      "source": [
        "**Reading from a compressed file**\n",
        "\n",
        "Read from a zip file"
      ]
    },
    {
      "cell_type": "code",
      "metadata": {
        "id": "T1g0uNVhAs_f"
      },
      "source": [
        ""
      ],
      "execution_count": null,
      "outputs": []
    },
    {
      "cell_type": "markdown",
      "metadata": {
        "id": "QOFP6EaaAsSI"
      },
      "source": [
        "**Read from an Excel sheet with sheet name**"
      ]
    },
    {
      "cell_type": "code",
      "metadata": {
        "id": "Gr7pL-fGAtq9"
      },
      "source": [
        ""
      ],
      "execution_count": null,
      "outputs": []
    },
    {
      "cell_type": "markdown",
      "metadata": {
        "id": "EU8JeKcCAx8l"
      },
      "source": [
        "**Read from a json file**"
      ]
    },
    {
      "cell_type": "code",
      "metadata": {
        "id": "K3Q9_HYEAw20"
      },
      "source": [
        ""
      ],
      "execution_count": null,
      "outputs": []
    }
  ]
}