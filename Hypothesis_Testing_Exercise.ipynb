{
  "nbformat": 4,
  "nbformat_minor": 0,
  "metadata": {
    "colab": {
      "name": "Hypothesis_Testing_Exercise.ipynb",
      "provenance": [],
      "collapsed_sections": []
    },
    "kernelspec": {
      "name": "python3",
      "display_name": "Python 3"
    },
    "language_info": {
      "name": "python"
    }
  },
  "cells": [
    {
      "cell_type": "code",
      "metadata": {
        "id": "ucLMDjN24rsw"
      },
      "source": [
        "import numpy as np\n",
        "import scipy.stats as st\n",
        "from statistics import *"
      ],
      "execution_count": null,
      "outputs": []
    },
    {
      "cell_type": "markdown",
      "metadata": {
        "id": "dlUAFTD7_p7p"
      },
      "source": [
        "1.\n",
        "Travel Times to Work \n",
        "\n",
        "Based on information from the U.S. Census Bureau, the mean travel time to workin   minutes   for   all   workers   16   years   old   and   older   was   25.3   minutes.   A   large company with offices in several states randomly sampled 100 of its workers to ascertain their commuting times. The sample mean was 23.9 minutes, and the population standard deviation is 6.39 minutes. At the 0.01 level of significance, can   it   be   concluded   that   the   mean   commuting   time   is   less   for   this  particular company?"
      ]
    },
    {
      "cell_type": "code",
      "metadata": {
        "id": "vcF_zIcN_qsW"
      },
      "source": [
        "#H0 : μ = 25.3, Ha :  μ < 25.3\n",
        "n = 100\n",
        "mu = 25.3\n",
        "xbar = 23.9\n",
        "sigma = 6.39\n",
        "alpha = 0.01"
      ],
      "execution_count": null,
      "outputs": []
    },
    {
      "cell_type": "code",
      "metadata": {
        "colab": {
          "base_uri": "https://localhost:8080/"
        },
        "id": "QAgUCIv1BkvT",
        "outputId": "eb79f61f-7ada-4f50-a224-8cd9f1b9ab1b"
      },
      "source": [
        "z_critical = st.norm.ppf(alpha) \n",
        "z_critical"
      ],
      "execution_count": null,
      "outputs": [
        {
          "output_type": "execute_result",
          "data": {
            "text/plain": [
              "-2.3263478740408408"
            ]
          },
          "metadata": {},
          "execution_count": 3
        }
      ]
    },
    {
      "cell_type": "code",
      "metadata": {
        "colab": {
          "base_uri": "https://localhost:8080/"
        },
        "id": "1MhqF40zBoye",
        "outputId": "915c7739-22a9-4a7c-8572-4961670df717"
      },
      "source": [
        "z = (xbar-mu)/(sigma/np.sqrt(n))\n",
        "z"
      ],
      "execution_count": null,
      "outputs": [
        {
          "output_type": "execute_result",
          "data": {
            "text/plain": [
              "-2.1909233176838843"
            ]
          },
          "metadata": {},
          "execution_count": 4
        }
      ]
    },
    {
      "cell_type": "code",
      "metadata": {
        "colab": {
          "base_uri": "https://localhost:8080/"
        },
        "id": "AY0LKfUYCI3c",
        "outputId": "a4c97fe6-abae-4a3e-d9a6-e7b793efb3f1"
      },
      "source": [
        "if (z_critical > z): \n",
        "    print(\"Null hypothesis cannot be rejected\")\n",
        "else:\n",
        "    print(\"Reject null hypothesis\")"
      ],
      "execution_count": null,
      "outputs": [
        {
          "output_type": "stream",
          "name": "stdout",
          "text": [
            "Reject null hypothesis\n"
          ]
        }
      ]
    },
    {
      "cell_type": "markdown",
      "metadata": {
        "id": "kfOMdVeoCVZM"
      },
      "source": [
        "We don't have enough evidence to support that mean commuting time is less for this company. "
      ]
    },
    {
      "cell_type": "markdown",
      "metadata": {
        "id": "CrqTw5FNCkou"
      },
      "source": [
        "2.Time Until Indigestion Relief \n",
        "\n",
        "An   advertisement   claims   that   Fasto   Stomach   Calm   will   provide   relief   from indigestion in less than 10 minutes. For a test of the claim, 35 randomly selected individuals were given the product; the average time until relief was 9.25 minutes.From   past   studies,   the   standard   deviation   of   the   population   is  known   to   be   2 minutes. Can you,conclude that the claim is justified? Find the P‐value,and let α =0.05."
      ]
    },
    {
      "cell_type": "code",
      "metadata": {
        "id": "HUSHxx0yCtwm"
      },
      "source": [
        "#H0 : μ >= 10, Ha :  μ < 10 (claims that they will...)\n",
        "n = 35\n",
        "mu = 10\n",
        "xbar = 9.25\n",
        "sigma = 2 \n",
        "alpha = 0.05"
      ],
      "execution_count": null,
      "outputs": []
    },
    {
      "cell_type": "code",
      "metadata": {
        "colab": {
          "base_uri": "https://localhost:8080/"
        },
        "id": "scIyVV2pDyh7",
        "outputId": "5ae83cc2-0e42-47e0-c4e6-d7556f7fa894"
      },
      "source": [
        "z = (xbar-mu)/(sigma/np.sqrt(n))\n",
        "z"
      ],
      "execution_count": null,
      "outputs": [
        {
          "output_type": "execute_result",
          "data": {
            "text/plain": [
              "-2.218529918662356"
            ]
          },
          "metadata": {},
          "execution_count": 7
        }
      ]
    },
    {
      "cell_type": "code",
      "metadata": {
        "colab": {
          "base_uri": "https://localhost:8080/"
        },
        "id": "sBCsgp0xD5Vg",
        "outputId": "eae66447-a2bd-4062-ed14-f204c056535a"
      },
      "source": [
        "p_val = (1 - st.norm.cdf(abs(z)))\n",
        "p_val"
      ],
      "execution_count": null,
      "outputs": [
        {
          "output_type": "execute_result",
          "data": {
            "text/plain": [
              "0.013259360979715362"
            ]
          },
          "metadata": {},
          "execution_count": 8
        }
      ]
    },
    {
      "cell_type": "code",
      "metadata": {
        "colab": {
          "base_uri": "https://localhost:8080/"
        },
        "id": "QFlqC2Z6FFvo",
        "outputId": "d515ea90-ecd8-486d-c27a-ad5c1486e4cf"
      },
      "source": [
        "if (p_val > alpha):\n",
        "    print(\"Null hypothesis cannot be rejected\")\n",
        "else:\n",
        "    print(\"Reject null hypothesis\")"
      ],
      "execution_count": null,
      "outputs": [
        {
          "output_type": "stream",
          "name": "stdout",
          "text": [
            "Reject null hypothesis\n"
          ]
        }
      ]
    },
    {
      "cell_type": "markdown",
      "metadata": {
        "id": "bpRABOY3T7Jg"
      },
      "source": [
        "When compared, we can conclude that we have enough evidence to reject the null hypothesis, thus the mean is significantly lower than 10 minutes.    "
      ]
    },
    {
      "cell_type": "markdown",
      "metadata": {
        "id": "pLxH5TgrFFLs"
      },
      "source": [
        "3.\n",
        "Trifecta Winnings\n",
        "\n",
        "A random sample of 1 dollar Trifecta tickets at  a local racetrack paid the following amounts,(in dollars and cents). Is there sufficient evidence to conclude that theaverage   Trifecta   winnings   exceed   50 dollars?   Use   α   =   0.10.   Assume   the   variable   is normally distributed.\n",
        "\n",
        "8.90,70.20,15.00,29.10,141.00,48.60,83.00,72.70,75.30,59.20,32.40,19.00,190.10"
      ]
    },
    {
      "cell_type": "code",
      "metadata": {
        "colab": {
          "base_uri": "https://localhost:8080/"
        },
        "id": "LFM4PPMPFVxx",
        "outputId": "2b344a8b-d915-4f1f-cc33-1f42924576b5"
      },
      "source": [
        "#H0 : μ = 50, Ha :  μ > 50 \n",
        "n = 13\n",
        "mu = 50\n",
        "value_list = [8.90,70.20,15.00,29.10,141.00,48.60,83.00,72.70,75.30,59.20,32.40,19.00,190.10]\n",
        "xbar = sum(value_list)/len(value_list)\n",
        "print(\"Mean: \", xbar)\n",
        "sd = stdev(value_list)\n",
        "print(\"Standard deviation: \", sd)\n",
        "alpha = 0.1"
      ],
      "execution_count": null,
      "outputs": [
        {
          "output_type": "stream",
          "name": "stdout",
          "text": [
            "Mean:  64.96153846153847\n",
            "Standard deviation:  51.92927142536501\n"
          ]
        }
      ]
    },
    {
      "cell_type": "code",
      "metadata": {
        "colab": {
          "base_uri": "https://localhost:8080/"
        },
        "id": "PVtIrMPRWqLs",
        "outputId": "3a1e4d67-418d-40d1-f84f-9166f7980ecc"
      },
      "source": [
        "z_critical = abs(st.norm.ppf(alpha))\n",
        "z_critical"
      ],
      "execution_count": null,
      "outputs": [
        {
          "output_type": "execute_result",
          "data": {
            "text/plain": [
              "1.2815515655446004"
            ]
          },
          "metadata": {},
          "execution_count": 11
        }
      ]
    },
    {
      "cell_type": "code",
      "metadata": {
        "colab": {
          "base_uri": "https://localhost:8080/"
        },
        "id": "-rlagLs3WtIQ",
        "outputId": "d3741ae4-5023-486c-e41d-24d327e145d1"
      },
      "source": [
        "z = (xbar-mu)/(sd/np.sqrt(n))\n",
        "z"
      ],
      "execution_count": null,
      "outputs": [
        {
          "output_type": "execute_result",
          "data": {
            "text/plain": [
              "1.0388089915806935"
            ]
          },
          "metadata": {},
          "execution_count": 12
        }
      ]
    },
    {
      "cell_type": "code",
      "metadata": {
        "colab": {
          "base_uri": "https://localhost:8080/"
        },
        "id": "ZunO3i-lWvcX",
        "outputId": "a089bef6-16b1-4daa-e3bc-a405274059cb"
      },
      "source": [
        "if (z < z_critical): \n",
        "    print(\"Null hypothesis cannot be rejected\")\n",
        "else:\n",
        "    print(\"Reject null hypothesis\")"
      ],
      "execution_count": null,
      "outputs": [
        {
          "output_type": "stream",
          "name": "stdout",
          "text": [
            "Null hypothesis cannot be rejected\n"
          ]
        }
      ]
    },
    {
      "cell_type": "markdown",
      "metadata": {
        "id": "-hMcLZhXX0_K"
      },
      "source": [
        "4.\n",
        "Whooping Crane Eggs \n",
        "\n",
        "Once   down   to   about   15,   the   world’s   only   wild   flock   of   whooping   cranes   nownumbers   a   record   237  birds  in  its  Texas  Coastal  Bend,  wintering   ground. Theaverage whooping crane egg weighs 208 grams. A new batch of randomly selectedeggs was recently weighed, and their weights are listed below. At α = 0.01, is theresufficient evidence to conclude that the weight is greater than 208 grams? Assumethe variable is normally distributed.\n",
        "\n",
        "210,210.2,208.5,209,211.6,206.4,212,209.7,210.3"
      ]
    },
    {
      "cell_type": "code",
      "metadata": {
        "colab": {
          "base_uri": "https://localhost:8080/"
        },
        "id": "M27uCeD6YO0M",
        "outputId": "2757b778-0b55-47f7-8072-16385f7ca744"
      },
      "source": [
        "#H0 : μ = 208 and Ha : μ > 208\n",
        "n = 9\n",
        "mu = 208\n",
        "value_list1 = [210,210.2,208.5,209,211.6,206.4,212,209.7,210.3]\n",
        "xbar = mean(value_list1)\n",
        "sd = stdev(value_list1)\n",
        "print(\"Mean: \",xbar, \"\\nStandard deviation: \",sd)\n",
        "alpha = 0.01"
      ],
      "execution_count": null,
      "outputs": [
        {
          "output_type": "stream",
          "name": "stdout",
          "text": [
            "Mean:  209.74444444444444 \n",
            "Standard deviation:  1.6734030529964294\n"
          ]
        }
      ]
    },
    {
      "cell_type": "code",
      "metadata": {
        "colab": {
          "base_uri": "https://localhost:8080/"
        },
        "id": "cXaIL68rYQfD",
        "outputId": "233d564c-b388-4c89-c592-380671ca3dca"
      },
      "source": [
        "z_critical = abs(st.norm.ppf(alpha))\n",
        "z_critical"
      ],
      "execution_count": null,
      "outputs": [
        {
          "output_type": "execute_result",
          "data": {
            "text/plain": [
              "2.3263478740408408"
            ]
          },
          "metadata": {},
          "execution_count": 15
        }
      ]
    },
    {
      "cell_type": "code",
      "metadata": {
        "colab": {
          "base_uri": "https://localhost:8080/"
        },
        "id": "vKpOMj0BYS8L",
        "outputId": "0be3f0c4-d9e0-48c5-e43e-5d24d64d5805"
      },
      "source": [
        "z = (xbar-mu)/(sd/np.sqrt(n))\n",
        "z"
      ],
      "execution_count": null,
      "outputs": [
        {
          "output_type": "execute_result",
          "data": {
            "text/plain": [
              "3.127359737967734"
            ]
          },
          "metadata": {},
          "execution_count": 16
        }
      ]
    },
    {
      "cell_type": "code",
      "metadata": {
        "colab": {
          "base_uri": "https://localhost:8080/"
        },
        "id": "4EBs4GNnYUaJ",
        "outputId": "75fd8f1a-2ba6-4d19-fe25-e649c835b084"
      },
      "source": [
        "if (z > z_critical): \n",
        "    print(\"Null hypothesis cannot be rejected\")\n",
        "else:\n",
        "    print(\"Reject null hypothesis\")"
      ],
      "execution_count": null,
      "outputs": [
        {
          "output_type": "stream",
          "name": "stdout",
          "text": [
            "Null hypothesis cannot be rejected\n"
          ]
        }
      ]
    },
    {
      "cell_type": "markdown",
      "metadata": {
        "id": "UENrJ5mwZhgV"
      },
      "source": [
        "Null hypothesis is not rejected since the value is no present in reject interval and the results doesn't support the claim(Ha)."
      ]
    },
    {
      "cell_type": "markdown",
      "metadata": {
        "id": "7wx3gojLKxjf"
      },
      "source": [
        "5.Federal Prison Populations \n",
        "\n",
        "Nationally 60.2% of federal prisoners are serving time for drug offences. A wardenfeels that in his prison the percentage is even higher. He surveys 400 randomly selected inmates’ records and finds that 260 of the inmates are drug offenders. Atα = 0.05, is he correct?"
      ]
    },
    {
      "cell_type": "code",
      "metadata": {
        "id": "cmlgYOiUK001"
      },
      "source": [
        "#H0 : μ = 0.602 and Ha : μ > 0.602\n",
        "n = 400\n",
        "mu = 0.602\n",
        "xbar = 0.65 #260/400\n",
        "alpha = 0.05"
      ],
      "execution_count": null,
      "outputs": []
    },
    {
      "cell_type": "code",
      "metadata": {
        "colab": {
          "base_uri": "https://localhost:8080/"
        },
        "id": "69EQG6LjcHXe",
        "outputId": "e8a56179-3d7a-40c8-b5b7-e72bf0495f8d"
      },
      "source": [
        "z = (xbar - mu)/np.sqrt(((mu)*(1-mu))/n)\n",
        "print(z)"
      ],
      "execution_count": null,
      "outputs": [
        {
          "output_type": "stream",
          "name": "stdout",
          "text": [
            "1.9612432025156954\n"
          ]
        }
      ]
    },
    {
      "cell_type": "code",
      "metadata": {
        "colab": {
          "base_uri": "https://localhost:8080/"
        },
        "id": "QE69XuuacJ2j",
        "outputId": "e4d2d68c-2065-44bf-9ca8-dd0eaecb3a07"
      },
      "source": [
        "p_val = (1 - st.norm.cdf(abs(z)))\n",
        "print(p_val)"
      ],
      "execution_count": null,
      "outputs": [
        {
          "output_type": "stream",
          "name": "stdout",
          "text": [
            "0.024925329683110675\n"
          ]
        }
      ]
    },
    {
      "cell_type": "code",
      "metadata": {
        "colab": {
          "base_uri": "https://localhost:8080/"
        },
        "id": "x_IkLrRZcPNH",
        "outputId": "3dd3a14f-88a0-4e91-dc3f-730ebd03d5b0"
      },
      "source": [
        "if (p_val > alpha):\n",
        "    print(\"Null hypothesis cannot be rejected\")\n",
        "else:\n",
        "    print(\"Reject null hypothesis\")"
      ],
      "execution_count": null,
      "outputs": [
        {
          "output_type": "stream",
          "name": "stdout",
          "text": [
            "Reject null hypothesis\n"
          ]
        }
      ]
    },
    {
      "cell_type": "markdown",
      "metadata": {
        "id": "5V5PQ3pmcjCp"
      },
      "source": [
        "There is enough evidence to conclude that the warder is correct. The percentage of federal prisoners serving time for drug offences is higher in his prison."
      ]
    },
    {
      "cell_type": "markdown",
      "metadata": {
        "id": "F8BJOH77O7fX"
      },
      "source": [
        "6.MP3 OwnershipAn \n",
        "\n",
        "MP3 manufacturer claims that 65%,of teenagers 13 to 16 years old have theirown  MP3  players.  A  researcher  wishes  to   test   the   claim   and  selects   a,randomsample of 80 teenagers. She finds that 57 have their own MP3 players. At α = 0.05,should the claim be,rejected? Use the P‐value method."
      ]
    },
    {
      "cell_type": "code",
      "metadata": {
        "id": "h9yxPjFiPAts"
      },
      "source": [
        "#H0 : μ = 0.65 and Ha : μ != 0.65\n",
        "n = 80\n",
        "xbar = 0.71 #57/80\n",
        "mu = 0.65\n",
        "mun = 0.35 #1-0.65\n",
        "alpha = 0.05"
      ],
      "execution_count": null,
      "outputs": []
    },
    {
      "cell_type": "code",
      "metadata": {
        "colab": {
          "base_uri": "https://localhost:8080/"
        },
        "id": "kURwiT1JSlGC",
        "outputId": "0e548ae4-99fd-4ecd-d9ab-6e5a42d776e6"
      },
      "source": [
        "z = (xbar-mu)/(np.sqrt((mu * mun )/n))\n",
        "z"
      ],
      "execution_count": null,
      "outputs": [
        {
          "output_type": "execute_result",
          "data": {
            "text/plain": [
              "1.125137354252388"
            ]
          },
          "metadata": {},
          "execution_count": 23
        }
      ]
    },
    {
      "cell_type": "code",
      "metadata": {
        "colab": {
          "base_uri": "https://localhost:8080/"
        },
        "id": "7WH_ahHtSqFp",
        "outputId": "bf9ca521-4461-4228-91f3-8c00ff69493e"
      },
      "source": [
        "p_val = (1 - st.norm.cdf(z)) * 2\n",
        "p_val"
      ],
      "execution_count": null,
      "outputs": [
        {
          "output_type": "execute_result",
          "data": {
            "text/plain": [
              "0.2605308344539794"
            ]
          },
          "metadata": {},
          "execution_count": 24
        }
      ]
    },
    {
      "cell_type": "code",
      "metadata": {
        "colab": {
          "base_uri": "https://localhost:8080/"
        },
        "id": "qjbX0r6PSu5L",
        "outputId": "7b7e12e5-8e6d-4724-8d30-5de9ae26e4a0"
      },
      "source": [
        "if (p_val < alpha):\n",
        "    print(\"Reject null hypothesis\")\n",
        "else:\n",
        "    print(\"Null hypothesis cannot be rejected\")"
      ],
      "execution_count": null,
      "outputs": [
        {
          "output_type": "stream",
          "name": "stdout",
          "text": [
            "Null hypothesis cannot be rejected\n"
          ]
        }
      ]
    },
    {
      "cell_type": "markdown",
      "metadata": {
        "id": "Ql96XI69Zxbn"
      },
      "source": [
        "7.Men Aged 65 and Over in the Labour Force \n",
        "\n",
        "Of men,aged 65 and over 20.5% are still in the U.S. labour force.,A random sampleof   120   retired   male   teachers   indicated   that   38   were   still   working.   Use   both   aconfidence,interval and a hypothesis test. Test the claim that the,proportion isgreater than 20.5% at α = 0.10."
      ]
    },
    {
      "cell_type": "code",
      "metadata": {
        "id": "U8BVR7V_elyZ"
      },
      "source": [
        "#H0 : μ = 0.205 and Ha : μ > 0.205\n",
        "n = 120\n",
        "mu = 0.205\n",
        "xbar = 0.316\n",
        "alpha = 0.1"
      ],
      "execution_count": null,
      "outputs": []
    },
    {
      "cell_type": "code",
      "metadata": {
        "colab": {
          "base_uri": "https://localhost:8080/"
        },
        "id": "9HTap3hLeseV",
        "outputId": "7f9d6dec-5321-47b2-9853-cc90b0a7d30d"
      },
      "source": [
        "z = (xbar - mu)/np.sqrt(((mu)*(1-mu))/n)\n",
        "print(z)"
      ],
      "execution_count": null,
      "outputs": [
        {
          "output_type": "stream",
          "name": "stdout",
          "text": [
            "3.011987096226093\n"
          ]
        }
      ]
    },
    {
      "cell_type": "code",
      "metadata": {
        "colab": {
          "base_uri": "https://localhost:8080/"
        },
        "id": "NfI_nKL5et6J",
        "outputId": "3eef696e-19d8-43d0-b9f2-a52e48d1a972"
      },
      "source": [
        "p_val = (1 - st.norm.cdf(abs(z))) \n",
        "print(p_val)"
      ],
      "execution_count": null,
      "outputs": [
        {
          "output_type": "stream",
          "name": "stdout",
          "text": [
            "0.0012977181501482304\n"
          ]
        }
      ]
    },
    {
      "cell_type": "code",
      "metadata": {
        "colab": {
          "base_uri": "https://localhost:8080/"
        },
        "id": "XWV5l-g8ewMJ",
        "outputId": "0f7e5689-c453-4a45-d46c-e3911a05f739"
      },
      "source": [
        "if (p_val > alpha):\n",
        "    print(\"Null hypothesis cannot be rejected\")\n",
        "else:\n",
        "    print(\"Reject null hypothesis\")"
      ],
      "execution_count": null,
      "outputs": [
        {
          "output_type": "stream",
          "name": "stdout",
          "text": [
            "Reject null hypothesis\n"
          ]
        }
      ]
    },
    {
      "cell_type": "markdown",
      "metadata": {
        "id": "nZwWf8HbVCzJ"
      },
      "source": [
        "8.\n",
        "Movie Admission Process.\n",
        "\n",
        "The   average   movie   admission   price   for   a   recent   year   was   7.18 dollars.   Thepopulation,variance was 3.81. A random sample of 15 theatre admission priceshad   a   mean   of   $8.02   with   a   standard,deviation   of   2.08 dollars.   At   α   =   0.05,   is   theresufficient   evidence   to   conclude   a   difference   from   the   population   variance?Assume the variable is normally distributed."
      ]
    },
    {
      "cell_type": "code",
      "metadata": {
        "id": "EvAj2VKJZ4Di"
      },
      "source": [
        "#H0 : sigma1 =  sigma 2, Ha :  sigma1 != sigma 2\n",
        "n = 15\n",
        "xbar = 8.02\n",
        "mu = 7.18\n",
        "sigma = 2.08\n",
        "alpha = 0.05"
      ],
      "execution_count": null,
      "outputs": []
    },
    {
      "cell_type": "code",
      "metadata": {
        "colab": {
          "base_uri": "https://localhost:8080/"
        },
        "id": "TdU0Gz5IZ6uR",
        "outputId": "9bb911e4-8ac4-4249-a94e-e7069bc8b397"
      },
      "source": [
        "z_critical = abs(st.norm.ppf(alpha/2)) #Absolute value taken as the aplha /2 since it is two tailed\n",
        "z_critical"
      ],
      "execution_count": null,
      "outputs": [
        {
          "output_type": "execute_result",
          "data": {
            "text/plain": [
              "1.9599639845400545"
            ]
          },
          "metadata": {},
          "execution_count": 31
        }
      ]
    },
    {
      "cell_type": "code",
      "metadata": {
        "colab": {
          "base_uri": "https://localhost:8080/"
        },
        "id": "cFcyUEGBZ_2h",
        "outputId": "ef5999b7-deee-47d5-ab8f-acacd130fb02"
      },
      "source": [
        "z = (xbar- mu)/(z_critical/np.sqrt(n))\n",
        "z"
      ],
      "execution_count": null,
      "outputs": [
        {
          "output_type": "execute_result",
          "data": {
            "text/plain": [
              "1.6598805062112834"
            ]
          },
          "metadata": {},
          "execution_count": 32
        }
      ]
    },
    {
      "cell_type": "code",
      "metadata": {
        "colab": {
          "base_uri": "https://localhost:8080/"
        },
        "id": "C8cQCSO6aCtB",
        "outputId": "b2f2333b-7f2b-41b5-93e1-25ed4b1ce7d3"
      },
      "source": [
        "if (z > z_critical):\n",
        "    print(\"There is a difference between the population variance and the sample variance.\")\n",
        "else:\n",
        "    print(\"There is no difference between the population variance and the sample variance.\")"
      ],
      "execution_count": null,
      "outputs": [
        {
          "output_type": "stream",
          "name": "stdout",
          "text": [
            "There is no difference between the population variance and the sample variance.\n"
          ]
        }
      ]
    },
    {
      "cell_type": "markdown",
      "metadata": {
        "id": "uqFZpF2dga15"
      },
      "source": [
        "9.Fuel Consumption \n",
        "\n",
        "The   standard   deviation   of   fuel,consumption   of   a   manufacturer’s   sport   utilityvehicle,is hypothesized to be 3.3 miles per gallon. A random,sample of 18 vehicleshas   a   standard   deviation   of,2.8   miles   per   gallon.   At   α   =   0.10,   is   the   claim, believable?"
      ]
    },
    {
      "cell_type": "code",
      "metadata": {
        "id": "am5TltbpgfN7"
      },
      "source": [
        "#H0 : sigma = 3.3, Ha : sigma != 3.3\n",
        "n = 18\n",
        "degrees_of_freedom = n-1\n",
        "s = 2.8\n",
        "sigma = 3.3\n",
        "alpha = 0.10"
      ],
      "execution_count": null,
      "outputs": []
    },
    {
      "cell_type": "code",
      "metadata": {
        "colab": {
          "base_uri": "https://localhost:8080/"
        },
        "id": "fPjVKlSqgmSH",
        "outputId": "c9642442-0710-4424-8d0d-68c271564129"
      },
      "source": [
        "chi_square = ((n-1)*(s**2))/(sigma**2)\n",
        "print(chi_square)"
      ],
      "execution_count": null,
      "outputs": [
        {
          "output_type": "stream",
          "name": "stdout",
          "text": [
            "12.238751147842056\n"
          ]
        }
      ]
    },
    {
      "cell_type": "code",
      "metadata": {
        "colab": {
          "base_uri": "https://localhost:8080/"
        },
        "id": "1Suat_CVgn2R",
        "outputId": "61516982-0b2a-4901-b1e8-da12d788e48c"
      },
      "source": [
        "p_val = st.chi2.cdf(chi_square,degrees_of_freedom)*2\n",
        "print(p_val)"
      ],
      "execution_count": null,
      "outputs": [
        {
          "output_type": "stream",
          "name": "stdout",
          "text": [
            "0.4290615830990978\n"
          ]
        }
      ]
    },
    {
      "cell_type": "code",
      "metadata": {
        "colab": {
          "base_uri": "https://localhost:8080/"
        },
        "id": "h7aqONiMgqZw",
        "outputId": "193167c5-6b0e-4209-9adc-c4d1a61b3ee5"
      },
      "source": [
        "if (p_val > alpha):\n",
        "    print(\"Null hypothesis cannot be rejected\")\n",
        "else:\n",
        "    print(\"Reject null hypothesis\")"
      ],
      "execution_count": null,
      "outputs": [
        {
          "output_type": "stream",
          "name": "stdout",
          "text": [
            "Null hypothesis cannot be rejected\n"
          ]
        }
      ]
    },
    {
      "cell_type": "markdown",
      "metadata": {
        "id": "RmX-VcBMMczw"
      },
      "source": [
        "10.Tire Inflation \n",
        "\n",
        "To see whether people are keeping their car tires inflated to the correct level of 35pounds per square inch (psi), a tire company manager selects a random sample of 36 tires and checks the pressure. The mean of the sample is 33.5 psi, and the population standard deviation is 3 psi. Are the tires properly inflated? Use α = 0.10.Find the 90% confidence interval of the mean. Do the results agree? Explain."
      ]
    },
    {
      "cell_type": "code",
      "metadata": {
        "id": "rHqSpG_8MnJu"
      },
      "source": [
        "#H0 : μ = 35, Ha : μ != 35\n",
        "n = 36\n",
        "mu = 35\n",
        "xbar = 33.5\n",
        "sigma = 3\n",
        "alpha = 0.10"
      ],
      "execution_count": null,
      "outputs": []
    },
    {
      "cell_type": "code",
      "metadata": {
        "colab": {
          "base_uri": "https://localhost:8080/"
        },
        "id": "qiAd5tmrNVc5",
        "outputId": "bae5a780-cf2c-40d5-c507-7a1c912e1fa0"
      },
      "source": [
        "z = (xbar-mu)/(sigma/np.sqrt(n))\n",
        "z"
      ],
      "execution_count": null,
      "outputs": [
        {
          "output_type": "execute_result",
          "data": {
            "text/plain": [
              "-3.0"
            ]
          },
          "metadata": {},
          "execution_count": 39
        }
      ]
    },
    {
      "cell_type": "code",
      "metadata": {
        "colab": {
          "base_uri": "https://localhost:8080/"
        },
        "id": "hZEydUycNfJp",
        "outputId": "943f2680-e777-47ea-e67c-144e0a11e055"
      },
      "source": [
        "p_val = (1 - st.norm.cdf(abs(z))) * 2 \n",
        "p_val"
      ],
      "execution_count": null,
      "outputs": [
        {
          "output_type": "execute_result",
          "data": {
            "text/plain": [
              "0.002699796063260207"
            ]
          },
          "metadata": {},
          "execution_count": 40
        }
      ]
    },
    {
      "cell_type": "code",
      "metadata": {
        "colab": {
          "base_uri": "https://localhost:8080/"
        },
        "id": "tN21sWzVNj6f",
        "outputId": "e2a621d9-3679-4e8f-d8d5-5523fbfc62d8"
      },
      "source": [
        "if (p_val > alpha):\n",
        "    print(\"Null hypothesis cannot be rejected\")\n",
        "else:\n",
        "    print(\"Reject null hypothesis\")"
      ],
      "execution_count": null,
      "outputs": [
        {
          "output_type": "stream",
          "name": "stdout",
          "text": [
            "Reject null hypothesis\n"
          ]
        }
      ]
    },
    {
      "cell_type": "markdown",
      "metadata": {
        "id": "owqBp0jVNozg"
      },
      "source": [
        "Since the p-value is less than 10%, reject Ho. The test results do not support the tires being properly inflated.\n",
        "\n",
        "90% of Confidence Interval: (32.678,34.3220). Since 35 is not in the 90% confidence interval the test does not support proper inflation at the 10% level of significance level."
      ]
    }
  ]
}