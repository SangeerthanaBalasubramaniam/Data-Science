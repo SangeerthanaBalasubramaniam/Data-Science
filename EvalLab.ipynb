{
  "nbformat": 4,
  "nbformat_minor": 0,
  "metadata": {
    "colab": {
      "name": "EvalLab.ipynb",
      "provenance": [],
      "collapsed_sections": [],
      "toc_visible": true
    },
    "kernelspec": {
      "name": "python3",
      "display_name": "Python 3"
    },
    "language_info": {
      "name": "python"
    }
  },
  "cells": [
    {
      "cell_type": "code",
      "metadata": {
        "id": "l_S5QXBP-aDL"
      },
      "source": [
        "#import statements\n",
        "import pandas as pd\n",
        "import numpy as np"
      ],
      "execution_count": 1,
      "outputs": []
    },
    {
      "cell_type": "code",
      "metadata": {
        "id": "rAySHfs--nZv"
      },
      "source": [
        "data=pd.read_csv(\"https://raw.githubusercontent.com/dupadhyaya/pyAnaltyics1/master/f1/phone_data.csv\") "
      ],
      "execution_count": 23,
      "outputs": []
    },
    {
      "cell_type": "code",
      "metadata": {
        "id": "ncpBRx1K_nz0",
        "colab": {
          "base_uri": "https://localhost:8080/",
          "height": 206
        },
        "outputId": "2c4198a8-6cd6-4126-916a-702f19cb7535"
      },
      "source": [
        "data.head()"
      ],
      "execution_count": 24,
      "outputs": [
        {
          "output_type": "execute_result",
          "data": {
            "text/html": [
              "\n",
              "  <div id=\"df-de5756a4-97b7-41c6-aea4-02ff85dcb5e2\">\n",
              "    <div class=\"colab-df-container\">\n",
              "      <div>\n",
              "<style scoped>\n",
              "    .dataframe tbody tr th:only-of-type {\n",
              "        vertical-align: middle;\n",
              "    }\n",
              "\n",
              "    .dataframe tbody tr th {\n",
              "        vertical-align: top;\n",
              "    }\n",
              "\n",
              "    .dataframe thead th {\n",
              "        text-align: right;\n",
              "    }\n",
              "</style>\n",
              "<table border=\"1\" class=\"dataframe\">\n",
              "  <thead>\n",
              "    <tr style=\"text-align: right;\">\n",
              "      <th></th>\n",
              "      <th>index</th>\n",
              "      <th>date</th>\n",
              "      <th>duration</th>\n",
              "      <th>item</th>\n",
              "      <th>month</th>\n",
              "      <th>network</th>\n",
              "      <th>network_type</th>\n",
              "    </tr>\n",
              "  </thead>\n",
              "  <tbody>\n",
              "    <tr>\n",
              "      <th>0</th>\n",
              "      <td>0</td>\n",
              "      <td>15/10/14 06:58</td>\n",
              "      <td>34.429</td>\n",
              "      <td>data</td>\n",
              "      <td>2014-11</td>\n",
              "      <td>data</td>\n",
              "      <td>data</td>\n",
              "    </tr>\n",
              "    <tr>\n",
              "      <th>1</th>\n",
              "      <td>1</td>\n",
              "      <td>15/10/14 06:58</td>\n",
              "      <td>13.000</td>\n",
              "      <td>call</td>\n",
              "      <td>2014-11</td>\n",
              "      <td>Vodafone</td>\n",
              "      <td>mobile</td>\n",
              "    </tr>\n",
              "    <tr>\n",
              "      <th>2</th>\n",
              "      <td>2</td>\n",
              "      <td>15/10/14 14:46</td>\n",
              "      <td>23.000</td>\n",
              "      <td>call</td>\n",
              "      <td>2014-11</td>\n",
              "      <td>Meteor</td>\n",
              "      <td>mobile</td>\n",
              "    </tr>\n",
              "    <tr>\n",
              "      <th>3</th>\n",
              "      <td>3</td>\n",
              "      <td>15/10/14 14:48</td>\n",
              "      <td>4.000</td>\n",
              "      <td>call</td>\n",
              "      <td>2014-11</td>\n",
              "      <td>Tesco</td>\n",
              "      <td>mobile</td>\n",
              "    </tr>\n",
              "    <tr>\n",
              "      <th>4</th>\n",
              "      <td>4</td>\n",
              "      <td>15/10/14 17:27</td>\n",
              "      <td>4.000</td>\n",
              "      <td>call</td>\n",
              "      <td>2014-11</td>\n",
              "      <td>Tesco</td>\n",
              "      <td>mobile</td>\n",
              "    </tr>\n",
              "  </tbody>\n",
              "</table>\n",
              "</div>\n",
              "      <button class=\"colab-df-convert\" onclick=\"convertToInteractive('df-de5756a4-97b7-41c6-aea4-02ff85dcb5e2')\"\n",
              "              title=\"Convert this dataframe to an interactive table.\"\n",
              "              style=\"display:none;\">\n",
              "        \n",
              "  <svg xmlns=\"http://www.w3.org/2000/svg\" height=\"24px\"viewBox=\"0 0 24 24\"\n",
              "       width=\"24px\">\n",
              "    <path d=\"M0 0h24v24H0V0z\" fill=\"none\"/>\n",
              "    <path d=\"M18.56 5.44l.94 2.06.94-2.06 2.06-.94-2.06-.94-.94-2.06-.94 2.06-2.06.94zm-11 1L8.5 8.5l.94-2.06 2.06-.94-2.06-.94L8.5 2.5l-.94 2.06-2.06.94zm10 10l.94 2.06.94-2.06 2.06-.94-2.06-.94-.94-2.06-.94 2.06-2.06.94z\"/><path d=\"M17.41 7.96l-1.37-1.37c-.4-.4-.92-.59-1.43-.59-.52 0-1.04.2-1.43.59L10.3 9.45l-7.72 7.72c-.78.78-.78 2.05 0 2.83L4 21.41c.39.39.9.59 1.41.59.51 0 1.02-.2 1.41-.59l7.78-7.78 2.81-2.81c.8-.78.8-2.07 0-2.86zM5.41 20L4 18.59l7.72-7.72 1.47 1.35L5.41 20z\"/>\n",
              "  </svg>\n",
              "      </button>\n",
              "      \n",
              "  <style>\n",
              "    .colab-df-container {\n",
              "      display:flex;\n",
              "      flex-wrap:wrap;\n",
              "      gap: 12px;\n",
              "    }\n",
              "\n",
              "    .colab-df-convert {\n",
              "      background-color: #E8F0FE;\n",
              "      border: none;\n",
              "      border-radius: 50%;\n",
              "      cursor: pointer;\n",
              "      display: none;\n",
              "      fill: #1967D2;\n",
              "      height: 32px;\n",
              "      padding: 0 0 0 0;\n",
              "      width: 32px;\n",
              "    }\n",
              "\n",
              "    .colab-df-convert:hover {\n",
              "      background-color: #E2EBFA;\n",
              "      box-shadow: 0px 1px 2px rgba(60, 64, 67, 0.3), 0px 1px 3px 1px rgba(60, 64, 67, 0.15);\n",
              "      fill: #174EA6;\n",
              "    }\n",
              "\n",
              "    [theme=dark] .colab-df-convert {\n",
              "      background-color: #3B4455;\n",
              "      fill: #D2E3FC;\n",
              "    }\n",
              "\n",
              "    [theme=dark] .colab-df-convert:hover {\n",
              "      background-color: #434B5C;\n",
              "      box-shadow: 0px 1px 3px 1px rgba(0, 0, 0, 0.15);\n",
              "      filter: drop-shadow(0px 1px 2px rgba(0, 0, 0, 0.3));\n",
              "      fill: #FFFFFF;\n",
              "    }\n",
              "  </style>\n",
              "\n",
              "      <script>\n",
              "        const buttonEl =\n",
              "          document.querySelector('#df-de5756a4-97b7-41c6-aea4-02ff85dcb5e2 button.colab-df-convert');\n",
              "        buttonEl.style.display =\n",
              "          google.colab.kernel.accessAllowed ? 'block' : 'none';\n",
              "\n",
              "        async function convertToInteractive(key) {\n",
              "          const element = document.querySelector('#df-de5756a4-97b7-41c6-aea4-02ff85dcb5e2');\n",
              "          const dataTable =\n",
              "            await google.colab.kernel.invokeFunction('convertToInteractive',\n",
              "                                                     [key], {});\n",
              "          if (!dataTable) return;\n",
              "\n",
              "          const docLinkHtml = 'Like what you see? Visit the ' +\n",
              "            '<a target=\"_blank\" href=https://colab.research.google.com/notebooks/data_table.ipynb>data table notebook</a>'\n",
              "            + ' to learn more about interactive tables.';\n",
              "          element.innerHTML = '';\n",
              "          dataTable['output_type'] = 'display_data';\n",
              "          await google.colab.output.renderOutput(dataTable, element);\n",
              "          const docLink = document.createElement('div');\n",
              "          docLink.innerHTML = docLinkHtml;\n",
              "          element.appendChild(docLink);\n",
              "        }\n",
              "      </script>\n",
              "    </div>\n",
              "  </div>\n",
              "  "
            ],
            "text/plain": [
              "   index            date  duration  item    month   network network_type\n",
              "0      0  15/10/14 06:58    34.429  data  2014-11      data         data\n",
              "1      1  15/10/14 06:58    13.000  call  2014-11  Vodafone       mobile\n",
              "2      2  15/10/14 14:46    23.000  call  2014-11    Meteor       mobile\n",
              "3      3  15/10/14 14:48     4.000  call  2014-11     Tesco       mobile\n",
              "4      4  15/10/14 17:27     4.000  call  2014-11     Tesco       mobile"
            ]
          },
          "metadata": {},
          "execution_count": 24
        }
      ]
    },
    {
      "cell_type": "markdown",
      "metadata": {
        "id": "jEJftMpI5tUy"
      },
      "source": [
        "#1. Consider special in network and network type as null value and replace that with the most frequent network type and display count of most frequent item count in both columns - 2 Marks"
      ]
    },
    {
      "cell_type": "code",
      "metadata": {
        "id": "8K9gnlI258Q7",
        "colab": {
          "base_uri": "https://localhost:8080/"
        },
        "outputId": "c63003c9-07c6-4b07-dba5-85039ad9a8cc"
      },
      "source": [
        "def null_replace():\n",
        "  # write your code here\n",
        "  data.loc[(data['network'] == 'special')] = None\n",
        "  data.loc[(data['network_type'] == 'special')] = None\n",
        "  no_network = data['network'].value_counts().max()\n",
        "  no_network_type = data['network_type'].value_counts().max()\n",
        "  return no_network,no_network_type\n",
        "null_replace()"
      ],
      "execution_count": 26,
      "outputs": [
        {
          "output_type": "execute_result",
          "data": {
            "text/plain": [
              "(215, 601)"
            ]
          },
          "metadata": {},
          "execution_count": 26
        }
      ]
    },
    {
      "cell_type": "markdown",
      "metadata": {
        "id": "tYp9LxtNuW7j"
      },
      "source": [
        "# 2. Convert the date column to official datetime from object and display the type - 1 Mark"
      ]
    },
    {
      "cell_type": "code",
      "metadata": {
        "id": "9ZEkvJXo_o2Z",
        "colab": {
          "base_uri": "https://localhost:8080/"
        },
        "outputId": "fb6b036d-c33e-4711-a908-ed8fe1fcd4a6"
      },
      "source": [
        "def change_type():\n",
        " # write your code here \n",
        " data['date']=pd.to_datetime(data['date'])\n",
        " return data.dtypes['date']\n",
        "change_type()"
      ],
      "execution_count": 5,
      "outputs": [
        {
          "output_type": "execute_result",
          "data": {
            "text/plain": [
              "dtype('<M8[ns]')"
            ]
          },
          "metadata": {},
          "execution_count": 5
        }
      ]
    },
    {
      "cell_type": "markdown",
      "metadata": {
        "id": "RfRR0svHvMxB"
      },
      "source": [
        "#3. The longest phone call - 1 Mark "
      ]
    },
    {
      "cell_type": "code",
      "metadata": {
        "id": "vsRQFbHYB7y1",
        "colab": {
          "base_uri": "https://localhost:8080/"
        },
        "outputId": "5e1c6452-e89a-4721-f9c6-7c0754d38aad"
      },
      "source": [
        "def longest_phone():\n",
        "  #Write your code here\n",
        "  long_val = max(data['duration'])  \n",
        "  return long_val\n",
        "longest_phone()"
      ],
      "execution_count": 6,
      "outputs": [
        {
          "output_type": "execute_result",
          "data": {
            "text/plain": [
              "10528.0"
            ]
          },
          "metadata": {},
          "execution_count": 6
        }
      ]
    },
    {
      "cell_type": "markdown",
      "metadata": {
        "id": "37oNCRQLwbFk"
      },
      "source": [
        "#4. Split the month column to year and month_no and display how many entries are there in 2014 - 1 Marks"
      ]
    },
    {
      "cell_type": "code",
      "metadata": {
        "id": "J_3_TXQzwMRu",
        "colab": {
          "base_uri": "https://localhost:8080/"
        },
        "outputId": "2fd74e92-0374-4c4b-b4fe-47b95b8810f8"
      },
      "source": [
        "def month():\n",
        "  # write your code here\n",
        "  data[[\"year\", \"month_no\"]] = data[\"month\"].str.split(\"-\", expand = True)\n",
        "  count = (data['year']==2014).count()\n",
        "  return count\n",
        "month()"
      ],
      "execution_count": 7,
      "outputs": [
        {
          "output_type": "execute_result",
          "data": {
            "text/plain": [
              "830"
            ]
          },
          "metadata": {},
          "execution_count": 7
        }
      ]
    },
    {
      "cell_type": "markdown",
      "metadata": {
        "id": "TZgaGiXcx4jP"
      },
      "source": [
        "#5. What is the average call duration for 2015 , rounded to 2 decimal places - 1 marks"
      ]
    },
    {
      "cell_type": "code",
      "metadata": {
        "id": "6115lwh0yPix",
        "colab": {
          "base_uri": "https://localhost:8080/"
        },
        "outputId": "39306dc5-4fde-41ee-b1a4-9b82a270ae31"
      },
      "source": [
        "def avg_2015():\n",
        "  #write your code here\n",
        "  g = data.groupby('year')\n",
        "  avg = g.get_group('2015')['duration'].mean()\n",
        "  return round(avg,2)\n",
        "avg_2015()"
      ],
      "execution_count": 8,
      "outputs": [
        {
          "output_type": "execute_result",
          "data": {
            "text/plain": [
              "127.53"
            ]
          },
          "metadata": {},
          "execution_count": 8
        }
      ]
    },
    {
      "cell_type": "markdown",
      "metadata": {
        "id": "eOgFqAOI0p55"
      },
      "source": [
        "#6. What is the sum of durations, for calls only, to each network - 2 Marks"
      ]
    },
    {
      "cell_type": "code",
      "metadata": {
        "id": "g4JBUSH30znu",
        "colab": {
          "base_uri": "https://localhost:8080/"
        },
        "outputId": "a407aed4-6ca4-4aab-d37c-3be18a237d90"
      },
      "source": [
        "def sum_network():\n",
        "  #write your code here\n",
        "  g = data.groupby(['network','item'])\n",
        "  Meteor = g.get_group(('Meteor','call'))['duration'].sum()\n",
        "  Tesco = g.get_group(('Tesco','call'))['duration'].sum()\n",
        "  Vodafone = g.get_group(('Vodafone','call'))['duration'].sum()\n",
        "  return round(Meteor,1),round(Tesco,1),round(Vodafone,1)\n",
        "sum_network()"
      ],
      "execution_count": 9,
      "outputs": [
        {
          "output_type": "execute_result",
          "data": {
            "text/plain": [
              "(7200.0, 13828.0, 14621.0)"
            ]
          },
          "metadata": {},
          "execution_count": 9
        }
      ]
    },
    {
      "cell_type": "markdown",
      "metadata": {
        "id": "rN77a8_Q28C-"
      },
      "source": [
        "# 7. In the month of December how many calls are made from landline - 1 Mark"
      ]
    },
    {
      "cell_type": "code",
      "metadata": {
        "id": "odM0zeMp29fd",
        "colab": {
          "base_uri": "https://localhost:8080/"
        },
        "outputId": "a801191d-eab8-4e6b-83bd-c19698f228ae"
      },
      "source": [
        "def december_landline():\n",
        "  #write your code here\n",
        "  g = data.groupby(['month_no','item','network_type'])\n",
        "  val = g.get_group(('12','call','landline'))['index'].count()\n",
        "  return val\n",
        "december_landline()"
      ],
      "execution_count": 10,
      "outputs": [
        {
          "output_type": "execute_result",
          "data": {
            "text/plain": [
              "7"
            ]
          },
          "metadata": {},
          "execution_count": 10
        }
      ]
    },
    {
      "cell_type": "markdown",
      "metadata": {
        "id": "Li82FnirYz-Y"
      },
      "source": [
        "#8. How many unique pairs are there in the dataset with network and network_type are same - 1 mark"
      ]
    },
    {
      "cell_type": "code",
      "metadata": {
        "id": "PIwcN_MuY5K9"
      },
      "source": [
        "def pair_val():\n",
        "  # write your code here\n",
        "  return val\n",
        "pair_val()"
      ],
      "execution_count": 37,
      "outputs": []
    }
  ]
}