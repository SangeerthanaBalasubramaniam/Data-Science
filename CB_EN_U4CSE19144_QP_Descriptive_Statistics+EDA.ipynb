{
  "nbformat": 4,
  "nbformat_minor": 0,
  "metadata": {
    "colab": {
      "name": "CB.EN.U4CSE19144_QP_Descriptive_Statistics+EDA.ipynb",
      "provenance": [],
      "collapsed_sections": [],
      "toc_visible": true
    },
    "kernelspec": {
      "name": "python3",
      "display_name": "Python 3"
    },
    "language_info": {
      "name": "python"
    }
  },
  "cells": [
    {
      "cell_type": "markdown",
      "metadata": {
        "id": "JvWmEYvLe672"
      },
      "source": [
        "# Read and Preprocess"
      ]
    },
    {
      "cell_type": "markdown",
      "metadata": {
        "id": "sbVizKzNcO35"
      },
      "source": [
        "#Instruction: Import required libraries here"
      ]
    },
    {
      "cell_type": "code",
      "metadata": {
        "id": "bva5jvJ9ITlZ"
      },
      "source": [
        "# Import\n",
        "import matplotlib.pyplot as plt\n",
        "import seaborn as sns"
      ],
      "execution_count": 1,
      "outputs": []
    },
    {
      "cell_type": "code",
      "metadata": {
        "id": "CtxISvR7fqsR"
      },
      "source": [
        "import pandas as pd\n",
        "import numpy as np"
      ],
      "execution_count": 2,
      "outputs": []
    },
    {
      "cell_type": "markdown",
      "metadata": {
        "id": "wE6h5_Yfcbb5"
      },
      "source": [
        "#Instruction: From this [link](https://github.com/dayanandv/Data-Science/tree/main/Evaluation%201_Preprocessing), read the following files into dataframes:\n",
        "\n",
        "    \n",
        "\n",
        "1.   LokSabhaMPs.xls to the dataframe `mps`\n",
        "2.   Each sheet (there are six in total) of the file Seventeenth Lok Sabha_Attendance.xlsx to a list of DataFrames named `attendance`; i.e. each element of the list will be a DataFrame corresponding to a sheet in the file which represents one session.\n",
        "\n",
        "Preprocess, so that:\n",
        "\n",
        "1. The dataframe header map to the row number where column names are listed.\n",
        "2. Extra space at the end of Member Name are handled.\n",
        "\n",
        "Description of the attendance dataset from http://loksabhaph.nic.in\n",
        "\n",
        "S= The Member Signed the Register\n",
        "\n",
        "S*= The Member signed through Mobile Attendance Application\n",
        "\n",
        "S#= The Member signed through both the Register & Mobile Attendance Application\n",
        "\n",
        "NS= The Member did not sign the register. (A Member might have attended the sitting of the House on a particular day but did not sign or forgot to sign the Register for that day )\n",
        "\n",
        "NS@= Member was present but forgot to sign the Attendance Register\n",
        "\n",
        "NR= Not Required. (Hon'ble Speaker, Deputy Speaker, Prime Minister and Minister usually do not sign the Members' Attendance Register)\n"
      ]
    },
    {
      "cell_type": "code",
      "metadata": {
        "id": "57ANXZqhcXSb"
      },
      "source": [
        "mps = pd.read_excel(\"https://github.com/dayanandv/Data-Science/blob/main/Evaluation%201_Preprocessing/LokSabha_MPs.xls?raw=true%27\",skiprows=2)# Write your code here"
      ],
      "execution_count": 3,
      "outputs": []
    },
    {
      "cell_type": "code",
      "metadata": {
        "id": "bhX327dCdyWD"
      },
      "source": [
        "attendance = []\n",
        "for i in range(6):\n",
        "  val = pd.read_excel('https://github.com/dayanandv/Data-Science/blob/main/Evaluation%201_Preprocessing/Seventeenth%20Lok%20Sabha_Attendance.xlsx?raw==true',sheet_name=i)\n",
        "  attendance.append(val)\n",
        "# Write your code here"
      ],
      "execution_count": 4,
      "outputs": []
    },
    {
      "cell_type": "markdown",
      "metadata": {
        "id": "7OhvfFldcIKg"
      },
      "source": [
        "# Q1. Edit the function q1 such that it returns a tuple containing the the number of rows of `mps` and number of elements in `attendance` respectively."
      ]
    },
    {
      "cell_type": "code",
      "metadata": {
        "id": "gVT3UoGicKzh",
        "colab": {
          "base_uri": "https://localhost:8080/"
        },
        "outputId": "3bdd314d-0051-4038-aa64-2f4e82c279cc"
      },
      "source": [
        "def q1():\n",
        "  # Write your code here\n",
        "  nor_mps = mps.shape[0]\n",
        "  nor_attendance = len(attendance)\n",
        "\n",
        "  return (nor_mps, nor_attendance)\n",
        "\n",
        "q1()"
      ],
      "execution_count": 5,
      "outputs": [
        {
          "output_type": "execute_result",
          "data": {
            "text/plain": [
              "(540, 6)"
            ]
          },
          "metadata": {},
          "execution_count": 5
        }
      ]
    },
    {
      "cell_type": "markdown",
      "metadata": {
        "id": "Ftnn61kJ0rKV"
      },
      "source": [
        "#Instruction: Have the attendance percentages of each session (sheet) calculated and added to its respective dataframe as a column named `Attendance Percentage`."
      ]
    },
    {
      "cell_type": "code",
      "metadata": {
        "id": "N1RK_enL1NMZ"
      },
      "source": [
        "# Write your code here\n",
        "for i in attendance:\n",
        "  n = i['No. of days Members signed the Register'] / (i['No. of days Members signed the Register'] + i['No. of days Members not signed the Register'])\n",
        "  i['Attendance Percentage'] = n*100"
      ],
      "execution_count": 6,
      "outputs": []
    },
    {
      "cell_type": "markdown",
      "metadata": {
        "id": "pGYny8A-iOVQ"
      },
      "source": [
        "#Q2. Edit the function q2 such that it returns the percentage of MPs among those who attended session 1 (round to two decimal places) who had 100% attendance."
      ]
    },
    {
      "cell_type": "code",
      "metadata": {
        "id": "p9d5M642hUiY",
        "colab": {
          "base_uri": "https://localhost:8080/"
        },
        "outputId": "d25bdb57-70f7-41fb-b925-8e6232e372b8"
      },
      "source": [
        "def q2():\n",
        "  # Write your code here\n",
        "  df = pd.DataFrame(attendance[0])\n",
        "  n = df[df['Attendance Percentage'] == 100].value_counts().sum()\n",
        "  percentage = (n/attendance[0].shape[0])*100\n",
        "  return round(percentage,2)\n",
        "\n",
        "q2()"
      ],
      "execution_count": 7,
      "outputs": [
        {
          "output_type": "execute_result",
          "data": {
            "text/plain": [
              "20.23"
            ]
          },
          "metadata": {},
          "execution_count": 7
        }
      ]
    },
    {
      "cell_type": "markdown",
      "metadata": {
        "id": "d3tDqa1iwMKz"
      },
      "source": [
        "#Q3. Edit the function q3 such that it returns the skew value (round to two decimal places) of the Attendance Percentages of MPs in session 2 (sheet 2).  "
      ]
    },
    {
      "cell_type": "code",
      "metadata": {
        "id": "UoNrGeJswz1W",
        "colab": {
          "base_uri": "https://localhost:8080/"
        },
        "outputId": "2c44b7e2-a1f6-44a0-f1f8-5ab648d2adec"
      },
      "source": [
        "def q3():\n",
        "  # Write your code here\n",
        "  df1 = pd.DataFrame(attendance[1])\n",
        "  skew = df1['Attendance Percentage'].skew()\n",
        "  return round(skew,2)\n",
        "\n",
        "q3()"
      ],
      "execution_count": 8,
      "outputs": [
        {
          "output_type": "execute_result",
          "data": {
            "text/plain": [
              "-1.64"
            ]
          },
          "metadata": {},
          "execution_count": 8
        }
      ]
    },
    {
      "cell_type": "markdown",
      "metadata": {
        "id": "1TBy6RJ6yKQx"
      },
      "source": [
        "#Q4. Edit the function q4 such that it returns the kurtosis value of the number of days that the MPs have not signed in the register during session 3 (sheet 3).  "
      ]
    },
    {
      "cell_type": "code",
      "metadata": {
        "id": "Y-jVeoh1ySBg",
        "colab": {
          "base_uri": "https://localhost:8080/"
        },
        "outputId": "cc585017-1cc2-41a6-8b00-3855bff63e93"
      },
      "source": [
        "def q4():\n",
        "  # Write your code here\n",
        "  df2 = pd.DataFrame(attendance[2])\n",
        "  kurt = df2['No. of days Members not signed the Register'].kurt()\n",
        "  return round(kurt,2)\n",
        "\n",
        "q4()"
      ],
      "execution_count": 9,
      "outputs": [
        {
          "output_type": "execute_result",
          "data": {
            "text/plain": [
              "1.56"
            ]
          },
          "metadata": {},
          "execution_count": 9
        }
      ]
    },
    {
      "cell_type": "markdown",
      "metadata": {
        "id": "eLeL-slM0Zsx"
      },
      "source": [
        "#Instruction: Plot a histogram of the Attendance Percentage' column of session 4 (sheet 4) and use it to answer the following question."
      ]
    },
    {
      "cell_type": "code",
      "metadata": {
        "id": "7t6qE3AY4U8L",
        "colab": {
          "base_uri": "https://localhost:8080/",
          "height": 404
        },
        "outputId": "ce9065ce-abd4-4876-cbc3-5b6c98f46a18"
      },
      "source": [
        "# Write your code here\n",
        "df3 = pd.DataFrame(attendance[3])\n",
        "plt.figure(figsize=(6,6))\n",
        "plt.title('Attendance Percentage')\n",
        "sns.histplot(df3['Attendance Percentage'])\n",
        "plt.show()"
      ],
      "execution_count": 10,
      "outputs": [
        {
          "output_type": "display_data",
          "data": {
            "image/png": "[encoded data removed]",
            "text/plain": [
              "<Figure size 432x432 with 1 Axes>"
            ]
          },
          "metadata": {
            "needs_background": "light"
          }
        }
      ]
    },
    {
      "cell_type": "markdown",
      "metadata": {
        "id": "QoFIx4Al2Fgr"
      },
      "source": [
        "#Q5. Edit the function q5 such that it returns the boolean value corresponding to whether the histogram of the `Attendance Percentage` column of any arbitrary session shows a heavily skewed distribution (True/False). The session number is  to be passed onto the function as an integer argument.\n",
        "\n",
        "For this example, assume that we call a distribution as heavily skewed if it's absolute skew value is **more than 1.7**."
      ]
    },
    {
      "cell_type": "code",
      "metadata": {
        "id": "RzAId78AzTPb",
        "colab": {
          "base_uri": "https://localhost:8080/"
        },
        "outputId": "dc84f078-c071-413e-b8c6-843af48dd6e1"
      },
      "source": [
        "def q5(session_number):\n",
        "  # Write your code here\n",
        "  df4 = pd.DataFrame(attendance[session_number-1])\n",
        "  skew = df4['Attendance Percentage'].skew()\n",
        "  if (skew < -1.7 or skew > 1.7):\n",
        "    answer = True\n",
        "  else:\n",
        "    answer = False\n",
        "  return answer\n",
        "\n",
        "q5(5)"
      ],
      "execution_count": 11,
      "outputs": [
        {
          "output_type": "execute_result",
          "data": {
            "text/plain": [
              "False"
            ]
          },
          "metadata": {},
          "execution_count": 11
        }
      ]
    },
    {
      "cell_type": "markdown",
      "metadata": {
        "id": "VnMSEtYW60dC"
      },
      "source": [
        "#Q6. Edit the function q6 such that it goes through the mean values of the attendance percentages of each session and returns a list named `outliers` with the number(s) of the session(s) which is/are outlier(s). If there are no outliers return an empty list."
      ]
    },
    {
      "cell_type": "code",
      "metadata": {
        "id": "OV_97iCj4PJq",
        "colab": {
          "base_uri": "https://localhost:8080/"
        },
        "outputId": "2bb7214f-1d2f-47ab-b7cc-f47bb31d48a0"
      },
      "source": [
        "def q6():\n",
        "  #Write your code here\n",
        "  outliers = []\n",
        "  temp = []\n",
        "  for i in attendance:\n",
        "    df5 = pd.DataFrame(i)\n",
        "    mean_value = df5['Attendance Percentage'].mean()\n",
        "    temp.append(mean_value)\n",
        "    df6 = pd.DataFrame(temp)\n",
        "    q1 = df6.quantile(.25, axis = 0)\n",
        "    q2 = df6.median()\n",
        "    q3 = df6.quantile(.75, axis=0)\n",
        "    IQR = q3 - q1\n",
        "    upper = q3 + 1.5*IQR\n",
        "    lower = q1 - 1.5*IQR\n",
        "  for i in range(6):\n",
        "    var = df6[0][i]\n",
        "    if(var > upper[0] or var < lower[0]):\n",
        "      outliers.append(i+1)\n",
        "  return outliers\n",
        "\n",
        "q6()"
      ],
      "execution_count": 14,
      "outputs": [
        {
          "output_type": "execute_result",
          "data": {
            "text/plain": [
              "[5]"
            ]
          },
          "metadata": {},
          "execution_count": 14
        }
      ]
    },
    {
      "cell_type": "markdown",
      "metadata": {
        "id": "RADBblUEG9vl"
      },
      "source": [
        "#Q7. Edit the function q7 such that it returns a list named `dnos` having the 'Division No' (in the ascending order) of those MPs who are the most consistent in their attendance, as per the conditions listed below.\n",
        "\n",
        "* Consider only those MPs who have attended at least two sessions. \n",
        "* For this example, assume that consistency can be calculated via the standard \n",
        "deviation of their attendance percentages across sessions. The lesser the standard deviation, better consistant the attendace is."
      ]
    },
    {
      "cell_type": "code",
      "metadata": {
        "id": "mkHRkK3XIR5M",
        "colab": {
          "base_uri": "https://localhost:8080/"
        },
        "outputId": "51742b18-d6d7-4749-96c6-cebaf78f41fa"
      },
      "source": [
        "def q7():\n",
        "  # Write your code here\n",
        "  dnos = []\n",
        "  for i in range(6):\n",
        "    attendance[i]['Attendance Percentage'].std()\n",
        "  return dnos\n",
        "\n",
        "q7()"
      ],
      "execution_count": 22,
      "outputs": [
        {
          "output_type": "execute_result",
          "data": {
            "text/plain": [
              "[]"
            ]
          },
          "metadata": {},
          "execution_count": 22
        }
      ]
    }
  ]
}