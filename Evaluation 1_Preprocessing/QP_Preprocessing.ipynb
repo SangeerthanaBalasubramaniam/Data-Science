{
  "nbformat": 4,
  "nbformat_minor": 0,
  "metadata": {
    "colab": {
      "name": "QP_Preprocessing.ipynb",
      "provenance": [],
      "collapsed_sections": [],
      "toc_visible": true
    },
    "kernelspec": {
      "name": "python3",
      "display_name": "Python 3"
    },
    "language_info": {
      "name": "python"
    }
  },
  "cells": [
    {
      "cell_type": "markdown",
      "metadata": {
        "id": "G7zmOM_nqL9k"
      },
      "source": [
        "Import required libraries here"
      ]
    },
    {
      "cell_type": "code",
      "metadata": {
        "id": "ZsCQhDPGqAUq"
      },
      "source": [
        "#Import"
      ],
      "execution_count": null,
      "outputs": []
    },
    {
      "cell_type": "markdown",
      "metadata": {
        "id": "hYYWZ09zdvKH"
      },
      "source": [
        "Read the file [food.csv](https://corgis-edu.github.io/corgis/datasets/csv/food/food.csv) into a DataFrame named `df`."
      ]
    },
    {
      "cell_type": "code",
      "metadata": {
        "id": "e2IcQLjtq1lp"
      },
      "source": [
        "# Write your code here"
      ],
      "execution_count": null,
      "outputs": []
    },
    {
      "cell_type": "markdown",
      "metadata": {
        "id": "_D6htw9B1U_6"
      },
      "source": [
        "# Q1:  Edit the function `q1` such that it returns the number of rows of `df`."
      ]
    },
    {
      "cell_type": "code",
      "metadata": {
        "id": "9aqaZbYa1UM9"
      },
      "source": [
        "def q1():\n",
        "  # Write your code here\n",
        "  return # Write your code here\n",
        "\n",
        "q1()"
      ],
      "execution_count": null,
      "outputs": []
    },
    {
      "cell_type": "markdown",
      "metadata": {
        "id": "VOo02P1YzG6n"
      },
      "source": [
        "From `df`, create another dataframe, named `data` having only the following columns:\n",
        "\n",
        "* Category\n",
        "* Description\n",
        "*\tNutrient Data Bank Number\n",
        "* Data.Cholesterol\n",
        "* Data.Kilocalories\n",
        "* Data.Protein\n",
        "* Data.Sugar Total\n",
        "* Data.Water\n",
        "\n"
      ]
    },
    {
      "cell_type": "code",
      "metadata": {
        "id": "scBSrNwszeeV"
      },
      "source": [
        "data = # Write your code here"
      ],
      "execution_count": null,
      "outputs": []
    },
    {
      "cell_type": "markdown",
      "metadata": {
        "id": "e-k3WNZM2std"
      },
      "source": [
        "# Q2: Edit the function q2 such that it sets the index of `data` to be the column `Nutrient Data Bank Number` permanently (`inplace`)."
      ]
    },
    {
      "cell_type": "code",
      "metadata": {
        "id": "aHMML-Sl23aq"
      },
      "source": [
        "def q2():\n",
        "  #Write your code here\n",
        "\n",
        "q2()"
      ],
      "execution_count": null,
      "outputs": []
    },
    {
      "cell_type": "markdown",
      "metadata": {
        "id": "qMOQ9vc419Ze"
      },
      "source": [
        "# Q3:  Edit the function `q3` such that it returns the number of columns of `data`.\n",
        "Return type: int"
      ]
    },
    {
      "cell_type": "code",
      "metadata": {
        "id": "47Uo-a592Kv5"
      },
      "source": [
        "def q3():\n",
        "  # Write your code here\n",
        "  return # Write your code here\n",
        "\n",
        "q3()"
      ],
      "execution_count": null,
      "outputs": []
    },
    {
      "cell_type": "markdown",
      "metadata": {
        "id": "Hc_WLr_N-A_d"
      },
      "source": [
        "# Q4:  Edit the function `q4` such that it returns the total number of columns of `null` elements in the entire dataframe.\n",
        "Return type: numpy.int64"
      ]
    },
    {
      "cell_type": "code",
      "metadata": {
        "id": "I6-7IsxR-J0b"
      },
      "source": [
        "def q4():\n",
        "  # Write your code here\n",
        "  return # Write your code here\n",
        "\n",
        "q4()"
      ],
      "execution_count": null,
      "outputs": []
    },
    {
      "cell_type": "markdown",
      "metadata": {
        "id": "7ytmeGtxq2mL"
      },
      "source": [
        "# Q5:  Edit the function `q5` such that it returns the total number of unique values in the columns `Category`.\n",
        "Return type: int"
      ]
    },
    {
      "cell_type": "code",
      "metadata": {
        "id": "EJroQ6f-Clqt"
      },
      "source": [
        "def q5():\n",
        "  # Write your code here\n",
        "  return # Write your code here\n",
        "\n",
        "q5()"
      ],
      "execution_count": null,
      "outputs": []
    },
    {
      "cell_type": "markdown",
      "metadata": {
        "id": "RtHXSuDeISR8"
      },
      "source": [
        "# Q6: Edit the function `q6` such that it returns the `series` (1-D dataframe) having the largest five values of `Data.Protein` in descending order.\n",
        "\n",
        "Return type: pandas.core.series.Series"
      ]
    },
    {
      "cell_type": "code",
      "metadata": {
        "id": "o1wExY4QFUOl"
      },
      "source": [
        "def q6():\n",
        "  # Write your code here\n",
        "  return # Write your code here\n",
        "\n",
        "q6()"
      ],
      "execution_count": null,
      "outputs": []
    },
    {
      "cell_type": "markdown",
      "metadata": {
        "id": "9QvuxcrSOTu_"
      },
      "source": [
        "# Q7: Edit the function `q7` such that it groups (`groupby`) `data` according to the column `Category` and saves its `description` into a dataframe named `descr`, and returns `descr`.\n",
        "Return type: pandas.core.frame.DataFrame"
      ]
    },
    {
      "cell_type": "code",
      "metadata": {
        "id": "0_RbdJxWGE0n"
      },
      "source": [
        "def q7():\n",
        "  #Write your code here\n",
        "  descr = # Write your code here\n",
        "  return descr\n",
        " \n",
        "q7()"
      ],
      "execution_count": null,
      "outputs": []
    },
    {
      "cell_type": "markdown",
      "metadata": {
        "id": "NQt7lS4IQl4M"
      },
      "source": [
        "# Q8: Edit the function `q8` such that it uses `descr` to find the 25th percentile of food in the category 'CHEESE' and the 75th percentile of the food in the category 'CORN'. Return a tuple containing the answers in the  respective order.\n",
        "\n",
        "Return type: tuple"
      ]
    },
    {
      "cell_type": "code",
      "metadata": {
        "id": "rXOUH6ZPKntU"
      },
      "source": [
        "def q8():\n",
        "  # Write your code here\n",
        "  cheese_25 = # Write your code here\n",
        "  cookies_75 = # Write your code here\n",
        "  return (cheese_25, cookies_75)\n",
        "\n",
        "q8()"
      ],
      "execution_count": null,
      "outputs": []
    },
    {
      "cell_type": "markdown",
      "metadata": {
        "id": "z3qncvqPgnFP"
      },
      "source": [
        "\n",
        "---\n"
      ]
    },
    {
      "cell_type": "markdown",
      "metadata": {
        "id": "0kKOp5QnWFdh"
      },
      "source": [
        "# Read the following files into dataframes: \n",
        "\n",
        "1. **LokSabhaMPs.xls** to the dataframe `mps`\n",
        "2. Each sheet (there are six in total) of the file **Seventeenth Lok Sabha_Attendance.xlsx** to a list of DataFrames named `attendance`; i.e. each element of the list will be a DataFrame corresponding to a sheet in the file.\n",
        "\n",
        "Preprocess, so that:\n",
        "\n",
        "1. The dataframe `header` map to the row number where column names are listed.\n",
        "2. Extra space at the end of `Member Name` are handled.\n"
      ]
    },
    {
      "cell_type": "markdown",
      "metadata": {
        "id": "CySe46pqfqV0"
      },
      "source": [
        "Description of the attendance dataset from http://loksabhaph.nic.in\n",
        "\n",
        "---\n",
        "\n",
        "S= The Member Signed the Register\n",
        "\n",
        "S*= The Member signed through Mobile Attendance Application\n",
        "\n",
        "S#= The Member signed through both the Register & Mobile Attendance Application\n",
        "\n",
        "NS= The Member did not sign the register. (A Member might have attended the sitting of the House on a particular day but did not sign or forgot to sign the Register for that day )\n",
        "\n",
        "NS@= Member was present but forgot to sign the Attendance Register\n",
        "\n",
        "NR= Not Required. (Hon'ble Speaker, Deputy Speaker, Prime Minister and Minister usually do not sign the Members' Attendance Register) "
      ]
    },
    {
      "cell_type": "code",
      "metadata": {
        "id": "TCxwtO8FfoBK"
      },
      "source": [
        "mps = # Write your code here"
      ],
      "execution_count": null,
      "outputs": []
    },
    {
      "cell_type": "code",
      "metadata": {
        "id": "YVNCono9Tksc"
      },
      "source": [
        "attendance = []\n",
        "# Write your code here"
      ],
      "execution_count": null,
      "outputs": []
    },
    {
      "cell_type": "markdown",
      "metadata": {
        "id": "mOWAtSksjHO4"
      },
      "source": [
        "# Q9. Edit the function `q9` such that it returns the attendance percentage (not fraction) of 'Shri Arjun Singh' in the 6th session (sheet number 6).\n",
        "\n",
        "*You may have to typecast the return value of the filter to float.*\n",
        "\n",
        "Return type: float"
      ]
    },
    {
      "cell_type": "code",
      "metadata": {
        "id": "UvTSBSIuh6Zz"
      },
      "source": [
        "def q9():\n",
        "  # Write your code here\n",
        "  return # Write your code here\n",
        " \n",
        "q9()"
      ],
      "execution_count": null,
      "outputs": []
    },
    {
      "cell_type": "markdown",
      "metadata": {
        "id": "M6mimQTDpiQ2"
      },
      "source": [
        "# Q10. Edit the function `q10` such that it returns the attendance percentage (not fraction) of 'Shri Manoj Tiwari' across all sessions.\n",
        "\n",
        "*You may have to typecast the return value of the filter to float.*\n",
        "\n",
        "Return type: float (default number of decimal places)"
      ]
    },
    {
      "cell_type": "code",
      "metadata": {
        "id": "_v9aXbk4h9l9"
      },
      "source": [
        "def q10():\n",
        "  # Write your code here\n",
        "  return # Write your code here\n",
        "\n",
        "q10()"
      ],
      "execution_count": null,
      "outputs": []
    },
    {
      "cell_type": "markdown",
      "metadata": {
        "id": "SMTOp3y20ia2"
      },
      "source": [
        "# Q11. Edit the function `q11` such that it calculates the attendance percentages of each member for each session and adds that into a new column named `Attendance Percentage` in each DataFrame."
      ]
    },
    {
      "cell_type": "code",
      "metadata": {
        "id": "eLTwYWM_03f4"
      },
      "source": [
        "def q11():\n",
        "  # Write your code here\n",
        "\n",
        "q11()"
      ],
      "execution_count": null,
      "outputs": []
    },
    {
      "cell_type": "markdown",
      "metadata": {
        "id": "t93M0V1G3LLL"
      },
      "source": [
        "# Q12. Edit the function `q12` such that it merges `mps` and `attendance[0]` on the `Member Name` column into a new DataFrame named `merged`, and return `merged`. \n",
        "\n",
        "Drop the following columns: \n",
        "* `Division NO`\n",
        "* `Member Name`\n",
        "* `No. of days Members signed the Register`\n",
        "* `No. of days Members not signed the Register`\n",
        "\n",
        "Return type: pandas.core.frame.DataFrame"
      ]
    },
    {
      "cell_type": "code",
      "metadata": {
        "id": "qKpFPBnRr8EF"
      },
      "source": [
        "def q12():\n",
        "  merged = # Write your code here\n",
        "  return merged\n",
        "\n",
        "q12()"
      ],
      "execution_count": null,
      "outputs": []
    },
    {
      "cell_type": "markdown",
      "metadata": {
        "id": "OZ_r2P5t36M0"
      },
      "source": [
        "# Q13. Edit the function `q13` such that it groups the DataFrame `merged` based on the column `Party Name` into a DataFrame named `gby`. Return a call of `describe()` on `gby`.\n",
        "\n",
        "Return type: pandas.core.frame.DataFrame"
      ]
    },
    {
      "cell_type": "code",
      "metadata": {
        "id": "tKned5gOuIql"
      },
      "source": [
        "def q13():\n",
        "  # Write your code here\n",
        "  return # Write your code here\n",
        "\n",
        "q13()"
      ],
      "execution_count": null,
      "outputs": []
    }
  ]
}