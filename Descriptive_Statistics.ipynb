{
  "nbformat": 4,
  "nbformat_minor": 0,
  "metadata": {
    "colab": {
      "name": "Descriptive_Statistics.ipynb",
      "provenance": [],
      "collapsed_sections": [],
      "include_colab_link": true
    },
    "kernelspec": {
      "name": "python3",
      "display_name": "Python 3"
    },
    "language_info": {
      "name": "python"
    }
  },
  "cells": [
    {
      "cell_type": "markdown",
      "metadata": {
        "id": "view-in-github",
        "colab_type": "text"
      },
      "source": [
        "<a href=\"https://colab.research.google.com/github/SangeerthanaBalasubramaniam/Data-Science/blob/main/Descriptive_Statistics.ipynb\" target=\"_parent\"><img src=\"https://colab.research.google.com/assets/colab-badge.svg\" alt=\"Open In Colab\"/></a>"
      ]
    },
    {
      "cell_type": "code",
      "metadata": {
        "id": "IiupO7g6rPWt"
      },
      "source": [
        "import pandas as pd\n",
        "import numpy as np\n",
        "import matplotlib.pyplot as plt\n",
        "import seaborn as sns\n",
        "import random"
      ],
      "execution_count": 1,
      "outputs": []
    },
    {
      "cell_type": "code",
      "metadata": {
        "id": "yDJTlAaO7N3w",
        "colab": {
          "base_uri": "https://localhost:8080/",
          "height": 287
        },
        "outputId": "092251fc-a741-4361-c63c-b5b8efb9b0de"
      },
      "source": [
        "d1 = pd.read_csv('https://raw.githubusercontent.com/dayanandv/Data-Science/main/dataset/uk-500.csv')\n",
        "d1.head()"
      ],
      "execution_count": 2,
      "outputs": [
        {
          "output_type": "execute_result",
          "data": {
            "text/html": [
              "<div>\n",
              "<style scoped>\n",
              "    .dataframe tbody tr th:only-of-type {\n",
              "        vertical-align: middle;\n",
              "    }\n",
              "\n",
              "    .dataframe tbody tr th {\n",
              "        vertical-align: top;\n",
              "    }\n",
              "\n",
              "    .dataframe thead th {\n",
              "        text-align: right;\n",
              "    }\n",
              "</style>\n",
              "<table border=\"1\" class=\"dataframe\">\n",
              "  <thead>\n",
              "    <tr style=\"text-align: right;\">\n",
              "      <th></th>\n",
              "      <th>first_name</th>\n",
              "      <th>last_name</th>\n",
              "      <th>company_name</th>\n",
              "      <th>address</th>\n",
              "      <th>city</th>\n",
              "      <th>county</th>\n",
              "      <th>postal</th>\n",
              "      <th>phone1</th>\n",
              "      <th>phone2</th>\n",
              "      <th>email</th>\n",
              "      <th>web</th>\n",
              "    </tr>\n",
              "  </thead>\n",
              "  <tbody>\n",
              "    <tr>\n",
              "      <th>0</th>\n",
              "      <td>Aleshia</td>\n",
              "      <td>Tomkiewicz</td>\n",
              "      <td>Alan D Rosenburg Cpa Pc</td>\n",
              "      <td>14 Taylor St</td>\n",
              "      <td>St. Stephens Ward</td>\n",
              "      <td>Kent</td>\n",
              "      <td>CT2 7PP</td>\n",
              "      <td>01835-703597</td>\n",
              "      <td>01944-369967</td>\n",
              "      <td>atomkiewicz@hotmail.com</td>\n",
              "      <td>http://www.alandrosenburgcpapc.co.uk</td>\n",
              "    </tr>\n",
              "    <tr>\n",
              "      <th>1</th>\n",
              "      <td>Evan</td>\n",
              "      <td>Zigomalas</td>\n",
              "      <td>Cap Gemini America</td>\n",
              "      <td>5 Binney St</td>\n",
              "      <td>Abbey Ward</td>\n",
              "      <td>Buckinghamshire</td>\n",
              "      <td>HP11 2AX</td>\n",
              "      <td>01937-864715</td>\n",
              "      <td>01714-737668</td>\n",
              "      <td>evan.zigomalas@gmail.com</td>\n",
              "      <td>http://www.capgeminiamerica.co.uk</td>\n",
              "    </tr>\n",
              "    <tr>\n",
              "      <th>2</th>\n",
              "      <td>France</td>\n",
              "      <td>Andrade</td>\n",
              "      <td>Elliott, John W Esq</td>\n",
              "      <td>8 Moor Place</td>\n",
              "      <td>East Southbourne and Tuckton W</td>\n",
              "      <td>Bournemouth</td>\n",
              "      <td>BH6 3BE</td>\n",
              "      <td>01347-368222</td>\n",
              "      <td>01935-821636</td>\n",
              "      <td>france.andrade@hotmail.com</td>\n",
              "      <td>http://www.elliottjohnwesq.co.uk</td>\n",
              "    </tr>\n",
              "    <tr>\n",
              "      <th>3</th>\n",
              "      <td>Ulysses</td>\n",
              "      <td>Mcwalters</td>\n",
              "      <td>Mcmahan, Ben L</td>\n",
              "      <td>505 Exeter Rd</td>\n",
              "      <td>Hawerby cum Beesby</td>\n",
              "      <td>Lincolnshire</td>\n",
              "      <td>DN36 5RP</td>\n",
              "      <td>01912-771311</td>\n",
              "      <td>01302-601380</td>\n",
              "      <td>ulysses@hotmail.com</td>\n",
              "      <td>http://www.mcmahanbenl.co.uk</td>\n",
              "    </tr>\n",
              "    <tr>\n",
              "      <th>4</th>\n",
              "      <td>Tyisha</td>\n",
              "      <td>Veness</td>\n",
              "      <td>Champagne Room</td>\n",
              "      <td>5396 Forth Street</td>\n",
              "      <td>Greets Green and Lyng Ward</td>\n",
              "      <td>West Midlands</td>\n",
              "      <td>B70 9DT</td>\n",
              "      <td>01547-429341</td>\n",
              "      <td>01290-367248</td>\n",
              "      <td>tyisha.veness@hotmail.com</td>\n",
              "      <td>http://www.champagneroom.co.uk</td>\n",
              "    </tr>\n",
              "  </tbody>\n",
              "</table>\n",
              "</div>"
            ],
            "text/plain": [
              "  first_name  ...                                   web\n",
              "0    Aleshia  ...  http://www.alandrosenburgcpapc.co.uk\n",
              "1       Evan  ...     http://www.capgeminiamerica.co.uk\n",
              "2     France  ...      http://www.elliottjohnwesq.co.uk\n",
              "3    Ulysses  ...          http://www.mcmahanbenl.co.uk\n",
              "4     Tyisha  ...        http://www.champagneroom.co.uk\n",
              "\n",
              "[5 rows x 11 columns]"
            ]
          },
          "metadata": {},
          "execution_count": 2
        }
      ]
    },
    {
      "cell_type": "markdown",
      "metadata": {
        "id": "RyoGerAMrYma"
      },
      "source": [
        "# Populations and Samples"
      ]
    },
    {
      "cell_type": "markdown",
      "metadata": {
        "id": "LsE9XNi0reLA"
      },
      "source": [
        "## Sampling techniques"
      ]
    },
    {
      "cell_type": "markdown",
      "metadata": {
        "id": "RBwuT8HPrnd2"
      },
      "source": [
        "### Simple Random Sampling"
      ]
    },
    {
      "cell_type": "markdown",
      "metadata": {
        "id": "VH1GJM9Q8Y6X"
      },
      "source": [
        "df.sample(n, frac, replace, random_state)"
      ]
    },
    {
      "cell_type": "code",
      "metadata": {
        "id": "hbNg6bQ-ealT",
        "colab": {
          "base_uri": "https://localhost:8080/",
          "height": 192
        },
        "outputId": "79d9bbac-90bf-4ad0-9e6d-c0236c3e13d6"
      },
      "source": [
        "d1.sample(n=3) # n is no of samples (randomly chosen)"
      ],
      "execution_count": 3,
      "outputs": [
        {
          "output_type": "execute_result",
          "data": {
            "text/html": [
              "<div>\n",
              "<style scoped>\n",
              "    .dataframe tbody tr th:only-of-type {\n",
              "        vertical-align: middle;\n",
              "    }\n",
              "\n",
              "    .dataframe tbody tr th {\n",
              "        vertical-align: top;\n",
              "    }\n",
              "\n",
              "    .dataframe thead th {\n",
              "        text-align: right;\n",
              "    }\n",
              "</style>\n",
              "<table border=\"1\" class=\"dataframe\">\n",
              "  <thead>\n",
              "    <tr style=\"text-align: right;\">\n",
              "      <th></th>\n",
              "      <th>first_name</th>\n",
              "      <th>last_name</th>\n",
              "      <th>company_name</th>\n",
              "      <th>address</th>\n",
              "      <th>city</th>\n",
              "      <th>county</th>\n",
              "      <th>postal</th>\n",
              "      <th>phone1</th>\n",
              "      <th>phone2</th>\n",
              "      <th>email</th>\n",
              "      <th>web</th>\n",
              "    </tr>\n",
              "  </thead>\n",
              "  <tbody>\n",
              "    <tr>\n",
              "      <th>89</th>\n",
              "      <td>Lenny</td>\n",
              "      <td>Gazzola</td>\n",
              "      <td>Wise Industries</td>\n",
              "      <td>6 Romilly St</td>\n",
              "      <td>Walkergate Ward</td>\n",
              "      <td>Tyne and Wear</td>\n",
              "      <td>NE6 4YH</td>\n",
              "      <td>01312-233253</td>\n",
              "      <td>01342-706893</td>\n",
              "      <td>lenny.gazzola@yahoo.com</td>\n",
              "      <td>http://www.wiseindustries.co.uk</td>\n",
              "    </tr>\n",
              "    <tr>\n",
              "      <th>326</th>\n",
              "      <td>Cornell</td>\n",
              "      <td>Mccrossin</td>\n",
              "      <td>Cheek, John D Esq</td>\n",
              "      <td>623 Cornhill</td>\n",
              "      <td>Stretton</td>\n",
              "      <td>Staffordshire</td>\n",
              "      <td>DE13 0DH</td>\n",
              "      <td>01608-748971</td>\n",
              "      <td>01279-418098</td>\n",
              "      <td>cornell.mccrossin@mccrossin.co.uk</td>\n",
              "      <td>http://www.cheekjohndesq.co.uk</td>\n",
              "    </tr>\n",
              "    <tr>\n",
              "      <th>325</th>\n",
              "      <td>Dwight</td>\n",
              "      <td>Belyea</td>\n",
              "      <td>Skuttle Mfg Co</td>\n",
              "      <td>419 St Andrew St</td>\n",
              "      <td>Tibberton</td>\n",
              "      <td>Hereford and Worcester</td>\n",
              "      <td>WR9 7NS</td>\n",
              "      <td>01822-404490</td>\n",
              "      <td>01498-287540</td>\n",
              "      <td>dbelyea@belyea.co.uk</td>\n",
              "      <td>http://www.skuttlemfgco.co.uk</td>\n",
              "    </tr>\n",
              "  </tbody>\n",
              "</table>\n",
              "</div>"
            ],
            "text/plain": [
              "    first_name  ...                              web\n",
              "89       Lenny  ...  http://www.wiseindustries.co.uk\n",
              "326    Cornell  ...   http://www.cheekjohndesq.co.uk\n",
              "325     Dwight  ...    http://www.skuttlemfgco.co.uk\n",
              "\n",
              "[3 rows x 11 columns]"
            ]
          },
          "metadata": {},
          "execution_count": 3
        }
      ]
    },
    {
      "cell_type": "markdown",
      "metadata": {
        "id": "8FISoCXOtLj_"
      },
      "source": [
        "There are computational optimization techniques to generate(PRNG - pseudo random number generator) random numbers called Pseudo random numbers. There are many algorithms which does that, all the algorithms requires SEED, based on seed it creates random distribution and chooses from it."
      ]
    },
    {
      "cell_type": "code",
      "metadata": {
        "colab": {
          "base_uri": "https://localhost:8080/",
          "height": 192
        },
        "id": "ACp0ZaJLuLcj",
        "outputId": "01c0c38c-cce0-44d7-b334-f4a05210ed53"
      },
      "source": [
        "d1.sample(n=3, random_state=1) "
      ],
      "execution_count": 4,
      "outputs": [
        {
          "output_type": "execute_result",
          "data": {
            "text/html": [
              "<div>\n",
              "<style scoped>\n",
              "    .dataframe tbody tr th:only-of-type {\n",
              "        vertical-align: middle;\n",
              "    }\n",
              "\n",
              "    .dataframe tbody tr th {\n",
              "        vertical-align: top;\n",
              "    }\n",
              "\n",
              "    .dataframe thead th {\n",
              "        text-align: right;\n",
              "    }\n",
              "</style>\n",
              "<table border=\"1\" class=\"dataframe\">\n",
              "  <thead>\n",
              "    <tr style=\"text-align: right;\">\n",
              "      <th></th>\n",
              "      <th>first_name</th>\n",
              "      <th>last_name</th>\n",
              "      <th>company_name</th>\n",
              "      <th>address</th>\n",
              "      <th>city</th>\n",
              "      <th>county</th>\n",
              "      <th>postal</th>\n",
              "      <th>phone1</th>\n",
              "      <th>phone2</th>\n",
              "      <th>email</th>\n",
              "      <th>web</th>\n",
              "    </tr>\n",
              "  </thead>\n",
              "  <tbody>\n",
              "    <tr>\n",
              "      <th>304</th>\n",
              "      <td>Remedios</td>\n",
              "      <td>Arlinghaus</td>\n",
              "      <td>Miller, Martin M Esq</td>\n",
              "      <td>9 Duckenfield St</td>\n",
              "      <td>Aldbrough</td>\n",
              "      <td>E Riding of Yorkshire</td>\n",
              "      <td>HU11 4QA</td>\n",
              "      <td>01536-498792</td>\n",
              "      <td>01883-435283</td>\n",
              "      <td>remedios.arlinghaus@gmail.com</td>\n",
              "      <td>http://www.millermartinmesq.co.uk</td>\n",
              "    </tr>\n",
              "    <tr>\n",
              "      <th>340</th>\n",
              "      <td>Shannon</td>\n",
              "      <td>Kobayashi</td>\n",
              "      <td>Hungs</td>\n",
              "      <td>1111 Nesfield St</td>\n",
              "      <td>Tonge with the Haulgh Ward</td>\n",
              "      <td>Greater Manchester</td>\n",
              "      <td>BL2 2SU</td>\n",
              "      <td>01620-435994</td>\n",
              "      <td>01436-122588</td>\n",
              "      <td>shannon@yahoo.com</td>\n",
              "      <td>http://www.hungs.co.uk</td>\n",
              "    </tr>\n",
              "    <tr>\n",
              "      <th>47</th>\n",
              "      <td>Luisa</td>\n",
              "      <td>Devereux</td>\n",
              "      <td>Cash 4 Checks</td>\n",
              "      <td>3 North View #35</td>\n",
              "      <td>Burmantofts and Richmond Hill</td>\n",
              "      <td>West Yorkshire</td>\n",
              "      <td>LS9 7JH</td>\n",
              "      <td>01607-269930</td>\n",
              "      <td>01334-807355</td>\n",
              "      <td>ldevereux@gmail.com</td>\n",
              "      <td>http://www.cashchecks.co.uk</td>\n",
              "    </tr>\n",
              "  </tbody>\n",
              "</table>\n",
              "</div>"
            ],
            "text/plain": [
              "    first_name  ...                                web\n",
              "304   Remedios  ...  http://www.millermartinmesq.co.uk\n",
              "340    Shannon  ...             http://www.hungs.co.uk\n",
              "47       Luisa  ...        http://www.cashchecks.co.uk\n",
              "\n",
              "[3 rows x 11 columns]"
            ]
          },
          "metadata": {},
          "execution_count": 4
        }
      ]
    },
    {
      "cell_type": "code",
      "metadata": {
        "id": "PR5NHmKDe-Xg",
        "colab": {
          "base_uri": "https://localhost:8080/",
          "height": 192
        },
        "outputId": "546545bb-0540-4f6a-9893-2e3900db1e6e"
      },
      "source": [
        "# return 3 random sample rows from dataset considering random_state as 1\n",
        "d1.sample(n=3, random_state=42) "
      ],
      "execution_count": 5,
      "outputs": [
        {
          "output_type": "execute_result",
          "data": {
            "text/html": [
              "<div>\n",
              "<style scoped>\n",
              "    .dataframe tbody tr th:only-of-type {\n",
              "        vertical-align: middle;\n",
              "    }\n",
              "\n",
              "    .dataframe tbody tr th {\n",
              "        vertical-align: top;\n",
              "    }\n",
              "\n",
              "    .dataframe thead th {\n",
              "        text-align: right;\n",
              "    }\n",
              "</style>\n",
              "<table border=\"1\" class=\"dataframe\">\n",
              "  <thead>\n",
              "    <tr style=\"text-align: right;\">\n",
              "      <th></th>\n",
              "      <th>first_name</th>\n",
              "      <th>last_name</th>\n",
              "      <th>company_name</th>\n",
              "      <th>address</th>\n",
              "      <th>city</th>\n",
              "      <th>county</th>\n",
              "      <th>postal</th>\n",
              "      <th>phone1</th>\n",
              "      <th>phone2</th>\n",
              "      <th>email</th>\n",
              "      <th>web</th>\n",
              "    </tr>\n",
              "  </thead>\n",
              "  <tbody>\n",
              "    <tr>\n",
              "      <th>361</th>\n",
              "      <td>Celia</td>\n",
              "      <td>Reisling</td>\n",
              "      <td>Bridger Valley General Store</td>\n",
              "      <td>8362 Whithorn St</td>\n",
              "      <td>Leatherhead South Ward</td>\n",
              "      <td>Surrey</td>\n",
              "      <td>KT22 8AP</td>\n",
              "      <td>01309-159593</td>\n",
              "      <td>01299-509105</td>\n",
              "      <td>celia.reisling@hotmail.com</td>\n",
              "      <td>http://www.bridgervalleygeneralstore.co.uk</td>\n",
              "    </tr>\n",
              "    <tr>\n",
              "      <th>73</th>\n",
              "      <td>Yun</td>\n",
              "      <td>Paletta</td>\n",
              "      <td>Goe, Douglas E Esq</td>\n",
              "      <td>9205 Upper Hill St</td>\n",
              "      <td>City and Hunslet Ward</td>\n",
              "      <td>West Yorkshire</td>\n",
              "      <td>LS1 5QE</td>\n",
              "      <td>01350-332706</td>\n",
              "      <td>01374-255198</td>\n",
              "      <td>yun_paletta@paletta.co.uk</td>\n",
              "      <td>http://www.goedouglaseesq.co.uk</td>\n",
              "    </tr>\n",
              "    <tr>\n",
              "      <th>374</th>\n",
              "      <td>Keneth</td>\n",
              "      <td>Stpierrie</td>\n",
              "      <td>Mueller Repro Blue Printg</td>\n",
              "      <td>2 Seacombe St</td>\n",
              "      <td>Littleborough Lakeside Ward</td>\n",
              "      <td>Greater Manchester</td>\n",
              "      <td>OL15 0JP</td>\n",
              "      <td>01919-731224</td>\n",
              "      <td>01325-412836</td>\n",
              "      <td>keneth_stpierrie@hotmail.com</td>\n",
              "      <td>http://www.muellerreproblueprintg.co.uk</td>\n",
              "    </tr>\n",
              "  </tbody>\n",
              "</table>\n",
              "</div>"
            ],
            "text/plain": [
              "    first_name  ...                                         web\n",
              "361      Celia  ...  http://www.bridgervalleygeneralstore.co.uk\n",
              "73         Yun  ...             http://www.goedouglaseesq.co.uk\n",
              "374     Keneth  ...     http://www.muellerreproblueprintg.co.uk\n",
              "\n",
              "[3 rows x 11 columns]"
            ]
          },
          "metadata": {},
          "execution_count": 5
        }
      ]
    },
    {
      "cell_type": "code",
      "metadata": {
        "id": "q-agzRVafN47",
        "colab": {
          "base_uri": "https://localhost:8080/",
          "height": 585
        },
        "outputId": "37374233-2d46-4058-d348-902e4152ac2a"
      },
      "source": [
        "d1.sample(frac=0.25, replace=True, random_state=5) # fraction of entire population. here -> 25% (25% of entire dataset). "
      ],
      "execution_count": 6,
      "outputs": [
        {
          "output_type": "execute_result",
          "data": {
            "text/html": [
              "<div>\n",
              "<style scoped>\n",
              "    .dataframe tbody tr th:only-of-type {\n",
              "        vertical-align: middle;\n",
              "    }\n",
              "\n",
              "    .dataframe tbody tr th {\n",
              "        vertical-align: top;\n",
              "    }\n",
              "\n",
              "    .dataframe thead th {\n",
              "        text-align: right;\n",
              "    }\n",
              "</style>\n",
              "<table border=\"1\" class=\"dataframe\">\n",
              "  <thead>\n",
              "    <tr style=\"text-align: right;\">\n",
              "      <th></th>\n",
              "      <th>first_name</th>\n",
              "      <th>last_name</th>\n",
              "      <th>company_name</th>\n",
              "      <th>address</th>\n",
              "      <th>city</th>\n",
              "      <th>county</th>\n",
              "      <th>postal</th>\n",
              "      <th>phone1</th>\n",
              "      <th>phone2</th>\n",
              "      <th>email</th>\n",
              "      <th>web</th>\n",
              "    </tr>\n",
              "  </thead>\n",
              "  <tbody>\n",
              "    <tr>\n",
              "      <th>355</th>\n",
              "      <td>Margery</td>\n",
              "      <td>Rohrs</td>\n",
              "      <td>C G Mccullough Insurance Agcy</td>\n",
              "      <td>40 Peters Lane</td>\n",
              "      <td>Long Preston</td>\n",
              "      <td>North Yorkshire</td>\n",
              "      <td>BD23 4NF</td>\n",
              "      <td>01634-340524</td>\n",
              "      <td>01933-273913</td>\n",
              "      <td>margery@hotmail.com</td>\n",
              "      <td>http://www.cgmcculloughinsuranceagcy.co.uk</td>\n",
              "    </tr>\n",
              "    <tr>\n",
              "      <th>206</th>\n",
              "      <td>Ashanti</td>\n",
              "      <td>Donn</td>\n",
              "      <td>Denticator</td>\n",
              "      <td>3409 Benns Gardens</td>\n",
              "      <td>Hollington Ward</td>\n",
              "      <td>East Sussex</td>\n",
              "      <td>TN38 9NE</td>\n",
              "      <td>01352-599278</td>\n",
              "      <td>01721-697548</td>\n",
              "      <td>adonn@yahoo.com</td>\n",
              "      <td>http://www.denticator.co.uk</td>\n",
              "    </tr>\n",
              "    <tr>\n",
              "      <th>495</th>\n",
              "      <td>Avery</td>\n",
              "      <td>Veit</td>\n",
              "      <td>Plaza Gourmet Delicatessen</td>\n",
              "      <td>9166 Devon St #905</td>\n",
              "      <td>Knightsbridge and Belgravia Wa</td>\n",
              "      <td>Greater London</td>\n",
              "      <td>SW1W 8JY</td>\n",
              "      <td>01748-625058</td>\n",
              "      <td>01369-185737</td>\n",
              "      <td>avery@veit.co.uk</td>\n",
              "      <td>http://www.plazagourmetdelicatessen.co.uk</td>\n",
              "    </tr>\n",
              "    <tr>\n",
              "      <th>189</th>\n",
              "      <td>Zita</td>\n",
              "      <td>Speltz</td>\n",
              "      <td>Mmm Design Group</td>\n",
              "      <td>2395 Gloucester Pl</td>\n",
              "      <td>Halliwell Ward</td>\n",
              "      <td>Greater Manchester</td>\n",
              "      <td>BL1 6DS</td>\n",
              "      <td>01368-497445</td>\n",
              "      <td>01215-755682</td>\n",
              "      <td>zita_speltz@yahoo.com</td>\n",
              "      <td>http://www.mmmdesigngroup.co.uk</td>\n",
              "    </tr>\n",
              "    <tr>\n",
              "      <th>486</th>\n",
              "      <td>Sophia</td>\n",
              "      <td>Gaucher</td>\n",
              "      <td>T C E Systems Inc</td>\n",
              "      <td>88 Upper Harrington St</td>\n",
              "      <td>North East Ward</td>\n",
              "      <td>North Lanarkshire</td>\n",
              "      <td>G69 8EL</td>\n",
              "      <td>01504-539114</td>\n",
              "      <td>01254-919378</td>\n",
              "      <td>sophia.gaucher@hotmail.com</td>\n",
              "      <td>http://www.tcesystemsinc.co.uk</td>\n",
              "    </tr>\n",
              "    <tr>\n",
              "      <th>...</th>\n",
              "      <td>...</td>\n",
              "      <td>...</td>\n",
              "      <td>...</td>\n",
              "      <td>...</td>\n",
              "      <td>...</td>\n",
              "      <td>...</td>\n",
              "      <td>...</td>\n",
              "      <td>...</td>\n",
              "      <td>...</td>\n",
              "      <td>...</td>\n",
              "      <td>...</td>\n",
              "    </tr>\n",
              "    <tr>\n",
              "      <th>264</th>\n",
              "      <td>Lilli</td>\n",
              "      <td>Cureau</td>\n",
              "      <td>A 1 Plumbers Supply</td>\n",
              "      <td>42 Hey Green Rd</td>\n",
              "      <td>Deepdale Ward</td>\n",
              "      <td>Lancashire</td>\n",
              "      <td>PR1 6TL</td>\n",
              "      <td>01752-399931</td>\n",
              "      <td>01363-139614</td>\n",
              "      <td>lilli@yahoo.com</td>\n",
              "      <td>http://www.aplumberssupply.co.uk</td>\n",
              "    </tr>\n",
              "    <tr>\n",
              "      <th>474</th>\n",
              "      <td>Erasmo</td>\n",
              "      <td>Rhea</td>\n",
              "      <td>Martin Morrissey</td>\n",
              "      <td>5544 Sutherland St</td>\n",
              "      <td>Mortehoe</td>\n",
              "      <td>Devon</td>\n",
              "      <td>EX34 7DQ</td>\n",
              "      <td>01507-386397</td>\n",
              "      <td>01899-316385</td>\n",
              "      <td>erasmo_rhea@hotmail.com</td>\n",
              "      <td>http://www.martinmorrissey.co.uk</td>\n",
              "    </tr>\n",
              "    <tr>\n",
              "      <th>44</th>\n",
              "      <td>Kip</td>\n",
              "      <td>Turziano</td>\n",
              "      <td>General Appraisal Co</td>\n",
              "      <td>37 Meadow St</td>\n",
              "      <td>Laindon Park Ward</td>\n",
              "      <td>Essex</td>\n",
              "      <td>SS15 6LE</td>\n",
              "      <td>01850-347846</td>\n",
              "      <td>01222-164469</td>\n",
              "      <td>kip.turziano@yahoo.com</td>\n",
              "      <td>http://www.generalappraisalco.co.uk</td>\n",
              "    </tr>\n",
              "    <tr>\n",
              "      <th>126</th>\n",
              "      <td>Beth</td>\n",
              "      <td>Barbone</td>\n",
              "      <td>Upper Deck Co</td>\n",
              "      <td>3 Gaskell St</td>\n",
              "      <td>Tynemouth Ward</td>\n",
              "      <td>Tyne and Wear</td>\n",
              "      <td>NE30 2NB</td>\n",
              "      <td>01210-926114</td>\n",
              "      <td>01521-151330</td>\n",
              "      <td>bbarbone@barbone.co.uk</td>\n",
              "      <td>http://www.upperdeckco.co.uk</td>\n",
              "    </tr>\n",
              "    <tr>\n",
              "      <th>165</th>\n",
              "      <td>Marshall</td>\n",
              "      <td>Kozikowski</td>\n",
              "      <td>Viking Lodge</td>\n",
              "      <td>47 Elwy St</td>\n",
              "      <td>Kilpatrick Ward</td>\n",
              "      <td>West Dunbart</td>\n",
              "      <td>G81 6RT</td>\n",
              "      <td>01913-454226</td>\n",
              "      <td>01738-622885</td>\n",
              "      <td>marshall@hotmail.com</td>\n",
              "      <td>http://www.vikinglodge.co.uk</td>\n",
              "    </tr>\n",
              "  </tbody>\n",
              "</table>\n",
              "<p>125 rows × 11 columns</p>\n",
              "</div>"
            ],
            "text/plain": [
              "    first_name  ...                                         web\n",
              "355    Margery  ...  http://www.cgmcculloughinsuranceagcy.co.uk\n",
              "206    Ashanti  ...                 http://www.denticator.co.uk\n",
              "495      Avery  ...   http://www.plazagourmetdelicatessen.co.uk\n",
              "189       Zita  ...             http://www.mmmdesigngroup.co.uk\n",
              "486     Sophia  ...              http://www.tcesystemsinc.co.uk\n",
              "..         ...  ...                                         ...\n",
              "264      Lilli  ...            http://www.aplumberssupply.co.uk\n",
              "474     Erasmo  ...            http://www.martinmorrissey.co.uk\n",
              "44         Kip  ...         http://www.generalappraisalco.co.uk\n",
              "126       Beth  ...                http://www.upperdeckco.co.uk\n",
              "165   Marshall  ...                http://www.vikinglodge.co.uk\n",
              "\n",
              "[125 rows x 11 columns]"
            ]
          },
          "metadata": {},
          "execution_count": 6
        }
      ]
    },
    {
      "cell_type": "code",
      "metadata": {
        "id": "4brduZrffiq1",
        "colab": {
          "base_uri": "https://localhost:8080/"
        },
        "outputId": "31772da3-f7ef-46a5-9fd3-43b73497ec15"
      },
      "source": [
        "d1.shape"
      ],
      "execution_count": 7,
      "outputs": [
        {
          "output_type": "execute_result",
          "data": {
            "text/plain": [
              "(500, 11)"
            ]
          },
          "metadata": {},
          "execution_count": 7
        }
      ]
    },
    {
      "cell_type": "markdown",
      "metadata": {
        "id": "vRXB68LkvHYC"
      },
      "source": [
        "Note: n and frac cannot be used together"
      ]
    },
    {
      "cell_type": "code",
      "metadata": {
        "id": "l9hObiyGfxEX",
        "colab": {
          "base_uri": "https://localhost:8080/",
          "height": 1000
        },
        "outputId": "351b22db-2f86-44c7-c0be-b0f9e610c846"
      },
      "source": [
        "d1.sample(frac=0.10, replace=True, random_state=5) "
      ],
      "execution_count": 8,
      "outputs": [
        {
          "output_type": "execute_result",
          "data": {
            "text/html": [
              "<div>\n",
              "<style scoped>\n",
              "    .dataframe tbody tr th:only-of-type {\n",
              "        vertical-align: middle;\n",
              "    }\n",
              "\n",
              "    .dataframe tbody tr th {\n",
              "        vertical-align: top;\n",
              "    }\n",
              "\n",
              "    .dataframe thead th {\n",
              "        text-align: right;\n",
              "    }\n",
              "</style>\n",
              "<table border=\"1\" class=\"dataframe\">\n",
              "  <thead>\n",
              "    <tr style=\"text-align: right;\">\n",
              "      <th></th>\n",
              "      <th>first_name</th>\n",
              "      <th>last_name</th>\n",
              "      <th>company_name</th>\n",
              "      <th>address</th>\n",
              "      <th>city</th>\n",
              "      <th>county</th>\n",
              "      <th>postal</th>\n",
              "      <th>phone1</th>\n",
              "      <th>phone2</th>\n",
              "      <th>email</th>\n",
              "      <th>web</th>\n",
              "    </tr>\n",
              "  </thead>\n",
              "  <tbody>\n",
              "    <tr>\n",
              "      <th>355</th>\n",
              "      <td>Margery</td>\n",
              "      <td>Rohrs</td>\n",
              "      <td>C G Mccullough Insurance Agcy</td>\n",
              "      <td>40 Peters Lane</td>\n",
              "      <td>Long Preston</td>\n",
              "      <td>North Yorkshire</td>\n",
              "      <td>BD23 4NF</td>\n",
              "      <td>01634-340524</td>\n",
              "      <td>01933-273913</td>\n",
              "      <td>margery@hotmail.com</td>\n",
              "      <td>http://www.cgmcculloughinsuranceagcy.co.uk</td>\n",
              "    </tr>\n",
              "    <tr>\n",
              "      <th>206</th>\n",
              "      <td>Ashanti</td>\n",
              "      <td>Donn</td>\n",
              "      <td>Denticator</td>\n",
              "      <td>3409 Benns Gardens</td>\n",
              "      <td>Hollington Ward</td>\n",
              "      <td>East Sussex</td>\n",
              "      <td>TN38 9NE</td>\n",
              "      <td>01352-599278</td>\n",
              "      <td>01721-697548</td>\n",
              "      <td>adonn@yahoo.com</td>\n",
              "      <td>http://www.denticator.co.uk</td>\n",
              "    </tr>\n",
              "    <tr>\n",
              "      <th>495</th>\n",
              "      <td>Avery</td>\n",
              "      <td>Veit</td>\n",
              "      <td>Plaza Gourmet Delicatessen</td>\n",
              "      <td>9166 Devon St #905</td>\n",
              "      <td>Knightsbridge and Belgravia Wa</td>\n",
              "      <td>Greater London</td>\n",
              "      <td>SW1W 8JY</td>\n",
              "      <td>01748-625058</td>\n",
              "      <td>01369-185737</td>\n",
              "      <td>avery@veit.co.uk</td>\n",
              "      <td>http://www.plazagourmetdelicatessen.co.uk</td>\n",
              "    </tr>\n",
              "    <tr>\n",
              "      <th>189</th>\n",
              "      <td>Zita</td>\n",
              "      <td>Speltz</td>\n",
              "      <td>Mmm Design Group</td>\n",
              "      <td>2395 Gloucester Pl</td>\n",
              "      <td>Halliwell Ward</td>\n",
              "      <td>Greater Manchester</td>\n",
              "      <td>BL1 6DS</td>\n",
              "      <td>01368-497445</td>\n",
              "      <td>01215-755682</td>\n",
              "      <td>zita_speltz@yahoo.com</td>\n",
              "      <td>http://www.mmmdesigngroup.co.uk</td>\n",
              "    </tr>\n",
              "    <tr>\n",
              "      <th>486</th>\n",
              "      <td>Sophia</td>\n",
              "      <td>Gaucher</td>\n",
              "      <td>T C E Systems Inc</td>\n",
              "      <td>88 Upper Harrington St</td>\n",
              "      <td>North East Ward</td>\n",
              "      <td>North Lanarkshire</td>\n",
              "      <td>G69 8EL</td>\n",
              "      <td>01504-539114</td>\n",
              "      <td>01254-919378</td>\n",
              "      <td>sophia.gaucher@hotmail.com</td>\n",
              "      <td>http://www.tcesystemsinc.co.uk</td>\n",
              "    </tr>\n",
              "    <tr>\n",
              "      <th>118</th>\n",
              "      <td>Paola</td>\n",
              "      <td>Dease</td>\n",
              "      <td>Sunderland Publishing Co</td>\n",
              "      <td>94 Enid St</td>\n",
              "      <td>Birchington</td>\n",
              "      <td>Kent</td>\n",
              "      <td>CT7 9BG</td>\n",
              "      <td>01333-642646</td>\n",
              "      <td>01419-231768</td>\n",
              "      <td>pdease@gmail.com</td>\n",
              "      <td>http://www.sunderlandpublishingco.co.uk</td>\n",
              "    </tr>\n",
              "    <tr>\n",
              "      <th>400</th>\n",
              "      <td>Leeann</td>\n",
              "      <td>Flory</td>\n",
              "      <td>Fleetwood Area School District</td>\n",
              "      <td>1761 Johnstone St</td>\n",
              "      <td>Church Langley Ward</td>\n",
              "      <td>Essex</td>\n",
              "      <td>CM17 9TZ</td>\n",
              "      <td>01906-807997</td>\n",
              "      <td>01997-771926</td>\n",
              "      <td>leeann@gmail.com</td>\n",
              "      <td>http://www.fleetwoodareaschooldistrict.co.uk</td>\n",
              "    </tr>\n",
              "    <tr>\n",
              "      <th>73</th>\n",
              "      <td>Yun</td>\n",
              "      <td>Paletta</td>\n",
              "      <td>Goe, Douglas E Esq</td>\n",
              "      <td>9205 Upper Hill St</td>\n",
              "      <td>City and Hunslet Ward</td>\n",
              "      <td>West Yorkshire</td>\n",
              "      <td>LS1 5QE</td>\n",
              "      <td>01350-332706</td>\n",
              "      <td>01374-255198</td>\n",
              "      <td>yun_paletta@paletta.co.uk</td>\n",
              "      <td>http://www.goedouglaseesq.co.uk</td>\n",
              "    </tr>\n",
              "    <tr>\n",
              "      <th>8</th>\n",
              "      <td>Lura</td>\n",
              "      <td>Manzella</td>\n",
              "      <td>Bizerba Usa Inc</td>\n",
              "      <td>929 Augustine St</td>\n",
              "      <td>Staple Hill Ward</td>\n",
              "      <td>South Gloucestershire</td>\n",
              "      <td>BS16 4LL</td>\n",
              "      <td>01907-538509</td>\n",
              "      <td>01340-713951</td>\n",
              "      <td>lura@hotmail.com</td>\n",
              "      <td>http://www.bizerbausainc.co.uk</td>\n",
              "    </tr>\n",
              "    <tr>\n",
              "      <th>228</th>\n",
              "      <td>Dominic</td>\n",
              "      <td>Washmuth</td>\n",
              "      <td>Bremer, Duncan S Esq</td>\n",
              "      <td>8977 Old Leeds St #87</td>\n",
              "      <td>Beaminster</td>\n",
              "      <td>Dorset</td>\n",
              "      <td>DT8 3DR</td>\n",
              "      <td>01725-615270</td>\n",
              "      <td>01722-996936</td>\n",
              "      <td>dwashmuth@hotmail.com</td>\n",
              "      <td>http://www.bremerduncansesq.co.uk</td>\n",
              "    </tr>\n",
              "    <tr>\n",
              "      <th>231</th>\n",
              "      <td>Bonita</td>\n",
              "      <td>Sandblom</td>\n",
              "      <td>Transbay Steel Corp</td>\n",
              "      <td>22 Kilshaw St</td>\n",
              "      <td>Wimbledon Park Ward</td>\n",
              "      <td>Greater London</td>\n",
              "      <td>SW19 7DT</td>\n",
              "      <td>01989-617161</td>\n",
              "      <td>01723-502274</td>\n",
              "      <td>bsandblom@gmail.com</td>\n",
              "      <td>http://www.transbaysteelcorp.co.uk</td>\n",
              "    </tr>\n",
              "    <tr>\n",
              "      <th>446</th>\n",
              "      <td>Ona</td>\n",
              "      <td>Bowhall</td>\n",
              "      <td>Cohen And Fromm Pc</td>\n",
              "      <td>527 Harding St</td>\n",
              "      <td>Market Rasen</td>\n",
              "      <td>Lincolnshire</td>\n",
              "      <td>LN8 3AD</td>\n",
              "      <td>01467-554624</td>\n",
              "      <td>01984-207421</td>\n",
              "      <td>ona@yahoo.com</td>\n",
              "      <td>http://www.cohenandfrommpc.co.uk</td>\n",
              "    </tr>\n",
              "    <tr>\n",
              "      <th>411</th>\n",
              "      <td>Larue</td>\n",
              "      <td>Ocacio</td>\n",
              "      <td>Hollett, Byron P Esq</td>\n",
              "      <td>8 Jacob St</td>\n",
              "      <td>Daybrook Ward</td>\n",
              "      <td>Nottinghamshire</td>\n",
              "      <td>NG5 6JB</td>\n",
              "      <td>01577-443040</td>\n",
              "      <td>01654-933782</td>\n",
              "      <td>larue@yahoo.com</td>\n",
              "      <td>http://www.hollettbyronpesq.co.uk</td>\n",
              "    </tr>\n",
              "    <tr>\n",
              "      <th>112</th>\n",
              "      <td>Lashawn</td>\n",
              "      <td>Ker</td>\n",
              "      <td>Thornsjo, Dale O Esq</td>\n",
              "      <td>13 Nelson Rd</td>\n",
              "      <td>Filwood Ward</td>\n",
              "      <td>Bristol</td>\n",
              "      <td>BS4 1HT</td>\n",
              "      <td>01676-780022</td>\n",
              "      <td>01470-187069</td>\n",
              "      <td>lashawn.ker@gmail.com</td>\n",
              "      <td>http://www.thornsjodaleoesq.co.uk</td>\n",
              "    </tr>\n",
              "    <tr>\n",
              "      <th>158</th>\n",
              "      <td>Whitney</td>\n",
              "      <td>Goossen</td>\n",
              "      <td>Eagle Newspapers</td>\n",
              "      <td>7568 Atlas St</td>\n",
              "      <td>Butterwick</td>\n",
              "      <td>Lincolnshire</td>\n",
              "      <td>PE22 0HY</td>\n",
              "      <td>01255-383731</td>\n",
              "      <td>01392-955534</td>\n",
              "      <td>whitney.goossen@hotmail.com</td>\n",
              "      <td>http://www.eaglenewspapers.co.uk</td>\n",
              "    </tr>\n",
              "    <tr>\n",
              "      <th>208</th>\n",
              "      <td>Santos</td>\n",
              "      <td>Signore</td>\n",
              "      <td>Gallagher, John J Esq</td>\n",
              "      <td>4706 Chapel Place #5993</td>\n",
              "      <td>Steyning</td>\n",
              "      <td>West Sussex</td>\n",
              "      <td>BN44 3DF</td>\n",
              "      <td>01614-431131</td>\n",
              "      <td>01670-346228</td>\n",
              "      <td>santos@gmail.com</td>\n",
              "      <td>http://www.gallagherjohnjesq.co.uk</td>\n",
              "    </tr>\n",
              "    <tr>\n",
              "      <th>7</th>\n",
              "      <td>Laquita</td>\n",
              "      <td>Hisaw</td>\n",
              "      <td>In Communications Inc</td>\n",
              "      <td>20 Gloucester Pl #96</td>\n",
              "      <td>Chirton Ward</td>\n",
              "      <td>Tyne &amp; Wear</td>\n",
              "      <td>NE29 7AD</td>\n",
              "      <td>01746-394243</td>\n",
              "      <td>01590-982428</td>\n",
              "      <td>laquita@yahoo.com</td>\n",
              "      <td>http://www.incommunicationsinc.co.uk</td>\n",
              "    </tr>\n",
              "    <tr>\n",
              "      <th>204</th>\n",
              "      <td>Katie</td>\n",
              "      <td>Choinski</td>\n",
              "      <td>Coastal Technologies</td>\n",
              "      <td>1267 Alderson Rd</td>\n",
              "      <td>Churchdown</td>\n",
              "      <td>Gloucestershire</td>\n",
              "      <td>GL3 2BA</td>\n",
              "      <td>01606-772920</td>\n",
              "      <td>01762-227896</td>\n",
              "      <td>katie@choinski.co.uk</td>\n",
              "      <td>http://www.coastaltechnologies.co.uk</td>\n",
              "    </tr>\n",
              "    <tr>\n",
              "      <th>399</th>\n",
              "      <td>Brynn</td>\n",
              "      <td>Capra</td>\n",
              "      <td>Magic Valley Irrigation Supply</td>\n",
              "      <td>488 Mulberry St</td>\n",
              "      <td>Ravenshead</td>\n",
              "      <td>Nottinghamshire</td>\n",
              "      <td>NG15 9AE</td>\n",
              "      <td>01963-124789</td>\n",
              "      <td>01702-314016</td>\n",
              "      <td>brynn_capra@yahoo.com</td>\n",
              "      <td>http://www.magicvalleyirrigationsupply.co.uk</td>\n",
              "    </tr>\n",
              "    <tr>\n",
              "      <th>113</th>\n",
              "      <td>Wade</td>\n",
              "      <td>Sovel</td>\n",
              "      <td>Manhattan Supply Co Deer Pk</td>\n",
              "      <td>2546 Hunter St</td>\n",
              "      <td>Central Buchan Ward</td>\n",
              "      <td>Aberdeenshire</td>\n",
              "      <td>AB53 6YD</td>\n",
              "      <td>01712-978062</td>\n",
              "      <td>01317-960371</td>\n",
              "      <td>wade@hotmail.com</td>\n",
              "      <td>http://www.manhattansupplycodeerpk.co.uk</td>\n",
              "    </tr>\n",
              "    <tr>\n",
              "      <th>437</th>\n",
              "      <td>Carline</td>\n",
              "      <td>Bulcao</td>\n",
              "      <td>Brenner, Steven G Esq</td>\n",
              "      <td>7 Hey Green Rd #4</td>\n",
              "      <td>Rothwell Ward</td>\n",
              "      <td>West Yorkshire</td>\n",
              "      <td>LS26 8XE</td>\n",
              "      <td>01885-707109</td>\n",
              "      <td>01381-330004</td>\n",
              "      <td>carline@yahoo.com</td>\n",
              "      <td>http://www.brennerstevengesq.co.uk</td>\n",
              "    </tr>\n",
              "    <tr>\n",
              "      <th>487</th>\n",
              "      <td>Isabelle</td>\n",
              "      <td>Kono</td>\n",
              "      <td>Rock Springs Petroleum Equip</td>\n",
              "      <td>4920 Fazakerley Rd</td>\n",
              "      <td>Plymstock Dunstone Ward</td>\n",
              "      <td>Devon</td>\n",
              "      <td>PL9 8RD</td>\n",
              "      <td>01552-682601</td>\n",
              "      <td>01953-816728</td>\n",
              "      <td>isabelle.kono@yahoo.com</td>\n",
              "      <td>http://www.rockspringspetroleumequip.co.uk</td>\n",
              "    </tr>\n",
              "    <tr>\n",
              "      <th>80</th>\n",
              "      <td>Velda</td>\n",
              "      <td>Mancilla</td>\n",
              "      <td>Tremont, Michael A Esq</td>\n",
              "      <td>7866 Renshaw St #283</td>\n",
              "      <td>Falmouth</td>\n",
              "      <td>Cornwall</td>\n",
              "      <td>TR11 4QQ</td>\n",
              "      <td>01823-526645</td>\n",
              "      <td>01368-456268</td>\n",
              "      <td>velda_mancilla@mancilla.co.uk</td>\n",
              "      <td>http://www.tremontmichaelaesq.co.uk</td>\n",
              "    </tr>\n",
              "    <tr>\n",
              "      <th>27</th>\n",
              "      <td>Pok</td>\n",
              "      <td>Molaison</td>\n",
              "      <td>Portal Metal Products</td>\n",
              "      <td>211 Hobart St</td>\n",
              "      <td>Newquay</td>\n",
              "      <td>Cornwall</td>\n",
              "      <td>TR7 1LS</td>\n",
              "      <td>01866-248660</td>\n",
              "      <td>01315-284286</td>\n",
              "      <td>pok@yahoo.com</td>\n",
              "      <td>http://www.portalmetalproducts.co.uk</td>\n",
              "    </tr>\n",
              "    <tr>\n",
              "      <th>44</th>\n",
              "      <td>Kip</td>\n",
              "      <td>Turziano</td>\n",
              "      <td>General Appraisal Co</td>\n",
              "      <td>37 Meadow St</td>\n",
              "      <td>Laindon Park Ward</td>\n",
              "      <td>Essex</td>\n",
              "      <td>SS15 6LE</td>\n",
              "      <td>01850-347846</td>\n",
              "      <td>01222-164469</td>\n",
              "      <td>kip.turziano@yahoo.com</td>\n",
              "      <td>http://www.generalappraisalco.co.uk</td>\n",
              "    </tr>\n",
              "    <tr>\n",
              "      <th>205</th>\n",
              "      <td>Dannie</td>\n",
              "      <td>Brau</td>\n",
              "      <td>Goodfellow Agency</td>\n",
              "      <td>2 Gay St #3702</td>\n",
              "      <td>Werrington South Ward</td>\n",
              "      <td>Cambridgeshire</td>\n",
              "      <td>PE7 2QA</td>\n",
              "      <td>01675-779811</td>\n",
              "      <td>01380-595884</td>\n",
              "      <td>dbrau@brau.co.uk</td>\n",
              "      <td>http://www.goodfellowagency.co.uk</td>\n",
              "    </tr>\n",
              "    <tr>\n",
              "      <th>203</th>\n",
              "      <td>Coleen</td>\n",
              "      <td>Langer</td>\n",
              "      <td>Valley Prodn Ctr For Vid &amp; Aud</td>\n",
              "      <td>745 Goodall St #9309</td>\n",
              "      <td>Much Wenlock</td>\n",
              "      <td>Shropshire</td>\n",
              "      <td>TF13 6HB</td>\n",
              "      <td>01956-525612</td>\n",
              "      <td>01746-728526</td>\n",
              "      <td>coleen.langer@hotmail.com</td>\n",
              "      <td>http://www.valleyprodnctrforvidaud.co.uk</td>\n",
              "    </tr>\n",
              "    <tr>\n",
              "      <th>65</th>\n",
              "      <td>Lindsay</td>\n",
              "      <td>Yadao</td>\n",
              "      <td>Lutz, Christopher T Esq</td>\n",
              "      <td>7 Jolliffe St</td>\n",
              "      <td>Middlewich</td>\n",
              "      <td>Cheshire</td>\n",
              "      <td>CW10 9GB</td>\n",
              "      <td>01947-566661</td>\n",
              "      <td>01481-295251</td>\n",
              "      <td>lindsay_yadao@yadao.co.uk</td>\n",
              "      <td>http://www.lutzchristophertesq.co.uk</td>\n",
              "    </tr>\n",
              "    <tr>\n",
              "      <th>431</th>\n",
              "      <td>Talia</td>\n",
              "      <td>Marthe</td>\n",
              "      <td>Kenney Mfg Co</td>\n",
              "      <td>5 Minerva St</td>\n",
              "      <td>Westbury</td>\n",
              "      <td>Wiltshire</td>\n",
              "      <td>BA13 3QR</td>\n",
              "      <td>01711-170147</td>\n",
              "      <td>01607-480159</td>\n",
              "      <td>talia.marthe@gmail.com</td>\n",
              "      <td>http://www.kenneymfgco.co.uk</td>\n",
              "    </tr>\n",
              "    <tr>\n",
              "      <th>30</th>\n",
              "      <td>Reed</td>\n",
              "      <td>Weisinger</td>\n",
              "      <td>Berick, Joseph G Esq</td>\n",
              "      <td>5147 Blackstone St</td>\n",
              "      <td>Letchworth South West Ward</td>\n",
              "      <td>Hertfordshire</td>\n",
              "      <td>SG6 3LE</td>\n",
              "      <td>01243-678286</td>\n",
              "      <td>01292-297245</td>\n",
              "      <td>reed_weisinger@yahoo.com</td>\n",
              "      <td>http://www.berickjosephgesq.co.uk</td>\n",
              "    </tr>\n",
              "    <tr>\n",
              "      <th>468</th>\n",
              "      <td>Walton</td>\n",
              "      <td>Yuki</td>\n",
              "      <td>Best Wstrn Host Mtr Htl Palm</td>\n",
              "      <td>9 Waltham Rd</td>\n",
              "      <td>Yealmpton</td>\n",
              "      <td>Devon</td>\n",
              "      <td>PL8 2NS</td>\n",
              "      <td>01872-808403</td>\n",
              "      <td>01885-290666</td>\n",
              "      <td>wyuki@gmail.com</td>\n",
              "      <td>http://www.bestwstrnhostmtrhtlpalm.co.uk</td>\n",
              "    </tr>\n",
              "    <tr>\n",
              "      <th>86</th>\n",
              "      <td>Mammie</td>\n",
              "      <td>Dormanen</td>\n",
              "      <td>Matt Parrott &amp; Sons Co</td>\n",
              "      <td>2577 Toxteth St #5</td>\n",
              "      <td>Overton Ward</td>\n",
              "      <td>Lancashire</td>\n",
              "      <td>BB6 7UN</td>\n",
              "      <td>01527-579687</td>\n",
              "      <td>01439-184366</td>\n",
              "      <td>mammie_dormanen@hotmail.com</td>\n",
              "      <td>http://www.mattparrottsonsco.co.uk</td>\n",
              "    </tr>\n",
              "    <tr>\n",
              "      <th>125</th>\n",
              "      <td>Maira</td>\n",
              "      <td>Karas</td>\n",
              "      <td>Blanton, Mary R Attorney</td>\n",
              "      <td>9 Cropper St</td>\n",
              "      <td>Northgate Ward</td>\n",
              "      <td>West Sussex</td>\n",
              "      <td>RH10 1YJ</td>\n",
              "      <td>01582-839217</td>\n",
              "      <td>01927-384903</td>\n",
              "      <td>maira.karas@yahoo.com</td>\n",
              "      <td>http://www.blantonmaryrattorney.co.uk</td>\n",
              "    </tr>\n",
              "    <tr>\n",
              "      <th>146</th>\n",
              "      <td>Luke</td>\n",
              "      <td>Crete</td>\n",
              "      <td>M D &amp; W Railway</td>\n",
              "      <td>4 Peach St #5112</td>\n",
              "      <td>Halstead</td>\n",
              "      <td>Kent</td>\n",
              "      <td>TN14 7EF</td>\n",
              "      <td>01375-820236</td>\n",
              "      <td>01268-175772</td>\n",
              "      <td>luke.crete@crete.co.uk</td>\n",
              "      <td>http://www.mdwrailway.co.uk</td>\n",
              "    </tr>\n",
              "    <tr>\n",
              "      <th>254</th>\n",
              "      <td>Rex</td>\n",
              "      <td>Faehnle</td>\n",
              "      <td>Hering, Glenn Z Esq</td>\n",
              "      <td>371 Oakleigh</td>\n",
              "      <td>Warminster</td>\n",
              "      <td>Wiltshire</td>\n",
              "      <td>BA12 8NR</td>\n",
              "      <td>01955-496773</td>\n",
              "      <td>01529-779988</td>\n",
              "      <td>rfaehnle@faehnle.co.uk</td>\n",
              "      <td>http://www.heringglennzesq.co.uk</td>\n",
              "    </tr>\n",
              "    <tr>\n",
              "      <th>377</th>\n",
              "      <td>Theron</td>\n",
              "      <td>Merriam</td>\n",
              "      <td>Percival, Mark R Esq</td>\n",
              "      <td>869 Luke St</td>\n",
              "      <td>Wonersh</td>\n",
              "      <td>Surrey</td>\n",
              "      <td>GU5 0QU</td>\n",
              "      <td>01655-809574</td>\n",
              "      <td>01859-311417</td>\n",
              "      <td>theron@merriam.co.uk</td>\n",
              "      <td>http://www.percivalmarkresq.co.uk</td>\n",
              "    </tr>\n",
              "    <tr>\n",
              "      <th>137</th>\n",
              "      <td>Rosalind</td>\n",
              "      <td>Stamps</td>\n",
              "      <td>Haar, Allen F</td>\n",
              "      <td>8 Chestnut St</td>\n",
              "      <td>Barrowford</td>\n",
              "      <td>Lancashire</td>\n",
              "      <td>BB9 6EW</td>\n",
              "      <td>01918-999052</td>\n",
              "      <td>01736-843257</td>\n",
              "      <td>rosalind.stamps@stamps.co.uk</td>\n",
              "      <td>http://www.haarallenf.co.uk</td>\n",
              "    </tr>\n",
              "    <tr>\n",
              "      <th>362</th>\n",
              "      <td>Stefania</td>\n",
              "      <td>Weatherwax</td>\n",
              "      <td>Robert Vance Ltd</td>\n",
              "      <td>25 Dale St #2</td>\n",
              "      <td>Kirkintilloch East and Twechar</td>\n",
              "      <td>East Dunbartonshire</td>\n",
              "      <td>G66 3LX</td>\n",
              "      <td>01698-705920</td>\n",
              "      <td>01879-295373</td>\n",
              "      <td>sweatherwax@yahoo.com</td>\n",
              "      <td>http://www.robertvanceltd.co.uk</td>\n",
              "    </tr>\n",
              "    <tr>\n",
              "      <th>41</th>\n",
              "      <td>Marylin</td>\n",
              "      <td>Cornelison</td>\n",
              "      <td>Ernest E Heuer &amp; Company Pc</td>\n",
              "      <td>39 Wye St</td>\n",
              "      <td>Wakefield North Ward</td>\n",
              "      <td>West Yorkshire</td>\n",
              "      <td>WF1 1DR</td>\n",
              "      <td>01609-882184</td>\n",
              "      <td>01295-331807</td>\n",
              "      <td>marylin_cornelison@yahoo.com</td>\n",
              "      <td>http://www.ernesteheuercompanypc.co.uk</td>\n",
              "    </tr>\n",
              "    <tr>\n",
              "      <th>489</th>\n",
              "      <td>Krystina</td>\n",
              "      <td>Schlabaugh</td>\n",
              "      <td>Harris Oldsmobile Inc</td>\n",
              "      <td>7316 Friar St</td>\n",
              "      <td>Salvington Ward</td>\n",
              "      <td>West Sussex</td>\n",
              "      <td>BN13 3FL</td>\n",
              "      <td>01441-846477</td>\n",
              "      <td>01332-799979</td>\n",
              "      <td>kschlabaugh@schlabaugh.co.uk</td>\n",
              "      <td>http://www.harrisoldsmobileinc.co.uk</td>\n",
              "    </tr>\n",
              "    <tr>\n",
              "      <th>446</th>\n",
              "      <td>Ona</td>\n",
              "      <td>Bowhall</td>\n",
              "      <td>Cohen And Fromm Pc</td>\n",
              "      <td>527 Harding St</td>\n",
              "      <td>Market Rasen</td>\n",
              "      <td>Lincolnshire</td>\n",
              "      <td>LN8 3AD</td>\n",
              "      <td>01467-554624</td>\n",
              "      <td>01984-207421</td>\n",
              "      <td>ona@yahoo.com</td>\n",
              "      <td>http://www.cohenandfrommpc.co.uk</td>\n",
              "    </tr>\n",
              "    <tr>\n",
              "      <th>385</th>\n",
              "      <td>Franchesca</td>\n",
              "      <td>Charry</td>\n",
              "      <td>Cappello, A Barry Esq</td>\n",
              "      <td>59 Westminster Rd</td>\n",
              "      <td>Empress Ward</td>\n",
              "      <td>Hampshire</td>\n",
              "      <td>GU14 8AY</td>\n",
              "      <td>01748-827176</td>\n",
              "      <td>01707-624969</td>\n",
              "      <td>franchesca@gmail.com</td>\n",
              "      <td>http://www.cappelloabarryesq.co.uk</td>\n",
              "    </tr>\n",
              "    <tr>\n",
              "      <th>210</th>\n",
              "      <td>Pearly</td>\n",
              "      <td>Ero</td>\n",
              "      <td>Rug Gallery</td>\n",
              "      <td>9960 Gilroy Rd</td>\n",
              "      <td>Woodhouse Ward</td>\n",
              "      <td>Greater London</td>\n",
              "      <td>N12 9JT</td>\n",
              "      <td>01329-374051</td>\n",
              "      <td>01408-866700</td>\n",
              "      <td>pero@hotmail.com</td>\n",
              "      <td>http://www.ruggallery.co.uk</td>\n",
              "    </tr>\n",
              "    <tr>\n",
              "      <th>103</th>\n",
              "      <td>Elinore</td>\n",
              "      <td>Fulda</td>\n",
              "      <td>Agri Business Insurance Agency</td>\n",
              "      <td>123 Sussex St</td>\n",
              "      <td>Astley Bridge Ward</td>\n",
              "      <td>Greater Manchester</td>\n",
              "      <td>BL1 6PY</td>\n",
              "      <td>01457-837447</td>\n",
              "      <td>01403-864306</td>\n",
              "      <td>elinore.fulda@fulda.co.uk</td>\n",
              "      <td>http://www.agribusinessinsuranceagency.co.uk</td>\n",
              "    </tr>\n",
              "    <tr>\n",
              "      <th>144</th>\n",
              "      <td>Marisha</td>\n",
              "      <td>Wilcoxon</td>\n",
              "      <td>Young Door Company</td>\n",
              "      <td>52 Trowbridge St</td>\n",
              "      <td>Knightsbridge and Belgravia Wa</td>\n",
              "      <td>Greater London</td>\n",
              "      <td>SW1X 9HB</td>\n",
              "      <td>01257-461104</td>\n",
              "      <td>01422-891030</td>\n",
              "      <td>marisha.wilcoxon@gmail.com</td>\n",
              "      <td>http://www.youngdoorcompany.co.uk</td>\n",
              "    </tr>\n",
              "    <tr>\n",
              "      <th>462</th>\n",
              "      <td>Sherron</td>\n",
              "      <td>Knodel</td>\n",
              "      <td>Fhk Corp</td>\n",
              "      <td>159 Carlton St</td>\n",
              "      <td>Windle Ward</td>\n",
              "      <td>Merseyside</td>\n",
              "      <td>WA10 6QG</td>\n",
              "      <td>01481-744296</td>\n",
              "      <td>01222-556548</td>\n",
              "      <td>sherron@knodel.co.uk</td>\n",
              "      <td>http://www.fhkcorp.co.uk</td>\n",
              "    </tr>\n",
              "    <tr>\n",
              "      <th>5</th>\n",
              "      <td>Eric</td>\n",
              "      <td>Rampy</td>\n",
              "      <td>Thompson, Michael C Esq</td>\n",
              "      <td>9472 Lind St</td>\n",
              "      <td>Desborough</td>\n",
              "      <td>Northamptonshire</td>\n",
              "      <td>NN14 2GH</td>\n",
              "      <td>01969-886290</td>\n",
              "      <td>01545-817375</td>\n",
              "      <td>erampy@rampy.co.uk</td>\n",
              "      <td>http://www.thompsonmichaelcesq.co.uk</td>\n",
              "    </tr>\n",
              "    <tr>\n",
              "      <th>314</th>\n",
              "      <td>Kina</td>\n",
              "      <td>Saltman</td>\n",
              "      <td>Mitchell Silliman Co Inc</td>\n",
              "      <td>29 Oregon St</td>\n",
              "      <td>Ruddington</td>\n",
              "      <td>Nottinghamshire</td>\n",
              "      <td>NG11 6JT</td>\n",
              "      <td>01515-506025</td>\n",
              "      <td>01788-849591</td>\n",
              "      <td>kina_saltman@gmail.com</td>\n",
              "      <td>http://www.mitchellsillimancoinc.co.uk</td>\n",
              "    </tr>\n",
              "    <tr>\n",
              "      <th>256</th>\n",
              "      <td>Queen</td>\n",
              "      <td>Leader</td>\n",
              "      <td>Ottumwa Glass Co</td>\n",
              "      <td>6 Princes St</td>\n",
              "      <td>East Kilbride West Ward</td>\n",
              "      <td>South Lanarkshire</td>\n",
              "      <td>G75 8YR</td>\n",
              "      <td>01567-846944</td>\n",
              "      <td>01445-288807</td>\n",
              "      <td>queen_leader@gmail.com</td>\n",
              "      <td>http://www.ottumwaglassco.co.uk</td>\n",
              "    </tr>\n",
              "    <tr>\n",
              "      <th>464</th>\n",
              "      <td>Altha</td>\n",
              "      <td>Tischner</td>\n",
              "      <td>Male Power Ltd</td>\n",
              "      <td>650 Goring St</td>\n",
              "      <td>Rainham South Ward</td>\n",
              "      <td>Kent</td>\n",
              "      <td>ME8 9PN</td>\n",
              "      <td>01373-594236</td>\n",
              "      <td>01698-785700</td>\n",
              "      <td>altha@hotmail.com</td>\n",
              "      <td>http://www.malepowerltd.co.uk</td>\n",
              "    </tr>\n",
              "  </tbody>\n",
              "</table>\n",
              "</div>"
            ],
            "text/plain": [
              "     first_name  ...                                           web\n",
              "355     Margery  ...    http://www.cgmcculloughinsuranceagcy.co.uk\n",
              "206     Ashanti  ...                   http://www.denticator.co.uk\n",
              "495       Avery  ...     http://www.plazagourmetdelicatessen.co.uk\n",
              "189        Zita  ...               http://www.mmmdesigngroup.co.uk\n",
              "486      Sophia  ...                http://www.tcesystemsinc.co.uk\n",
              "118       Paola  ...       http://www.sunderlandpublishingco.co.uk\n",
              "400      Leeann  ...  http://www.fleetwoodareaschooldistrict.co.uk\n",
              "73          Yun  ...               http://www.goedouglaseesq.co.uk\n",
              "8          Lura  ...                http://www.bizerbausainc.co.uk\n",
              "228     Dominic  ...             http://www.bremerduncansesq.co.uk\n",
              "231      Bonita  ...            http://www.transbaysteelcorp.co.uk\n",
              "446         Ona  ...              http://www.cohenandfrommpc.co.uk\n",
              "411       Larue  ...             http://www.hollettbyronpesq.co.uk\n",
              "112     Lashawn  ...             http://www.thornsjodaleoesq.co.uk\n",
              "158     Whitney  ...              http://www.eaglenewspapers.co.uk\n",
              "208      Santos  ...            http://www.gallagherjohnjesq.co.uk\n",
              "7       Laquita  ...          http://www.incommunicationsinc.co.uk\n",
              "204       Katie  ...          http://www.coastaltechnologies.co.uk\n",
              "399       Brynn  ...  http://www.magicvalleyirrigationsupply.co.uk\n",
              "113        Wade  ...      http://www.manhattansupplycodeerpk.co.uk\n",
              "437     Carline  ...            http://www.brennerstevengesq.co.uk\n",
              "487    Isabelle  ...    http://www.rockspringspetroleumequip.co.uk\n",
              "80        Velda  ...           http://www.tremontmichaelaesq.co.uk\n",
              "27          Pok  ...          http://www.portalmetalproducts.co.uk\n",
              "44          Kip  ...           http://www.generalappraisalco.co.uk\n",
              "205      Dannie  ...             http://www.goodfellowagency.co.uk\n",
              "203      Coleen  ...      http://www.valleyprodnctrforvidaud.co.uk\n",
              "65      Lindsay  ...          http://www.lutzchristophertesq.co.uk\n",
              "431       Talia  ...                  http://www.kenneymfgco.co.uk\n",
              "30         Reed  ...             http://www.berickjosephgesq.co.uk\n",
              "468      Walton  ...      http://www.bestwstrnhostmtrhtlpalm.co.uk\n",
              "86       Mammie  ...            http://www.mattparrottsonsco.co.uk\n",
              "125       Maira  ...         http://www.blantonmaryrattorney.co.uk\n",
              "146        Luke  ...                   http://www.mdwrailway.co.uk\n",
              "254         Rex  ...              http://www.heringglennzesq.co.uk\n",
              "377      Theron  ...             http://www.percivalmarkresq.co.uk\n",
              "137    Rosalind  ...                   http://www.haarallenf.co.uk\n",
              "362    Stefania  ...               http://www.robertvanceltd.co.uk\n",
              "41      Marylin  ...        http://www.ernesteheuercompanypc.co.uk\n",
              "489    Krystina  ...          http://www.harrisoldsmobileinc.co.uk\n",
              "446         Ona  ...              http://www.cohenandfrommpc.co.uk\n",
              "385  Franchesca  ...            http://www.cappelloabarryesq.co.uk\n",
              "210      Pearly  ...                   http://www.ruggallery.co.uk\n",
              "103     Elinore  ...  http://www.agribusinessinsuranceagency.co.uk\n",
              "144     Marisha  ...             http://www.youngdoorcompany.co.uk\n",
              "462     Sherron  ...                      http://www.fhkcorp.co.uk\n",
              "5          Eric  ...          http://www.thompsonmichaelcesq.co.uk\n",
              "314        Kina  ...        http://www.mitchellsillimancoinc.co.uk\n",
              "256       Queen  ...               http://www.ottumwaglassco.co.uk\n",
              "464       Altha  ...                 http://www.malepowerltd.co.uk\n",
              "\n",
              "[50 rows x 11 columns]"
            ]
          },
          "metadata": {},
          "execution_count": 8
        }
      ]
    },
    {
      "cell_type": "markdown",
      "metadata": {
        "id": "RzOW9GKar2Hi"
      },
      "source": [
        "### Stratified Sampling"
      ]
    },
    {
      "cell_type": "markdown",
      "metadata": {
        "id": "mZIzn0PSG41G"
      },
      "source": [
        "To specify subset of population from which sampling has to be done in a proposition that those subsets represent the original population is Stratified Sampling."
      ]
    },
    {
      "cell_type": "code",
      "metadata": {
        "id": "oFokkOwef7II",
        "colab": {
          "base_uri": "https://localhost:8080/",
          "height": 203
        },
        "outputId": "263969c4-17bc-41b9-ca93-23a9b19aa536"
      },
      "source": [
        "d2 = pd.read_csv('https://raw.githubusercontent.com/dayanandv/Data-Science/main/dataset/StudentsPerformance.csv')\n",
        "d2.head()"
      ],
      "execution_count": 9,
      "outputs": [
        {
          "output_type": "execute_result",
          "data": {
            "text/html": [
              "<div>\n",
              "<style scoped>\n",
              "    .dataframe tbody tr th:only-of-type {\n",
              "        vertical-align: middle;\n",
              "    }\n",
              "\n",
              "    .dataframe tbody tr th {\n",
              "        vertical-align: top;\n",
              "    }\n",
              "\n",
              "    .dataframe thead th {\n",
              "        text-align: right;\n",
              "    }\n",
              "</style>\n",
              "<table border=\"1\" class=\"dataframe\">\n",
              "  <thead>\n",
              "    <tr style=\"text-align: right;\">\n",
              "      <th></th>\n",
              "      <th>gender</th>\n",
              "      <th>race/ethnicity</th>\n",
              "      <th>parental level of education</th>\n",
              "      <th>lunch</th>\n",
              "      <th>test preparation course</th>\n",
              "      <th>math score</th>\n",
              "      <th>reading score</th>\n",
              "      <th>writing score</th>\n",
              "    </tr>\n",
              "  </thead>\n",
              "  <tbody>\n",
              "    <tr>\n",
              "      <th>0</th>\n",
              "      <td>female</td>\n",
              "      <td>group B</td>\n",
              "      <td>bachelor's degree</td>\n",
              "      <td>standard</td>\n",
              "      <td>none</td>\n",
              "      <td>72</td>\n",
              "      <td>72</td>\n",
              "      <td>74</td>\n",
              "    </tr>\n",
              "    <tr>\n",
              "      <th>1</th>\n",
              "      <td>female</td>\n",
              "      <td>group C</td>\n",
              "      <td>some college</td>\n",
              "      <td>standard</td>\n",
              "      <td>completed</td>\n",
              "      <td>69</td>\n",
              "      <td>90</td>\n",
              "      <td>88</td>\n",
              "    </tr>\n",
              "    <tr>\n",
              "      <th>2</th>\n",
              "      <td>female</td>\n",
              "      <td>group B</td>\n",
              "      <td>master's degree</td>\n",
              "      <td>standard</td>\n",
              "      <td>none</td>\n",
              "      <td>90</td>\n",
              "      <td>95</td>\n",
              "      <td>93</td>\n",
              "    </tr>\n",
              "    <tr>\n",
              "      <th>3</th>\n",
              "      <td>male</td>\n",
              "      <td>group A</td>\n",
              "      <td>associate's degree</td>\n",
              "      <td>free/reduced</td>\n",
              "      <td>none</td>\n",
              "      <td>47</td>\n",
              "      <td>57</td>\n",
              "      <td>44</td>\n",
              "    </tr>\n",
              "    <tr>\n",
              "      <th>4</th>\n",
              "      <td>male</td>\n",
              "      <td>group C</td>\n",
              "      <td>some college</td>\n",
              "      <td>standard</td>\n",
              "      <td>none</td>\n",
              "      <td>76</td>\n",
              "      <td>78</td>\n",
              "      <td>75</td>\n",
              "    </tr>\n",
              "  </tbody>\n",
              "</table>\n",
              "</div>"
            ],
            "text/plain": [
              "   gender race/ethnicity  ... reading score writing score\n",
              "0  female        group B  ...            72            74\n",
              "1  female        group C  ...            90            88\n",
              "2  female        group B  ...            95            93\n",
              "3    male        group A  ...            57            44\n",
              "4    male        group C  ...            78            75\n",
              "\n",
              "[5 rows x 8 columns]"
            ]
          },
          "metadata": {},
          "execution_count": 9
        }
      ]
    },
    {
      "cell_type": "markdown",
      "metadata": {
        "id": "yyd8uEvvHom3"
      },
      "source": [
        "To show the dataset is not in equal proposition."
      ]
    },
    {
      "cell_type": "code",
      "metadata": {
        "colab": {
          "base_uri": "https://localhost:8080/",
          "height": 296
        },
        "id": "uN8yYdDngJ3P",
        "outputId": "ee6976ec-a3ab-431c-e4a2-9d605c00009b"
      },
      "source": [
        "sns.histplot(d2['race/ethnicity']) # Group A is <100 whereas Group C is >300, it is not equal. "
      ],
      "execution_count": 10,
      "outputs": [
        {
          "output_type": "execute_result",
          "data": {
            "text/plain": [
              "<matplotlib.axes._subplots.AxesSubplot at 0x7fd12b964910>"
            ]
          },
          "metadata": {},
          "execution_count": 10
        },
        {
          "output_type": "display_data",
          "data": {
            "image/png": "[encoded data removed]",
            "text/plain": [
              "<Figure size 432x288 with 1 Axes>"
            ]
          },
          "metadata": {
            "needs_background": "light"
          }
        }
      ]
    },
    {
      "cell_type": "markdown",
      "metadata": {
        "id": "fchEu7GUIXY0"
      },
      "source": [
        "To get equal representative from each race(stratified sampling).\n",
        "\n",
        "group the datset by race/ethnicity and select samples less than 3 from each group by applying lambda function. 3 indicates the number of representative from each strata. Equal number of samples from each group or equal representation of entire dataset."
      ]
    },
    {
      "cell_type": "code",
      "metadata": {
        "colab": {
          "base_uri": "https://localhost:8080/",
          "height": 511
        },
        "id": "KVeuXWlhgjFt",
        "outputId": "3391ecd3-486a-4a95-9f8d-561a65c68bd9"
      },
      "source": [
        "d2.groupby('race/ethnicity', group_keys=False).apply(lambda x:x.sample(min(len(x),3)))"
      ],
      "execution_count": 11,
      "outputs": [
        {
          "output_type": "execute_result",
          "data": {
            "text/html": [
              "<div>\n",
              "<style scoped>\n",
              "    .dataframe tbody tr th:only-of-type {\n",
              "        vertical-align: middle;\n",
              "    }\n",
              "\n",
              "    .dataframe tbody tr th {\n",
              "        vertical-align: top;\n",
              "    }\n",
              "\n",
              "    .dataframe thead th {\n",
              "        text-align: right;\n",
              "    }\n",
              "</style>\n",
              "<table border=\"1\" class=\"dataframe\">\n",
              "  <thead>\n",
              "    <tr style=\"text-align: right;\">\n",
              "      <th></th>\n",
              "      <th>gender</th>\n",
              "      <th>race/ethnicity</th>\n",
              "      <th>parental level of education</th>\n",
              "      <th>lunch</th>\n",
              "      <th>test preparation course</th>\n",
              "      <th>math score</th>\n",
              "      <th>reading score</th>\n",
              "      <th>writing score</th>\n",
              "    </tr>\n",
              "  </thead>\n",
              "  <tbody>\n",
              "    <tr>\n",
              "      <th>464</th>\n",
              "      <td>male</td>\n",
              "      <td>group A</td>\n",
              "      <td>bachelor's degree</td>\n",
              "      <td>standard</td>\n",
              "      <td>completed</td>\n",
              "      <td>75</td>\n",
              "      <td>58</td>\n",
              "      <td>62</td>\n",
              "    </tr>\n",
              "    <tr>\n",
              "      <th>62</th>\n",
              "      <td>male</td>\n",
              "      <td>group A</td>\n",
              "      <td>associate's degree</td>\n",
              "      <td>free/reduced</td>\n",
              "      <td>none</td>\n",
              "      <td>62</td>\n",
              "      <td>61</td>\n",
              "      <td>55</td>\n",
              "    </tr>\n",
              "    <tr>\n",
              "      <th>14</th>\n",
              "      <td>female</td>\n",
              "      <td>group A</td>\n",
              "      <td>master's degree</td>\n",
              "      <td>standard</td>\n",
              "      <td>none</td>\n",
              "      <td>50</td>\n",
              "      <td>53</td>\n",
              "      <td>58</td>\n",
              "    </tr>\n",
              "    <tr>\n",
              "      <th>303</th>\n",
              "      <td>male</td>\n",
              "      <td>group B</td>\n",
              "      <td>associate's degree</td>\n",
              "      <td>standard</td>\n",
              "      <td>none</td>\n",
              "      <td>80</td>\n",
              "      <td>76</td>\n",
              "      <td>64</td>\n",
              "    </tr>\n",
              "    <tr>\n",
              "      <th>224</th>\n",
              "      <td>female</td>\n",
              "      <td>group B</td>\n",
              "      <td>associate's degree</td>\n",
              "      <td>standard</td>\n",
              "      <td>completed</td>\n",
              "      <td>52</td>\n",
              "      <td>66</td>\n",
              "      <td>73</td>\n",
              "    </tr>\n",
              "    <tr>\n",
              "      <th>855</th>\n",
              "      <td>female</td>\n",
              "      <td>group B</td>\n",
              "      <td>bachelor's degree</td>\n",
              "      <td>standard</td>\n",
              "      <td>none</td>\n",
              "      <td>97</td>\n",
              "      <td>97</td>\n",
              "      <td>96</td>\n",
              "    </tr>\n",
              "    <tr>\n",
              "      <th>177</th>\n",
              "      <td>female</td>\n",
              "      <td>group C</td>\n",
              "      <td>associate's degree</td>\n",
              "      <td>standard</td>\n",
              "      <td>completed</td>\n",
              "      <td>71</td>\n",
              "      <td>77</td>\n",
              "      <td>77</td>\n",
              "    </tr>\n",
              "    <tr>\n",
              "      <th>261</th>\n",
              "      <td>male</td>\n",
              "      <td>group C</td>\n",
              "      <td>some college</td>\n",
              "      <td>standard</td>\n",
              "      <td>completed</td>\n",
              "      <td>79</td>\n",
              "      <td>79</td>\n",
              "      <td>78</td>\n",
              "    </tr>\n",
              "    <tr>\n",
              "      <th>104</th>\n",
              "      <td>male</td>\n",
              "      <td>group C</td>\n",
              "      <td>some college</td>\n",
              "      <td>standard</td>\n",
              "      <td>completed</td>\n",
              "      <td>98</td>\n",
              "      <td>86</td>\n",
              "      <td>90</td>\n",
              "    </tr>\n",
              "    <tr>\n",
              "      <th>618</th>\n",
              "      <td>male</td>\n",
              "      <td>group D</td>\n",
              "      <td>master's degree</td>\n",
              "      <td>standard</td>\n",
              "      <td>none</td>\n",
              "      <td>95</td>\n",
              "      <td>81</td>\n",
              "      <td>84</td>\n",
              "    </tr>\n",
              "    <tr>\n",
              "      <th>8</th>\n",
              "      <td>male</td>\n",
              "      <td>group D</td>\n",
              "      <td>high school</td>\n",
              "      <td>free/reduced</td>\n",
              "      <td>completed</td>\n",
              "      <td>64</td>\n",
              "      <td>64</td>\n",
              "      <td>67</td>\n",
              "    </tr>\n",
              "    <tr>\n",
              "      <th>927</th>\n",
              "      <td>female</td>\n",
              "      <td>group D</td>\n",
              "      <td>high school</td>\n",
              "      <td>free/reduced</td>\n",
              "      <td>completed</td>\n",
              "      <td>65</td>\n",
              "      <td>61</td>\n",
              "      <td>71</td>\n",
              "    </tr>\n",
              "    <tr>\n",
              "      <th>375</th>\n",
              "      <td>male</td>\n",
              "      <td>group E</td>\n",
              "      <td>associate's degree</td>\n",
              "      <td>free/reduced</td>\n",
              "      <td>none</td>\n",
              "      <td>46</td>\n",
              "      <td>43</td>\n",
              "      <td>41</td>\n",
              "    </tr>\n",
              "    <tr>\n",
              "      <th>225</th>\n",
              "      <td>female</td>\n",
              "      <td>group E</td>\n",
              "      <td>master's degree</td>\n",
              "      <td>free/reduced</td>\n",
              "      <td>none</td>\n",
              "      <td>45</td>\n",
              "      <td>56</td>\n",
              "      <td>54</td>\n",
              "    </tr>\n",
              "    <tr>\n",
              "      <th>916</th>\n",
              "      <td>male</td>\n",
              "      <td>group E</td>\n",
              "      <td>bachelor's degree</td>\n",
              "      <td>standard</td>\n",
              "      <td>completed</td>\n",
              "      <td>100</td>\n",
              "      <td>100</td>\n",
              "      <td>100</td>\n",
              "    </tr>\n",
              "  </tbody>\n",
              "</table>\n",
              "</div>"
            ],
            "text/plain": [
              "     gender race/ethnicity  ... reading score writing score\n",
              "464    male        group A  ...            58            62\n",
              "62     male        group A  ...            61            55\n",
              "14   female        group A  ...            53            58\n",
              "303    male        group B  ...            76            64\n",
              "224  female        group B  ...            66            73\n",
              "855  female        group B  ...            97            96\n",
              "177  female        group C  ...            77            77\n",
              "261    male        group C  ...            79            78\n",
              "104    male        group C  ...            86            90\n",
              "618    male        group D  ...            81            84\n",
              "8      male        group D  ...            64            67\n",
              "927  female        group D  ...            61            71\n",
              "375    male        group E  ...            43            41\n",
              "225  female        group E  ...            56            54\n",
              "916    male        group E  ...           100           100\n",
              "\n",
              "[15 rows x 8 columns]"
            ]
          },
          "metadata": {},
          "execution_count": 11
        }
      ]
    },
    {
      "cell_type": "markdown",
      "metadata": {
        "id": "J_4DoZ6fr_85"
      },
      "source": [
        "### Systematic Sampling"
      ]
    },
    {
      "cell_type": "markdown",
      "metadata": {
        "id": "eVezuvEfMSoi"
      },
      "source": [
        "Spread out entire dataframe and select sample using step number."
      ]
    },
    {
      "cell_type": "code",
      "metadata": {
        "id": "XSThG7wqh2ph",
        "colab": {
          "base_uri": "https://localhost:8080/",
          "height": 417
        },
        "outputId": "7eace02e-368e-4246-d95e-8dcfc1850daf"
      },
      "source": [
        "step_size = 5\n",
        "d2.iloc[::step_size]\n",
        "# starts from initially 0 index."
      ],
      "execution_count": 12,
      "outputs": [
        {
          "output_type": "execute_result",
          "data": {
            "text/html": [
              "<div>\n",
              "<style scoped>\n",
              "    .dataframe tbody tr th:only-of-type {\n",
              "        vertical-align: middle;\n",
              "    }\n",
              "\n",
              "    .dataframe tbody tr th {\n",
              "        vertical-align: top;\n",
              "    }\n",
              "\n",
              "    .dataframe thead th {\n",
              "        text-align: right;\n",
              "    }\n",
              "</style>\n",
              "<table border=\"1\" class=\"dataframe\">\n",
              "  <thead>\n",
              "    <tr style=\"text-align: right;\">\n",
              "      <th></th>\n",
              "      <th>gender</th>\n",
              "      <th>race/ethnicity</th>\n",
              "      <th>parental level of education</th>\n",
              "      <th>lunch</th>\n",
              "      <th>test preparation course</th>\n",
              "      <th>math score</th>\n",
              "      <th>reading score</th>\n",
              "      <th>writing score</th>\n",
              "    </tr>\n",
              "  </thead>\n",
              "  <tbody>\n",
              "    <tr>\n",
              "      <th>0</th>\n",
              "      <td>female</td>\n",
              "      <td>group B</td>\n",
              "      <td>bachelor's degree</td>\n",
              "      <td>standard</td>\n",
              "      <td>none</td>\n",
              "      <td>72</td>\n",
              "      <td>72</td>\n",
              "      <td>74</td>\n",
              "    </tr>\n",
              "    <tr>\n",
              "      <th>5</th>\n",
              "      <td>female</td>\n",
              "      <td>group B</td>\n",
              "      <td>associate's degree</td>\n",
              "      <td>standard</td>\n",
              "      <td>none</td>\n",
              "      <td>71</td>\n",
              "      <td>83</td>\n",
              "      <td>78</td>\n",
              "    </tr>\n",
              "    <tr>\n",
              "      <th>10</th>\n",
              "      <td>male</td>\n",
              "      <td>group C</td>\n",
              "      <td>associate's degree</td>\n",
              "      <td>standard</td>\n",
              "      <td>none</td>\n",
              "      <td>58</td>\n",
              "      <td>54</td>\n",
              "      <td>52</td>\n",
              "    </tr>\n",
              "    <tr>\n",
              "      <th>15</th>\n",
              "      <td>female</td>\n",
              "      <td>group C</td>\n",
              "      <td>some high school</td>\n",
              "      <td>standard</td>\n",
              "      <td>none</td>\n",
              "      <td>69</td>\n",
              "      <td>75</td>\n",
              "      <td>78</td>\n",
              "    </tr>\n",
              "    <tr>\n",
              "      <th>20</th>\n",
              "      <td>male</td>\n",
              "      <td>group D</td>\n",
              "      <td>high school</td>\n",
              "      <td>standard</td>\n",
              "      <td>none</td>\n",
              "      <td>66</td>\n",
              "      <td>69</td>\n",
              "      <td>63</td>\n",
              "    </tr>\n",
              "    <tr>\n",
              "      <th>...</th>\n",
              "      <td>...</td>\n",
              "      <td>...</td>\n",
              "      <td>...</td>\n",
              "      <td>...</td>\n",
              "      <td>...</td>\n",
              "      <td>...</td>\n",
              "      <td>...</td>\n",
              "      <td>...</td>\n",
              "    </tr>\n",
              "    <tr>\n",
              "      <th>975</th>\n",
              "      <td>female</td>\n",
              "      <td>group C</td>\n",
              "      <td>some college</td>\n",
              "      <td>standard</td>\n",
              "      <td>completed</td>\n",
              "      <td>64</td>\n",
              "      <td>82</td>\n",
              "      <td>77</td>\n",
              "    </tr>\n",
              "    <tr>\n",
              "      <th>980</th>\n",
              "      <td>female</td>\n",
              "      <td>group B</td>\n",
              "      <td>high school</td>\n",
              "      <td>free/reduced</td>\n",
              "      <td>none</td>\n",
              "      <td>8</td>\n",
              "      <td>24</td>\n",
              "      <td>23</td>\n",
              "    </tr>\n",
              "    <tr>\n",
              "      <th>985</th>\n",
              "      <td>male</td>\n",
              "      <td>group A</td>\n",
              "      <td>high school</td>\n",
              "      <td>standard</td>\n",
              "      <td>none</td>\n",
              "      <td>57</td>\n",
              "      <td>51</td>\n",
              "      <td>54</td>\n",
              "    </tr>\n",
              "    <tr>\n",
              "      <th>990</th>\n",
              "      <td>male</td>\n",
              "      <td>group E</td>\n",
              "      <td>high school</td>\n",
              "      <td>free/reduced</td>\n",
              "      <td>completed</td>\n",
              "      <td>86</td>\n",
              "      <td>81</td>\n",
              "      <td>75</td>\n",
              "    </tr>\n",
              "    <tr>\n",
              "      <th>995</th>\n",
              "      <td>female</td>\n",
              "      <td>group E</td>\n",
              "      <td>master's degree</td>\n",
              "      <td>standard</td>\n",
              "      <td>completed</td>\n",
              "      <td>88</td>\n",
              "      <td>99</td>\n",
              "      <td>95</td>\n",
              "    </tr>\n",
              "  </tbody>\n",
              "</table>\n",
              "<p>200 rows × 8 columns</p>\n",
              "</div>"
            ],
            "text/plain": [
              "     gender race/ethnicity  ... reading score writing score\n",
              "0    female        group B  ...            72            74\n",
              "5    female        group B  ...            83            78\n",
              "10     male        group C  ...            54            52\n",
              "15   female        group C  ...            75            78\n",
              "20     male        group D  ...            69            63\n",
              "..      ...            ...  ...           ...           ...\n",
              "975  female        group C  ...            82            77\n",
              "980  female        group B  ...            24            23\n",
              "985    male        group A  ...            51            54\n",
              "990    male        group E  ...            81            75\n",
              "995  female        group E  ...            99            95\n",
              "\n",
              "[200 rows x 8 columns]"
            ]
          },
          "metadata": {},
          "execution_count": 12
        }
      ]
    },
    {
      "cell_type": "markdown",
      "metadata": {
        "id": "uKCivPMMMa3W"
      },
      "source": [
        "To apply randomness."
      ]
    },
    {
      "cell_type": "markdown",
      "metadata": {
        "id": "8cv5ZbW7NB9j"
      },
      "source": [
        "np.arange(random.randint(1,30), len(d2), step=step_size) -> generates set of numbers/values between 1 to 100(len of d2)."
      ]
    },
    {
      "cell_type": "code",
      "metadata": {
        "id": "G4iF8A3SMZ7f",
        "colab": {
          "base_uri": "https://localhost:8080/",
          "height": 417
        },
        "outputId": "ede1a4fa-5fec-4631-ffc1-48a0dfce2973"
      },
      "source": [
        "indices = np.arange(random.randint(1,30), len(d2), step=step_size) \n",
        "d2.iloc[indices]"
      ],
      "execution_count": 13,
      "outputs": [
        {
          "output_type": "execute_result",
          "data": {
            "text/html": [
              "<div>\n",
              "<style scoped>\n",
              "    .dataframe tbody tr th:only-of-type {\n",
              "        vertical-align: middle;\n",
              "    }\n",
              "\n",
              "    .dataframe tbody tr th {\n",
              "        vertical-align: top;\n",
              "    }\n",
              "\n",
              "    .dataframe thead th {\n",
              "        text-align: right;\n",
              "    }\n",
              "</style>\n",
              "<table border=\"1\" class=\"dataframe\">\n",
              "  <thead>\n",
              "    <tr style=\"text-align: right;\">\n",
              "      <th></th>\n",
              "      <th>gender</th>\n",
              "      <th>race/ethnicity</th>\n",
              "      <th>parental level of education</th>\n",
              "      <th>lunch</th>\n",
              "      <th>test preparation course</th>\n",
              "      <th>math score</th>\n",
              "      <th>reading score</th>\n",
              "      <th>writing score</th>\n",
              "    </tr>\n",
              "  </thead>\n",
              "  <tbody>\n",
              "    <tr>\n",
              "      <th>13</th>\n",
              "      <td>male</td>\n",
              "      <td>group A</td>\n",
              "      <td>some college</td>\n",
              "      <td>standard</td>\n",
              "      <td>completed</td>\n",
              "      <td>78</td>\n",
              "      <td>72</td>\n",
              "      <td>70</td>\n",
              "    </tr>\n",
              "    <tr>\n",
              "      <th>18</th>\n",
              "      <td>male</td>\n",
              "      <td>group C</td>\n",
              "      <td>master's degree</td>\n",
              "      <td>free/reduced</td>\n",
              "      <td>completed</td>\n",
              "      <td>46</td>\n",
              "      <td>42</td>\n",
              "      <td>46</td>\n",
              "    </tr>\n",
              "    <tr>\n",
              "      <th>23</th>\n",
              "      <td>female</td>\n",
              "      <td>group C</td>\n",
              "      <td>some high school</td>\n",
              "      <td>standard</td>\n",
              "      <td>none</td>\n",
              "      <td>69</td>\n",
              "      <td>73</td>\n",
              "      <td>73</td>\n",
              "    </tr>\n",
              "    <tr>\n",
              "      <th>28</th>\n",
              "      <td>male</td>\n",
              "      <td>group C</td>\n",
              "      <td>high school</td>\n",
              "      <td>standard</td>\n",
              "      <td>none</td>\n",
              "      <td>70</td>\n",
              "      <td>70</td>\n",
              "      <td>65</td>\n",
              "    </tr>\n",
              "    <tr>\n",
              "      <th>33</th>\n",
              "      <td>male</td>\n",
              "      <td>group D</td>\n",
              "      <td>some college</td>\n",
              "      <td>standard</td>\n",
              "      <td>none</td>\n",
              "      <td>40</td>\n",
              "      <td>42</td>\n",
              "      <td>38</td>\n",
              "    </tr>\n",
              "    <tr>\n",
              "      <th>...</th>\n",
              "      <td>...</td>\n",
              "      <td>...</td>\n",
              "      <td>...</td>\n",
              "      <td>...</td>\n",
              "      <td>...</td>\n",
              "      <td>...</td>\n",
              "      <td>...</td>\n",
              "      <td>...</td>\n",
              "    </tr>\n",
              "    <tr>\n",
              "      <th>978</th>\n",
              "      <td>male</td>\n",
              "      <td>group D</td>\n",
              "      <td>high school</td>\n",
              "      <td>standard</td>\n",
              "      <td>completed</td>\n",
              "      <td>55</td>\n",
              "      <td>41</td>\n",
              "      <td>48</td>\n",
              "    </tr>\n",
              "    <tr>\n",
              "      <th>983</th>\n",
              "      <td>female</td>\n",
              "      <td>group A</td>\n",
              "      <td>some college</td>\n",
              "      <td>standard</td>\n",
              "      <td>completed</td>\n",
              "      <td>78</td>\n",
              "      <td>87</td>\n",
              "      <td>91</td>\n",
              "    </tr>\n",
              "    <tr>\n",
              "      <th>988</th>\n",
              "      <td>female</td>\n",
              "      <td>group A</td>\n",
              "      <td>some high school</td>\n",
              "      <td>free/reduced</td>\n",
              "      <td>none</td>\n",
              "      <td>44</td>\n",
              "      <td>45</td>\n",
              "      <td>45</td>\n",
              "    </tr>\n",
              "    <tr>\n",
              "      <th>993</th>\n",
              "      <td>female</td>\n",
              "      <td>group D</td>\n",
              "      <td>bachelor's degree</td>\n",
              "      <td>free/reduced</td>\n",
              "      <td>none</td>\n",
              "      <td>62</td>\n",
              "      <td>72</td>\n",
              "      <td>74</td>\n",
              "    </tr>\n",
              "    <tr>\n",
              "      <th>998</th>\n",
              "      <td>female</td>\n",
              "      <td>group D</td>\n",
              "      <td>some college</td>\n",
              "      <td>standard</td>\n",
              "      <td>completed</td>\n",
              "      <td>68</td>\n",
              "      <td>78</td>\n",
              "      <td>77</td>\n",
              "    </tr>\n",
              "  </tbody>\n",
              "</table>\n",
              "<p>198 rows × 8 columns</p>\n",
              "</div>"
            ],
            "text/plain": [
              "     gender race/ethnicity  ... reading score writing score\n",
              "13     male        group A  ...            72            70\n",
              "18     male        group C  ...            42            46\n",
              "23   female        group C  ...            73            73\n",
              "28     male        group C  ...            70            65\n",
              "33     male        group D  ...            42            38\n",
              "..      ...            ...  ...           ...           ...\n",
              "978    male        group D  ...            41            48\n",
              "983  female        group A  ...            87            91\n",
              "988  female        group A  ...            45            45\n",
              "993  female        group D  ...            72            74\n",
              "998  female        group D  ...            78            77\n",
              "\n",
              "[198 rows x 8 columns]"
            ]
          },
          "metadata": {},
          "execution_count": 13
        }
      ]
    },
    {
      "cell_type": "markdown",
      "metadata": {
        "id": "roTDxNtasAEr"
      },
      "source": [
        "### Clustered Sampling"
      ]
    },
    {
      "cell_type": "markdown",
      "metadata": {
        "id": "E4LZf7ti1aT7"
      },
      "source": [
        "Read: [Reservoir Sampling](https://en.wikipedia.org/wiki/Reservoir_sampling)\n",
        "\n",
        "\n",
        "---\n",
        "\n"
      ]
    },
    {
      "cell_type": "markdown",
      "metadata": {
        "id": "HMbPuZaG2zYq"
      },
      "source": [
        "## Handling imbalanced datasets"
      ]
    },
    {
      "cell_type": "markdown",
      "metadata": {
        "id": "iqi3igbt27GY"
      },
      "source": [
        "Undersampling"
      ]
    },
    {
      "cell_type": "markdown",
      "metadata": {
        "id": "RdfVmhQN3I6p"
      },
      "source": [
        "Oversampling"
      ]
    },
    {
      "cell_type": "markdown",
      "metadata": {
        "id": "82of0CRV3kGf"
      },
      "source": [
        "Read: [imblearn](https://github.com/scikit-learn-contrib/imbalanced-learn)"
      ]
    },
    {
      "cell_type": "markdown",
      "metadata": {
        "id": "_ZkQHHeP3hV6"
      },
      "source": [
        "\n",
        "\n",
        "---\n",
        "\n"
      ]
    },
    {
      "cell_type": "markdown",
      "metadata": {
        "id": "6S_enZUe13lE"
      },
      "source": [
        "Sampling error: Differences between the sam-\n",
        "ple and the population that exist only because of the observations that happened to be selected for the sample. Increasing sample size helps in reduction.\n",
        "\n",
        "Non-sampling error: Errors in data acquisition, Nonresponse errors, Selection bias etc. Increasing sample size may not help in reduction.\n",
        "\n",
        "[Reference](https://personal.utdallas.edu/~scniu/OPRE-6301/documents/Data_Collection_and_Sampling.pdf)"
      ]
    },
    {
      "cell_type": "markdown",
      "metadata": {
        "id": "HYUyPMPzsZxm"
      },
      "source": [
        "# Frequency Distribution"
      ]
    },
    {
      "cell_type": "markdown",
      "metadata": {
        "id": "ImWogy3LtiX8"
      },
      "source": [
        "## Range"
      ]
    },
    {
      "cell_type": "markdown",
      "metadata": {
        "id": "AJOK6nBJSOOx"
      },
      "source": [
        "amax -> find max of set of values."
      ]
    },
    {
      "cell_type": "code",
      "metadata": {
        "id": "80lcyegPPKHh",
        "colab": {
          "base_uri": "https://localhost:8080/"
        },
        "outputId": "00ad71b4-2c07-47b2-e146-0b856db9a6f6"
      },
      "source": [
        "reading_range = np.amax(d2['reading score'])-np.amin(d2['reading score'])\n",
        "reading_range"
      ],
      "execution_count": 14,
      "outputs": [
        {
          "output_type": "execute_result",
          "data": {
            "text/plain": [
              "83"
            ]
          },
          "metadata": {},
          "execution_count": 14
        }
      ]
    },
    {
      "cell_type": "markdown",
      "metadata": {
        "id": "0EMmDkvqtxjf"
      },
      "source": [
        "## Number of classes"
      ]
    },
    {
      "cell_type": "code",
      "metadata": {
        "id": "PxHOn10yPN7Z"
      },
      "source": [
        "num_of_classes = 6"
      ],
      "execution_count": 15,
      "outputs": []
    },
    {
      "cell_type": "markdown",
      "metadata": {
        "id": "TVqPbaSdtrDj"
      },
      "source": [
        "## Class Interval"
      ]
    },
    {
      "cell_type": "code",
      "metadata": {
        "id": "zTMaY9GIPPfY",
        "colab": {
          "base_uri": "https://localhost:8080/"
        },
        "outputId": "df9c9c9b-da84-4bf8-9fc3-2e3ca13f64ac"
      },
      "source": [
        "class_interval = reading_range/num_of_classes\n",
        "class_interval"
      ],
      "execution_count": 16,
      "outputs": [
        {
          "output_type": "execute_result",
          "data": {
            "text/plain": [
              "13.833333333333334"
            ]
          },
          "metadata": {},
          "execution_count": 16
        }
      ]
    },
    {
      "cell_type": "markdown",
      "metadata": {
        "id": "7N3JRuSgt6mA"
      },
      "source": [
        "## Class Midpoint"
      ]
    },
    {
      "cell_type": "markdown",
      "metadata": {
        "id": "uZXv5d-ktrL5"
      },
      "source": [
        "## Relative Frequency"
      ]
    },
    {
      "cell_type": "code",
      "metadata": {
        "id": "Heqhga-4PSGm",
        "colab": {
          "base_uri": "https://localhost:8080/"
        },
        "outputId": "f769a990-f66c-4e07-e8cc-8b065fd3c4d4"
      },
      "source": [
        "d2['reading score'].value_counts()"
      ],
      "execution_count": 17,
      "outputs": [
        {
          "output_type": "execute_result",
          "data": {
            "text/plain": [
              "72    34\n",
              "74    33\n",
              "64    32\n",
              "73    30\n",
              "67    30\n",
              "      ..\n",
              "32     1\n",
              "28     1\n",
              "26     1\n",
              "23     1\n",
              "17     1\n",
              "Name: reading score, Length: 72, dtype: int64"
            ]
          },
          "metadata": {},
          "execution_count": 17
        }
      ]
    },
    {
      "cell_type": "markdown",
      "metadata": {
        "id": "vj0zQS4fuGkZ"
      },
      "source": [
        "## Cumulative Frequency"
      ]
    },
    {
      "cell_type": "code",
      "metadata": {
        "id": "WuVCzwrYPUEy",
        "colab": {
          "base_uri": "https://localhost:8080/"
        },
        "outputId": "70d78da0-4ef5-4863-f015-54b02717e697"
      },
      "source": [
        "d2['reading score'].value_counts().cumsum()"
      ],
      "execution_count": 18,
      "outputs": [
        {
          "output_type": "execute_result",
          "data": {
            "text/plain": [
              "72      34\n",
              "74      67\n",
              "64      99\n",
              "73     129\n",
              "67     159\n",
              "      ... \n",
              "32     996\n",
              "28     997\n",
              "26     998\n",
              "23     999\n",
              "17    1000\n",
              "Name: reading score, Length: 72, dtype: int64"
            ]
          },
          "metadata": {},
          "execution_count": 18
        }
      ]
    },
    {
      "cell_type": "markdown",
      "metadata": {
        "id": "O5a7z2kArTMA"
      },
      "source": [
        "# Measures of central tendency"
      ]
    },
    {
      "cell_type": "markdown",
      "metadata": {
        "id": "owaI2CtCtk3n"
      },
      "source": [
        "## Mean"
      ]
    },
    {
      "cell_type": "code",
      "metadata": {
        "id": "IJdAgNmuTpV5",
        "colab": {
          "base_uri": "https://localhost:8080/"
        },
        "outputId": "86817994-93d4-4637-c14c-222233a32679"
      },
      "source": [
        "d2['reading score'].mean()"
      ],
      "execution_count": 19,
      "outputs": [
        {
          "output_type": "execute_result",
          "data": {
            "text/plain": [
              "69.169"
            ]
          },
          "metadata": {},
          "execution_count": 19
        }
      ]
    },
    {
      "cell_type": "code",
      "metadata": {
        "id": "MfmIfkPnu07f",
        "colab": {
          "base_uri": "https://localhost:8080/"
        },
        "outputId": "788f475a-8b28-4bfb-f641-260815f24ae0"
      },
      "source": [
        "d2.mean()"
      ],
      "execution_count": 20,
      "outputs": [
        {
          "output_type": "execute_result",
          "data": {
            "text/plain": [
              "math score       66.089\n",
              "reading score    69.169\n",
              "writing score    68.054\n",
              "dtype: float64"
            ]
          },
          "metadata": {},
          "execution_count": 20
        }
      ]
    },
    {
      "cell_type": "markdown",
      "metadata": {
        "id": "dHPWWuSAuuvO"
      },
      "source": [
        "## Median"
      ]
    },
    {
      "cell_type": "code",
      "metadata": {
        "id": "D-thkBVmPa40",
        "colab": {
          "base_uri": "https://localhost:8080/"
        },
        "outputId": "838ef3dd-abb9-4729-d849-e028e9d44224"
      },
      "source": [
        "d2['reading score'].median()"
      ],
      "execution_count": 21,
      "outputs": [
        {
          "output_type": "execute_result",
          "data": {
            "text/plain": [
              "70.0"
            ]
          },
          "metadata": {},
          "execution_count": 21
        }
      ]
    },
    {
      "cell_type": "markdown",
      "metadata": {
        "id": "0yLl_8r6u_Dm"
      },
      "source": [
        "## Mode"
      ]
    },
    {
      "cell_type": "code",
      "metadata": {
        "id": "vxwPng64Pbie",
        "colab": {
          "base_uri": "https://localhost:8080/"
        },
        "outputId": "5adabdfa-7a75-4095-d011-079b5021a8aa"
      },
      "source": [
        "d2['reading score'].mode()"
      ],
      "execution_count": 22,
      "outputs": [
        {
          "output_type": "execute_result",
          "data": {
            "text/plain": [
              "0    72\n",
              "dtype: int64"
            ]
          },
          "metadata": {},
          "execution_count": 22
        }
      ]
    },
    {
      "cell_type": "markdown",
      "metadata": {
        "id": "IJtSjhl5u_O3"
      },
      "source": [
        "## Percentile"
      ]
    },
    {
      "cell_type": "code",
      "metadata": {
        "id": "3ow3LqoMPe6v",
        "colab": {
          "base_uri": "https://localhost:8080/"
        },
        "outputId": "bcc2498e-729b-4027-9308-bdc0ba94aa58"
      },
      "source": [
        "d2.quantile(.2, axis = 0) # returns 20th percentile value of each numeric columns in datset."
      ],
      "execution_count": 23,
      "outputs": [
        {
          "output_type": "execute_result",
          "data": {
            "text/plain": [
              "math score       53.0\n",
              "reading score    57.0\n",
              "writing score    54.0\n",
              "Name: 0.2, dtype: float64"
            ]
          },
          "metadata": {},
          "execution_count": 23
        }
      ]
    },
    {
      "cell_type": "code",
      "metadata": {
        "id": "xP1F1koZPf27",
        "colab": {
          "base_uri": "https://localhost:8080/",
          "height": 172
        },
        "outputId": "3783ca66-d336-40f9-bf80-c0db0c7dd7cb"
      },
      "source": [
        "d2.quantile([.1, .3, .63, .95], axis = 0) # set of quantile values."
      ],
      "execution_count": 24,
      "outputs": [
        {
          "output_type": "execute_result",
          "data": {
            "text/html": [
              "<div>\n",
              "<style scoped>\n",
              "    .dataframe tbody tr th:only-of-type {\n",
              "        vertical-align: middle;\n",
              "    }\n",
              "\n",
              "    .dataframe tbody tr th {\n",
              "        vertical-align: top;\n",
              "    }\n",
              "\n",
              "    .dataframe thead th {\n",
              "        text-align: right;\n",
              "    }\n",
              "</style>\n",
              "<table border=\"1\" class=\"dataframe\">\n",
              "  <thead>\n",
              "    <tr style=\"text-align: right;\">\n",
              "      <th></th>\n",
              "      <th>math score</th>\n",
              "      <th>reading score</th>\n",
              "      <th>writing score</th>\n",
              "    </tr>\n",
              "  </thead>\n",
              "  <tbody>\n",
              "    <tr>\n",
              "      <th>0.10</th>\n",
              "      <td>47.00</td>\n",
              "      <td>51.00</td>\n",
              "      <td>48.0</td>\n",
              "    </tr>\n",
              "    <tr>\n",
              "      <th>0.30</th>\n",
              "      <td>59.00</td>\n",
              "      <td>62.00</td>\n",
              "      <td>60.0</td>\n",
              "    </tr>\n",
              "    <tr>\n",
              "      <th>0.63</th>\n",
              "      <td>71.00</td>\n",
              "      <td>74.37</td>\n",
              "      <td>74.0</td>\n",
              "    </tr>\n",
              "    <tr>\n",
              "      <th>0.95</th>\n",
              "      <td>90.05</td>\n",
              "      <td>92.00</td>\n",
              "      <td>92.0</td>\n",
              "    </tr>\n",
              "  </tbody>\n",
              "</table>\n",
              "</div>"
            ],
            "text/plain": [
              "      math score  reading score  writing score\n",
              "0.10       47.00          51.00           48.0\n",
              "0.30       59.00          62.00           60.0\n",
              "0.63       71.00          74.37           74.0\n",
              "0.95       90.05          92.00           92.0"
            ]
          },
          "metadata": {},
          "execution_count": 24
        }
      ]
    },
    {
      "cell_type": "markdown",
      "metadata": {
        "id": "fqdvXZNGu_fi"
      },
      "source": [
        "## Quartile"
      ]
    },
    {
      "cell_type": "code",
      "metadata": {
        "id": "uudq75y_PmT6",
        "colab": {
          "base_uri": "https://localhost:8080/",
          "height": 142
        },
        "outputId": "451c8820-c45a-4a0b-f746-14ea3b089366"
      },
      "source": [
        "d2.quantile([.25, .50, .75], axis = 0)"
      ],
      "execution_count": 25,
      "outputs": [
        {
          "output_type": "execute_result",
          "data": {
            "text/html": [
              "<div>\n",
              "<style scoped>\n",
              "    .dataframe tbody tr th:only-of-type {\n",
              "        vertical-align: middle;\n",
              "    }\n",
              "\n",
              "    .dataframe tbody tr th {\n",
              "        vertical-align: top;\n",
              "    }\n",
              "\n",
              "    .dataframe thead th {\n",
              "        text-align: right;\n",
              "    }\n",
              "</style>\n",
              "<table border=\"1\" class=\"dataframe\">\n",
              "  <thead>\n",
              "    <tr style=\"text-align: right;\">\n",
              "      <th></th>\n",
              "      <th>math score</th>\n",
              "      <th>reading score</th>\n",
              "      <th>writing score</th>\n",
              "    </tr>\n",
              "  </thead>\n",
              "  <tbody>\n",
              "    <tr>\n",
              "      <th>0.25</th>\n",
              "      <td>57.0</td>\n",
              "      <td>59.0</td>\n",
              "      <td>57.75</td>\n",
              "    </tr>\n",
              "    <tr>\n",
              "      <th>0.50</th>\n",
              "      <td>66.0</td>\n",
              "      <td>70.0</td>\n",
              "      <td>69.00</td>\n",
              "    </tr>\n",
              "    <tr>\n",
              "      <th>0.75</th>\n",
              "      <td>77.0</td>\n",
              "      <td>79.0</td>\n",
              "      <td>79.00</td>\n",
              "    </tr>\n",
              "  </tbody>\n",
              "</table>\n",
              "</div>"
            ],
            "text/plain": [
              "      math score  reading score  writing score\n",
              "0.25        57.0           59.0          57.75\n",
              "0.50        66.0           70.0          69.00\n",
              "0.75        77.0           79.0          79.00"
            ]
          },
          "metadata": {},
          "execution_count": 25
        }
      ]
    },
    {
      "cell_type": "markdown",
      "metadata": {
        "id": "679ByOC5vOTK"
      },
      "source": [
        "## Recap of pandas describe()"
      ]
    },
    {
      "cell_type": "markdown",
      "metadata": {
        "id": "uZUoV4eQOhb-"
      },
      "source": [
        "last five row is 5 point summary of data."
      ]
    },
    {
      "cell_type": "code",
      "metadata": {
        "id": "G_XVE5VwPp0j",
        "colab": {
          "base_uri": "https://localhost:8080/",
          "height": 295
        },
        "outputId": "d0244502-e8e2-4194-fa3f-d40fc60a60ef"
      },
      "source": [
        "d2.describe()"
      ],
      "execution_count": 26,
      "outputs": [
        {
          "output_type": "execute_result",
          "data": {
            "text/html": [
              "<div>\n",
              "<style scoped>\n",
              "    .dataframe tbody tr th:only-of-type {\n",
              "        vertical-align: middle;\n",
              "    }\n",
              "\n",
              "    .dataframe tbody tr th {\n",
              "        vertical-align: top;\n",
              "    }\n",
              "\n",
              "    .dataframe thead th {\n",
              "        text-align: right;\n",
              "    }\n",
              "</style>\n",
              "<table border=\"1\" class=\"dataframe\">\n",
              "  <thead>\n",
              "    <tr style=\"text-align: right;\">\n",
              "      <th></th>\n",
              "      <th>math score</th>\n",
              "      <th>reading score</th>\n",
              "      <th>writing score</th>\n",
              "    </tr>\n",
              "  </thead>\n",
              "  <tbody>\n",
              "    <tr>\n",
              "      <th>count</th>\n",
              "      <td>1000.00000</td>\n",
              "      <td>1000.000000</td>\n",
              "      <td>1000.000000</td>\n",
              "    </tr>\n",
              "    <tr>\n",
              "      <th>mean</th>\n",
              "      <td>66.08900</td>\n",
              "      <td>69.169000</td>\n",
              "      <td>68.054000</td>\n",
              "    </tr>\n",
              "    <tr>\n",
              "      <th>std</th>\n",
              "      <td>15.16308</td>\n",
              "      <td>14.600192</td>\n",
              "      <td>15.195657</td>\n",
              "    </tr>\n",
              "    <tr>\n",
              "      <th>min</th>\n",
              "      <td>0.00000</td>\n",
              "      <td>17.000000</td>\n",
              "      <td>10.000000</td>\n",
              "    </tr>\n",
              "    <tr>\n",
              "      <th>25%</th>\n",
              "      <td>57.00000</td>\n",
              "      <td>59.000000</td>\n",
              "      <td>57.750000</td>\n",
              "    </tr>\n",
              "    <tr>\n",
              "      <th>50%</th>\n",
              "      <td>66.00000</td>\n",
              "      <td>70.000000</td>\n",
              "      <td>69.000000</td>\n",
              "    </tr>\n",
              "    <tr>\n",
              "      <th>75%</th>\n",
              "      <td>77.00000</td>\n",
              "      <td>79.000000</td>\n",
              "      <td>79.000000</td>\n",
              "    </tr>\n",
              "    <tr>\n",
              "      <th>max</th>\n",
              "      <td>100.00000</td>\n",
              "      <td>100.000000</td>\n",
              "      <td>100.000000</td>\n",
              "    </tr>\n",
              "  </tbody>\n",
              "</table>\n",
              "</div>"
            ],
            "text/plain": [
              "       math score  reading score  writing score\n",
              "count  1000.00000    1000.000000    1000.000000\n",
              "mean     66.08900      69.169000      68.054000\n",
              "std      15.16308      14.600192      15.195657\n",
              "min       0.00000      17.000000      10.000000\n",
              "25%      57.00000      59.000000      57.750000\n",
              "50%      66.00000      70.000000      69.000000\n",
              "75%      77.00000      79.000000      79.000000\n",
              "max     100.00000     100.000000     100.000000"
            ]
          },
          "metadata": {},
          "execution_count": 26
        }
      ]
    },
    {
      "cell_type": "markdown",
      "metadata": {
        "id": "QOP-97L24WAx"
      },
      "source": [
        "# Measures of variance"
      ]
    },
    {
      "cell_type": "code",
      "metadata": {
        "colab": {
          "base_uri": "https://localhost:8080/",
          "height": 203
        },
        "id": "Ke2HSvcjscGh",
        "outputId": "5cd5d266-8ec6-4aeb-94b3-44f9088f2ea1"
      },
      "source": [
        "d3 = pd.read_csv('https://raw.githubusercontent.com/dayanandv/Data-Science/main/dataset/nba.csv')\n",
        "d3.head()"
      ],
      "execution_count": 27,
      "outputs": [
        {
          "output_type": "execute_result",
          "data": {
            "text/html": [
              "<div>\n",
              "<style scoped>\n",
              "    .dataframe tbody tr th:only-of-type {\n",
              "        vertical-align: middle;\n",
              "    }\n",
              "\n",
              "    .dataframe tbody tr th {\n",
              "        vertical-align: top;\n",
              "    }\n",
              "\n",
              "    .dataframe thead th {\n",
              "        text-align: right;\n",
              "    }\n",
              "</style>\n",
              "<table border=\"1\" class=\"dataframe\">\n",
              "  <thead>\n",
              "    <tr style=\"text-align: right;\">\n",
              "      <th></th>\n",
              "      <th>Name</th>\n",
              "      <th>Team</th>\n",
              "      <th>Number</th>\n",
              "      <th>Position</th>\n",
              "      <th>Age</th>\n",
              "      <th>Height</th>\n",
              "      <th>Weight</th>\n",
              "      <th>College</th>\n",
              "      <th>Salary</th>\n",
              "    </tr>\n",
              "  </thead>\n",
              "  <tbody>\n",
              "    <tr>\n",
              "      <th>0</th>\n",
              "      <td>Avery Bradley</td>\n",
              "      <td>Boston Celtics</td>\n",
              "      <td>0.0</td>\n",
              "      <td>PG</td>\n",
              "      <td>25.0</td>\n",
              "      <td>6-2</td>\n",
              "      <td>180.0</td>\n",
              "      <td>Texas</td>\n",
              "      <td>7730337.0</td>\n",
              "    </tr>\n",
              "    <tr>\n",
              "      <th>1</th>\n",
              "      <td>Jae Crowder</td>\n",
              "      <td>Boston Celtics</td>\n",
              "      <td>99.0</td>\n",
              "      <td>SF</td>\n",
              "      <td>25.0</td>\n",
              "      <td>6-6</td>\n",
              "      <td>235.0</td>\n",
              "      <td>Marquette</td>\n",
              "      <td>6796117.0</td>\n",
              "    </tr>\n",
              "    <tr>\n",
              "      <th>2</th>\n",
              "      <td>John Holland</td>\n",
              "      <td>Boston Celtics</td>\n",
              "      <td>30.0</td>\n",
              "      <td>SG</td>\n",
              "      <td>27.0</td>\n",
              "      <td>6-5</td>\n",
              "      <td>205.0</td>\n",
              "      <td>Boston University</td>\n",
              "      <td>NaN</td>\n",
              "    </tr>\n",
              "    <tr>\n",
              "      <th>3</th>\n",
              "      <td>R.J. Hunter</td>\n",
              "      <td>Boston Celtics</td>\n",
              "      <td>28.0</td>\n",
              "      <td>SG</td>\n",
              "      <td>22.0</td>\n",
              "      <td>6-5</td>\n",
              "      <td>185.0</td>\n",
              "      <td>Georgia State</td>\n",
              "      <td>1148640.0</td>\n",
              "    </tr>\n",
              "    <tr>\n",
              "      <th>4</th>\n",
              "      <td>Jonas Jerebko</td>\n",
              "      <td>Boston Celtics</td>\n",
              "      <td>8.0</td>\n",
              "      <td>PF</td>\n",
              "      <td>29.0</td>\n",
              "      <td>6-10</td>\n",
              "      <td>231.0</td>\n",
              "      <td>NaN</td>\n",
              "      <td>5000000.0</td>\n",
              "    </tr>\n",
              "  </tbody>\n",
              "</table>\n",
              "</div>"
            ],
            "text/plain": [
              "            Name            Team  Number  ... Weight            College     Salary\n",
              "0  Avery Bradley  Boston Celtics     0.0  ...  180.0              Texas  7730337.0\n",
              "1    Jae Crowder  Boston Celtics    99.0  ...  235.0          Marquette  6796117.0\n",
              "2   John Holland  Boston Celtics    30.0  ...  205.0  Boston University        NaN\n",
              "3    R.J. Hunter  Boston Celtics    28.0  ...  185.0      Georgia State  1148640.0\n",
              "4  Jonas Jerebko  Boston Celtics     8.0  ...  231.0                NaN  5000000.0\n",
              "\n",
              "[5 rows x 9 columns]"
            ]
          },
          "metadata": {},
          "execution_count": 27
        }
      ]
    },
    {
      "cell_type": "markdown",
      "metadata": {
        "id": "yExmHScb4an9"
      },
      "source": [
        "## Skewness"
      ]
    },
    {
      "cell_type": "code",
      "metadata": {
        "colab": {
          "base_uri": "https://localhost:8080/"
        },
        "id": "3yMvhFmwsX3w",
        "outputId": "76d6811e-11be-4d85-9c94-84e5861b60a5"
      },
      "source": [
        "d3.skew()"
      ],
      "execution_count": 28,
      "outputs": [
        {
          "output_type": "execute_result",
          "data": {
            "text/plain": [
              "Number    1.668386\n",
              "Age       0.626349\n",
              "Weight    0.113788\n",
              "Salary    1.576321\n",
              "dtype: float64"
            ]
          },
          "metadata": {},
          "execution_count": 28
        }
      ]
    },
    {
      "cell_type": "code",
      "metadata": {
        "colab": {
          "base_uri": "https://localhost:8080/",
          "height": 282
        },
        "id": "w0m3UzWbsuwc",
        "outputId": "cdbb7470-f1df-490c-a638-2707033bb253"
      },
      "source": [
        "d3['Weight'].sort_values().hist().plot(use_index=False)\n",
        "# y axis is weight, x axis is number of data points.\n",
        "# normal distribution."
      ],
      "execution_count": 29,
      "outputs": [
        {
          "output_type": "execute_result",
          "data": {
            "text/plain": [
              "[]"
            ]
          },
          "metadata": {},
          "execution_count": 29
        },
        {
          "output_type": "display_data",
          "data": {
            "image/png": "[encoded data removed]",
            "text/plain": [
              "<Figure size 432x288 with 1 Axes>"
            ]
          },
          "metadata": {
            "needs_background": "light"
          }
        }
      ]
    },
    {
      "cell_type": "code",
      "metadata": {
        "colab": {
          "base_uri": "https://localhost:8080/",
          "height": 282
        },
        "id": "cnyG0UP1s9Ss",
        "outputId": "154938d6-f48c-4d6d-98c4-18643b66d216"
      },
      "source": [
        "d3['Height'].sort_values().hist().plot(use_index=False)\n",
        "# kind of normal distribution, very few in lower and higher end."
      ],
      "execution_count": 30,
      "outputs": [
        {
          "output_type": "execute_result",
          "data": {
            "text/plain": [
              "[]"
            ]
          },
          "metadata": {},
          "execution_count": 30
        },
        {
          "output_type": "display_data",
          "data": {
            "image/png": "[encoded data removed]",
            "text/plain": [
              "<Figure size 432x288 with 1 Axes>"
            ]
          },
          "metadata": {
            "needs_background": "light"
          }
        }
      ]
    },
    {
      "cell_type": "code",
      "metadata": {
        "colab": {
          "base_uri": "https://localhost:8080/",
          "height": 295
        },
        "id": "e4dprHAbtDvK",
        "outputId": "0fa8ba45-4ac1-46ad-e4db-776871d763ae"
      },
      "source": [
        "d3['Salary'].sort_values().hist().plot(use_index=False)\n",
        "# 1.57 it is skewed towards right denoting many people having less salary, as it goes on few having very high salary."
      ],
      "execution_count": 31,
      "outputs": [
        {
          "output_type": "execute_result",
          "data": {
            "text/plain": [
              "[]"
            ]
          },
          "metadata": {},
          "execution_count": 31
        },
        {
          "output_type": "display_data",
          "data": {
            "image/png": "[encoded data removed]",
            "text/plain": [
              "<Figure size 432x288 with 1 Axes>"
            ]
          },
          "metadata": {
            "needs_background": "light"
          }
        }
      ]
    },
    {
      "cell_type": "markdown",
      "metadata": {
        "id": "6DeSTPyK4cmP"
      },
      "source": [
        "## Kurtosis"
      ]
    },
    {
      "cell_type": "code",
      "metadata": {
        "colab": {
          "base_uri": "https://localhost:8080/"
        },
        "id": "xIm5EW_ttPiM",
        "outputId": "4610d631-8906-4fea-ba5c-4c7e8be094db"
      },
      "source": [
        "d3.kurt()"
      ],
      "execution_count": 32,
      "outputs": [
        {
          "output_type": "execute_result",
          "data": {
            "text/plain": [
              "Number    4.364464\n",
              "Age      -0.051119\n",
              "Weight   -0.552546\n",
              "Salary    1.839177\n",
              "dtype: float64"
            ]
          },
          "metadata": {},
          "execution_count": 32
        }
      ]
    }
  ]
}