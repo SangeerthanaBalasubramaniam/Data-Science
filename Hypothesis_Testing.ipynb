{
  "nbformat": 4,
  "nbformat_minor": 0,
  "metadata": {
    "kernelspec": {
      "display_name": "Python 3",
      "language": "python",
      "name": "python3"
    },
    "language_info": {
      "codemirror_mode": {
        "name": "ipython",
        "version": 3
      },
      "file_extension": ".py",
      "mimetype": "text/x-python",
      "name": "python",
      "nbconvert_exporter": "python",
      "pygments_lexer": "ipython3",
      "version": "3.6.9"
    },
    "colab": {
      "name": "Hypothesis_Testing.ipynb",
      "provenance": []
    }
  },
  "cells": [
    {
      "cell_type": "markdown",
      "metadata": {
        "id": "CqoJTEpMwYEX"
      },
      "source": [
        "# Hypothesis Testing"
      ]
    },
    {
      "cell_type": "code",
      "metadata": {
        "id": "SRyalNhBwYEg"
      },
      "source": [
        "import numpy as np\n",
        "import scipy.stats as st"
      ],
      "execution_count": null,
      "outputs": []
    },
    {
      "cell_type": "markdown",
      "metadata": {
        "id": "BfLPEqeWwYEk"
      },
      "source": [
        "## Section 1 : z-Test"
      ]
    },
    {
      "cell_type": "markdown",
      "metadata": {
        "id": "36yUehGzwYEl"
      },
      "source": [
        "## Example 1.1 : Ages of Medical doctors\n",
        "A researcher believes that the mean age of medical doctors in a large hospital system is older than the average age of doctors in the United States, which is 46. Assume the population standard deviation is 4.2 years. A random sample of 30 doctors from the system is selected, and the mean age of the sample is 48.6. Test the claim at α = 0.05."
      ]
    },
    {
      "cell_type": "code",
      "metadata": {
        "id": "Aoe9SYQjwYEn"
      },
      "source": [
        "#H0 : μ =46 , Ha :  μ >46\n",
        "n = 30\n",
        "xbar = 48.6\n",
        "mu = 46\n",
        "sigma = 4.2\n",
        "alpha = 0.05"
      ],
      "execution_count": null,
      "outputs": []
    },
    {
      "cell_type": "code",
      "metadata": {
        "id": "6BpB2xgLwYEp",
        "colab": {
          "base_uri": "https://localhost:8080/"
        },
        "outputId": "7dc7456a-065b-45c3-a713-e146054d949f"
      },
      "source": [
        "#z test\n",
        "z_critical = abs(st.norm.ppf(alpha)) #Absolute value taken as the it's a right-tailed test and the original value will be negative\n",
        "z_critical #since right tailed, should be positive so abs()"
      ],
      "execution_count": null,
      "outputs": [
        {
          "output_type": "execute_result",
          "data": {
            "text/plain": [
              "1.6448536269514729"
            ]
          },
          "metadata": {},
          "execution_count": 36
        }
      ]
    },
    {
      "cell_type": "code",
      "metadata": {
        "id": "d1FOOo4gwYEs",
        "colab": {
          "base_uri": "https://localhost:8080/"
        },
        "outputId": "91bc9c02-4ecb-4696-9c37-acdfdbea509e"
      },
      "source": [
        "z = (xbar-mu)/(sigma/np.sqrt(n))\n",
        "z"
      ],
      "execution_count": null,
      "outputs": [
        {
          "output_type": "execute_result",
          "data": {
            "text/plain": [
              "3.3906634512224585"
            ]
          },
          "metadata": {},
          "execution_count": 38
        }
      ]
    },
    {
      "cell_type": "code",
      "metadata": {
        "id": "dKy0LaOqwYEu",
        "colab": {
          "base_uri": "https://localhost:8080/"
        },
        "outputId": "b523f3de-51ac-4adb-c51c-00a18abde269"
      },
      "source": [
        "if (z < z_critical): #Right-tailed test\n",
        "    print(\"Null hypothesis cannot be rejected\")\n",
        "else:\n",
        "    print(\"Reject null hypothesis\")"
      ],
      "execution_count": null,
      "outputs": [
        {
          "output_type": "stream",
          "name": "stdout",
          "text": [
            "Reject null hypothesis\n"
          ]
        }
      ]
    },
    {
      "cell_type": "markdown",
      "metadata": {
        "id": "dLrvzvqLwYEv"
      },
      "source": [
        "## Section 2 : z-Test using P-value"
      ]
    },
    {
      "cell_type": "markdown",
      "metadata": {
        "id": "oIgM_qrgwYEw"
      },
      "source": [
        "## Example 2. 1 : Wind Speed\n",
        "\n",
        "\n",
        "A researcher claims that the average wind speed in a certain city is 8 miles per hour. A sample of 32 days has an average wind speed of 8.2 miles per hour. The standard deviation of the population is 0.6 mile per hour. At α = 0.05, is there enough evidence to reject the claim? Use the P-value method."
      ]
    },
    {
      "cell_type": "code",
      "metadata": {
        "id": "oIjmOuuewYEx"
      },
      "source": [
        "#H0 : μ = 8 and Ha : μ != 8 \n",
        "n = 32\n",
        "xbar = 8.2\n",
        "mu = 8\n",
        "sigma = 0.6 \n",
        "alpha = 0.05"
      ],
      "execution_count": null,
      "outputs": []
    },
    {
      "cell_type": "code",
      "metadata": {
        "id": "ZcqzVHkMwYEz",
        "colab": {
          "base_uri": "https://localhost:8080/"
        },
        "outputId": "41cd65ef-2f04-4acd-c800-c5cee282c4ea"
      },
      "source": [
        "z = (xbar-mu)/(sigma/np.sqrt(n))\n",
        "z"
      ],
      "execution_count": null,
      "outputs": [
        {
          "output_type": "execute_result",
          "data": {
            "text/plain": [
              "1.8856180831641203"
            ]
          },
          "metadata": {},
          "execution_count": 42
        }
      ]
    },
    {
      "cell_type": "code",
      "metadata": {
        "id": "vpht1-vUwYE0",
        "colab": {
          "base_uri": "https://localhost:8080/"
        },
        "outputId": "d00c64f8-547c-4350-c83a-1edb7937325c"
      },
      "source": [
        "p_val = (1 - st.norm.cdf(abs(z))) * 2 #*2 -> two tailed test\n",
        "p_val"
      ],
      "execution_count": null,
      "outputs": [
        {
          "output_type": "execute_result",
          "data": {
            "text/plain": [
              "0.0593464387919207"
            ]
          },
          "metadata": {},
          "execution_count": 43
        }
      ]
    },
    {
      "cell_type": "code",
      "metadata": {
        "id": "a5xB5hGNwYE1",
        "colab": {
          "base_uri": "https://localhost:8080/"
        },
        "outputId": "605c0cf7-73d0-4bc1-84f2-e03fffeadb23"
      },
      "source": [
        "if (p_val > alpha):\n",
        "    print(\"Null hypothesis cannot be rejected\")\n",
        "else:\n",
        "    print(\"Reject null hypothesis\")"
      ],
      "execution_count": null,
      "outputs": [
        {
          "output_type": "stream",
          "name": "stdout",
          "text": [
            "Null hypothesis cannot be rejected\n"
          ]
        }
      ]
    },
    {
      "cell_type": "markdown",
      "metadata": {
        "id": "PKbTSgeUwYE2"
      },
      "source": [
        "## Section 3 : t-Test"
      ]
    },
    {
      "cell_type": "markdown",
      "metadata": {
        "id": "QHbI7nfxwYE3"
      },
      "source": [
        "## Example 3.1 : Hospital Infections\n",
        "A medical investigation claims that the average number of infections per week at a ­hospital in southwestern Pennsylvania is 16.3. A random sample of 10 weeks had a mean number of 17.7 infections. The sample standard deviation is 1.8. Is there enough evidence to reject the investigator’s claim at α = 0.05? Assume the variable is normally distributed."
      ]
    },
    {
      "cell_type": "code",
      "metadata": {
        "id": "tXt4hXfMwYE3"
      },
      "source": [
        "#H0 : μ = 16.3, Ha : μ != 16.3                   #test != so it two tailed.\n",
        "n = 10\n",
        "degrees_of_freedom = n-1\n",
        "xbar = 17.7\n",
        "mu = 16.3\n",
        "s = 1.8\n",
        "alpha = 0.05"
      ],
      "execution_count": null,
      "outputs": []
    },
    {
      "cell_type": "code",
      "metadata": {
        "id": "TR61SnfpwYE5",
        "colab": {
          "base_uri": "https://localhost:8080/"
        },
        "outputId": "4a8f37ed-8883-4d58-d041-9f7227d78cb4"
      },
      "source": [
        "t = (xbar - mu)/(s / np.sqrt(n))\n",
        "t"
      ],
      "execution_count": null,
      "outputs": [
        {
          "output_type": "execute_result",
          "data": {
            "text/plain": [
              "2.4595492912420704"
            ]
          },
          "metadata": {},
          "execution_count": 46
        }
      ]
    },
    {
      "cell_type": "code",
      "metadata": {
        "id": "cghi5O50wYE6",
        "colab": {
          "base_uri": "https://localhost:8080/"
        },
        "outputId": "f70514e2-3c52-4f49-9a1b-878a7f01599c"
      },
      "source": [
        "t_critical = st.t.ppf(alpha/2, degrees_of_freedom)\n",
        "t_critical"
      ],
      "execution_count": null,
      "outputs": [
        {
          "output_type": "execute_result",
          "data": {
            "text/plain": [
              "-2.262157162740992"
            ]
          },
          "metadata": {},
          "execution_count": 47
        }
      ]
    },
    {
      "cell_type": "code",
      "metadata": {
        "id": "3yfDRP_cwYE7",
        "colab": {
          "base_uri": "https://localhost:8080/"
        },
        "outputId": "a3a0e6f5-97cd-4649-c723-bd80c1edbeb7"
      },
      "source": [
        "if (abs(t) > abs(t_critical)): #Absolute value taken as the it's a two-tailed test and the original t_critical value might be negative\n",
        "    print(\"Null hypothesis cannot be rejected\")\n",
        "else:\n",
        "    print(\"Reject null hypothesis\")"
      ],
      "execution_count": null,
      "outputs": [
        {
          "output_type": "stream",
          "name": "stdout",
          "text": [
            "Null hypothesis cannot be rejected\n"
          ]
        }
      ]
    },
    {
      "cell_type": "markdown",
      "metadata": {
        "id": "jAv5OBMMwYE8"
      },
      "source": [
        "## Section 4 : t-Test using P-value"
      ]
    },
    {
      "cell_type": "markdown",
      "metadata": {
        "id": "-n_nLH5GwYE8"
      },
      "source": [
        "## Example 4.1 : Jogger’s Oxygen Uptake\n",
        "A physician claims that joggers’ maximal volume oxygen uptake is greater than the average of all adults. A random sample of 15 joggers has a mean of 40.6 milliliters per kilogram (ml/kg) and a standard deviation of 6 ml/kg. If the average of all adults is 36.7 ml/kg, is there enough evidence to support the physician’s claim at α = 0.05? Assume the variable is normally distributed. "
      ]
    },
    {
      "cell_type": "code",
      "metadata": {
        "id": "ZaXBybM8wYE8"
      },
      "source": [
        "#H0 : μ = 36.7, Ha : μ > 36.7 \n",
        "n = 15\n",
        "degrees_of_freedom = n-1\n",
        "xbar = 40.6\n",
        "mu = 36.7\n",
        "s = 6\n",
        "alpha = 0.05"
      ],
      "execution_count": null,
      "outputs": []
    },
    {
      "cell_type": "code",
      "metadata": {
        "id": "oxPgEnYcwYE9",
        "colab": {
          "base_uri": "https://localhost:8080/"
        },
        "outputId": "ed7a2306-d3ad-4c46-fe89-fa233bc37803"
      },
      "source": [
        "t = (xbar - mu)/(s / np.sqrt(n))\n",
        "t"
      ],
      "execution_count": null,
      "outputs": [
        {
          "output_type": "execute_result",
          "data": {
            "text/plain": [
              "2.51743917503482"
            ]
          },
          "metadata": {},
          "execution_count": 50
        }
      ]
    },
    {
      "cell_type": "code",
      "metadata": {
        "id": "YrVjQG0KwYE9",
        "colab": {
          "base_uri": "https://localhost:8080/"
        },
        "outputId": "f2ffb418-4a69-47bd-9df6-4828db1d8726"
      },
      "source": [
        "p_val = (1 - st.t.cdf(abs(t), degrees_of_freedom)) #\"1 - cdf\" because it's a right-tailed test\n",
        "p_val"
      ],
      "execution_count": null,
      "outputs": [
        {
          "output_type": "execute_result",
          "data": {
            "text/plain": [
              "0.012311189053656801"
            ]
          },
          "metadata": {},
          "execution_count": 51
        }
      ]
    },
    {
      "cell_type": "code",
      "metadata": {
        "id": "lohi1A1FwYE-",
        "colab": {
          "base_uri": "https://localhost:8080/"
        },
        "outputId": "27576a03-726d-4c03-ac93-12eec51c4ce2"
      },
      "source": [
        "if (p_val > alpha):\n",
        "    print(\"Null hypothesis cannot be rejected\")\n",
        "else:\n",
        "    print(\"Reject null hypothesis\")"
      ],
      "execution_count": null,
      "outputs": [
        {
          "output_type": "stream",
          "name": "stdout",
          "text": [
            "Reject null hypothesis\n"
          ]
        }
      ]
    },
    {
      "cell_type": "markdown",
      "metadata": {
        "id": "69DcbUCHwYE_"
      },
      "source": [
        "## Section 5 : Chi-Square Test"
      ]
    },
    {
      "cell_type": "markdown",
      "metadata": {
        "id": "x2jBSHBswYE_"
      },
      "source": [
        "## Example 5.1 : IQ Test\n",
        "A psychologist wishes to see if the variance in IQ of 10 of her counseling patients is less than the variance of the population, which is 225. The variance of the IQs of her 10 patients was 206. Test her claim at α = 0.05."
      ]
    },
    {
      "cell_type": "code",
      "metadata": {
        "id": "dT0XxmJRwYFA"
      },
      "source": [
        "#H0 : σ2 = 225 , Ha : σ2 < 225\n",
        "n = 10\n",
        "degrees_of_freedom = n-1\n",
        "s_square = 206\n",
        "sigma_square = 225\n",
        "alpha = 0.05"
      ],
      "execution_count": null,
      "outputs": []
    },
    {
      "cell_type": "code",
      "metadata": {
        "id": "9QyBTRk8wYFA",
        "colab": {
          "base_uri": "https://localhost:8080/"
        },
        "outputId": "b20d2b75-348e-4820-92c5-1b1d5df31c2e"
      },
      "source": [
        "chi_square = ((n-1)*s_square)/sigma_square\n",
        "chi_square"
      ],
      "execution_count": null,
      "outputs": [
        {
          "output_type": "execute_result",
          "data": {
            "text/plain": [
              "8.24"
            ]
          },
          "metadata": {},
          "execution_count": 20
        }
      ]
    },
    {
      "cell_type": "code",
      "metadata": {
        "id": "nhgKAnpdwYFA",
        "colab": {
          "base_uri": "https://localhost:8080/"
        },
        "outputId": "82aa0f59-bb93-46db-caee-be46ae7c3976"
      },
      "source": [
        "#table look up\n",
        "chi_square_critical =  st.chi2.ppf(alpha, degrees_of_freedom) #\"1-alpha\" as per Bluman's table\n",
        "chi_square_critical"
      ],
      "execution_count": null,
      "outputs": [
        {
          "output_type": "execute_result",
          "data": {
            "text/plain": [
              "3.325112843066815"
            ]
          },
          "metadata": {},
          "execution_count": 22
        }
      ]
    },
    {
      "cell_type": "code",
      "metadata": {
        "id": "sXzs0xmIwYFB",
        "colab": {
          "base_uri": "https://localhost:8080/"
        },
        "outputId": "2bc896c2-5f96-43b5-a6dc-07dbc49138ea"
      },
      "source": [
        "if (chi_square > chi_square_critical):\n",
        "    print(\"Null hypothesis cannot be rejected\")\n",
        "else:\n",
        "    print(\"Reject null hypothesis\")"
      ],
      "execution_count": null,
      "outputs": [
        {
          "output_type": "stream",
          "name": "stdout",
          "text": [
            "Null hypothesis cannot be rejected\n"
          ]
        }
      ]
    },
    {
      "cell_type": "markdown",
      "metadata": {
        "id": "1E4qTb9fwYFB"
      },
      "source": [
        "## Section 6 : Chi-Square Test using P-Value"
      ]
    },
    {
      "cell_type": "markdown",
      "metadata": {
        "id": "fzgqC-onwYFC"
      },
      "source": [
        "## Example 6.1 : Car Inspection Times\n",
        "A researcher knows from past studies that the standard deviation of the time it takes to inspect a car is 16.8 minutes. A random sample of 24 cars is selected and inspected. The standard deviation is 12.5 minutes. At α = 0.05, can it be concluded that the standard deviation has changed? Use the P-value method. Assume the variable is normally distributed. "
      ]
    },
    {
      "cell_type": "markdown",
      "metadata": {
        "id": "HyVFd4UA9RdM"
      },
      "source": [
        "----------------instead of pdf used cdf"
      ]
    },
    {
      "cell_type": "code",
      "metadata": {
        "id": "iMCnHAMGwYFD"
      },
      "source": [
        "#H0 : σ = 16.8, Ha :  σ != 16.8\n",
        "n = 24\n",
        "degrees_of_freedom = n-1\n",
        "s = 12.5\n",
        "sigma = 16.7\n",
        "alpha = 0.05"
      ],
      "execution_count": null,
      "outputs": []
    },
    {
      "cell_type": "code",
      "metadata": {
        "id": "k8b0MvRKwYFD",
        "colab": {
          "base_uri": "https://localhost:8080/"
        },
        "outputId": "55146109-994f-4c33-c8e7-c06725922e5f"
      },
      "source": [
        "chi_square = ((n-1)*(s**2))/sigma**2\n",
        "chi_square"
      ],
      "execution_count": null,
      "outputs": [
        {
          "output_type": "execute_result",
          "data": {
            "text/plain": [
              "12.885904837032522"
            ]
          },
          "metadata": {},
          "execution_count": 54
        }
      ]
    },
    {
      "cell_type": "code",
      "metadata": {
        "id": "pVQHh1RTwYFF",
        "colab": {
          "base_uri": "https://localhost:8080/"
        },
        "outputId": "01d22621-ce9c-424b-9628-e576a5b7462b"
      },
      "source": [
        "p_val = st.chi2.cdf(chi_square, degrees_of_freedom)*2\n",
        "p_val"
      ],
      "execution_count": null,
      "outputs": [
        {
          "output_type": "execute_result",
          "data": {
            "text/plain": [
              "0.09115855673359283"
            ]
          },
          "metadata": {},
          "execution_count": 55
        }
      ]
    },
    {
      "cell_type": "code",
      "metadata": {
        "id": "kJyWUAYewYFF",
        "colab": {
          "base_uri": "https://localhost:8080/"
        },
        "outputId": "eb264606-2d05-4991-c25c-ec0c0e8d74a1"
      },
      "source": [
        "if (p_val > alpha):\n",
        "    print(\"Null hypothesis cannot be rejected\")\n",
        "else:\n",
        "    print(\"Reject null hypothesis\")"
      ],
      "execution_count": null,
      "outputs": [
        {
          "output_type": "stream",
          "name": "stdout",
          "text": [
            "Null hypothesis cannot be rejected\n"
          ]
        }
      ]
    }
  ]
}